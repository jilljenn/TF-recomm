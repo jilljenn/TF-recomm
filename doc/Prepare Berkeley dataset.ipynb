{
 "cells": [
  {
   "cell_type": "code",
   "execution_count": 1,
   "metadata": {},
   "outputs": [],
   "source": [
    "import csv, json\n",
    "import pandas as pd\n",
    "import numpy as np\n",
    "from scipy.sparse import coo_matrix\n",
    "\n",
    "df = pd.read_csv('/Users/jilljenn/code/qna/data/factor-analysis-data.csv')\n",
    "qmatrix = pd.read_csv('/Users/jilljenn/code/qna/data/q-info.csv')"
   ]
  },
  {
   "cell_type": "code",
   "execution_count": 2,
   "metadata": {},
   "outputs": [
    {
     "data": {
      "text/html": [
       "<div>\n",
       "<style>\n",
       "    .dataframe thead tr:only-child th {\n",
       "        text-align: right;\n",
       "    }\n",
       "\n",
       "    .dataframe thead th {\n",
       "        text-align: left;\n",
       "    }\n",
       "\n",
       "    .dataframe tbody tr th {\n",
       "        vertical-align: top;\n",
       "    }\n",
       "</style>\n",
       "<table border=\"1\" class=\"dataframe\">\n",
       "  <thead>\n",
       "    <tr style=\"text-align: right;\">\n",
       "      <th></th>\n",
       "      <th>stu_id</th>\n",
       "      <th>q_txt_id</th>\n",
       "      <th>q_seen_timestamp</th>\n",
       "      <th>answer_timestamp</th>\n",
       "      <th>is_correct</th>\n",
       "    </tr>\n",
       "  </thead>\n",
       "  <tbody>\n",
       "    <tr>\n",
       "      <th>0</th>\n",
       "      <td>1011</td>\n",
       "      <td>1076</td>\n",
       "      <td>1472651060</td>\n",
       "      <td>1472651117</td>\n",
       "      <td>1</td>\n",
       "    </tr>\n",
       "    <tr>\n",
       "      <th>1</th>\n",
       "      <td>1011</td>\n",
       "      <td>1077</td>\n",
       "      <td>1472651117</td>\n",
       "      <td>1472651126</td>\n",
       "      <td>0</td>\n",
       "    </tr>\n",
       "    <tr>\n",
       "      <th>2</th>\n",
       "      <td>1011</td>\n",
       "      <td>1077</td>\n",
       "      <td>1472651126</td>\n",
       "      <td>1472651138</td>\n",
       "      <td>1</td>\n",
       "    </tr>\n",
       "    <tr>\n",
       "      <th>3</th>\n",
       "      <td>1011</td>\n",
       "      <td>1078</td>\n",
       "      <td>1472651138</td>\n",
       "      <td>1472651144</td>\n",
       "      <td>1</td>\n",
       "    </tr>\n",
       "    <tr>\n",
       "      <th>4</th>\n",
       "      <td>1011</td>\n",
       "      <td>1079</td>\n",
       "      <td>1472651144</td>\n",
       "      <td>1472651149</td>\n",
       "      <td>1</td>\n",
       "    </tr>\n",
       "  </tbody>\n",
       "</table>\n",
       "</div>"
      ],
      "text/plain": [
       "   stu_id  q_txt_id  q_seen_timestamp  answer_timestamp  is_correct\n",
       "0    1011      1076        1472651060        1472651117           1\n",
       "1    1011      1077        1472651117        1472651126           0\n",
       "2    1011      1077        1472651126        1472651138           1\n",
       "3    1011      1078        1472651138        1472651144           1\n",
       "4    1011      1079        1472651144        1472651149           1"
      ]
     },
     "execution_count": 2,
     "metadata": {},
     "output_type": "execute_result"
    }
   ],
   "source": [
    "df.head()"
   ]
  },
  {
   "cell_type": "code",
   "execution_count": 3,
   "metadata": {},
   "outputs": [],
   "source": [
    "students = df['stu_id'].unique()\n",
    "questions = pd.concat((df['q_txt_id'], qmatrix['q_txt_id'])).unique()\n",
    "USER_NUM = len(students)\n",
    "ITEM_NUM = len(questions)\n",
    "\n",
    "encode_stu = dict(zip(students, range(USER_NUM)))\n",
    "encode_q = dict(zip(questions, range(ITEM_NUM)))"
   ]
  },
  {
   "cell_type": "code",
   "execution_count": 4,
   "metadata": {},
   "outputs": [],
   "source": [
    "df['user_id'] = df['stu_id'].map(encode_stu)\n",
    "df['item_id'] = df['q_txt_id'].map(encode_q)"
   ]
  },
  {
   "cell_type": "code",
   "execution_count": 5,
   "metadata": {},
   "outputs": [
    {
     "data": {
      "text/html": [
       "<div>\n",
       "<style>\n",
       "    .dataframe thead tr:only-child th {\n",
       "        text-align: right;\n",
       "    }\n",
       "\n",
       "    .dataframe thead th {\n",
       "        text-align: left;\n",
       "    }\n",
       "\n",
       "    .dataframe tbody tr th {\n",
       "        vertical-align: top;\n",
       "    }\n",
       "</style>\n",
       "<table border=\"1\" class=\"dataframe\">\n",
       "  <thead>\n",
       "    <tr style=\"text-align: right;\">\n",
       "      <th></th>\n",
       "      <th>stu_id</th>\n",
       "      <th>q_txt_id</th>\n",
       "      <th>q_seen_timestamp</th>\n",
       "      <th>answer_timestamp</th>\n",
       "      <th>is_correct</th>\n",
       "      <th>user_id</th>\n",
       "      <th>item_id</th>\n",
       "    </tr>\n",
       "  </thead>\n",
       "  <tbody>\n",
       "    <tr>\n",
       "      <th>0</th>\n",
       "      <td>1011</td>\n",
       "      <td>1076</td>\n",
       "      <td>1472651060</td>\n",
       "      <td>1472651117</td>\n",
       "      <td>1</td>\n",
       "      <td>0</td>\n",
       "      <td>0</td>\n",
       "    </tr>\n",
       "    <tr>\n",
       "      <th>1</th>\n",
       "      <td>1011</td>\n",
       "      <td>1077</td>\n",
       "      <td>1472651117</td>\n",
       "      <td>1472651126</td>\n",
       "      <td>0</td>\n",
       "      <td>0</td>\n",
       "      <td>1</td>\n",
       "    </tr>\n",
       "    <tr>\n",
       "      <th>2</th>\n",
       "      <td>1011</td>\n",
       "      <td>1077</td>\n",
       "      <td>1472651126</td>\n",
       "      <td>1472651138</td>\n",
       "      <td>1</td>\n",
       "      <td>0</td>\n",
       "      <td>1</td>\n",
       "    </tr>\n",
       "    <tr>\n",
       "      <th>3</th>\n",
       "      <td>1011</td>\n",
       "      <td>1078</td>\n",
       "      <td>1472651138</td>\n",
       "      <td>1472651144</td>\n",
       "      <td>1</td>\n",
       "      <td>0</td>\n",
       "      <td>2</td>\n",
       "    </tr>\n",
       "    <tr>\n",
       "      <th>4</th>\n",
       "      <td>1011</td>\n",
       "      <td>1079</td>\n",
       "      <td>1472651144</td>\n",
       "      <td>1472651149</td>\n",
       "      <td>1</td>\n",
       "      <td>0</td>\n",
       "      <td>3</td>\n",
       "    </tr>\n",
       "  </tbody>\n",
       "</table>\n",
       "</div>"
      ],
      "text/plain": [
       "   stu_id  q_txt_id  q_seen_timestamp  answer_timestamp  is_correct  user_id  \\\n",
       "0    1011      1076        1472651060        1472651117           1        0   \n",
       "1    1011      1077        1472651117        1472651126           0        0   \n",
       "2    1011      1077        1472651126        1472651138           1        0   \n",
       "3    1011      1078        1472651138        1472651144           1        0   \n",
       "4    1011      1079        1472651144        1472651149           1        0   \n",
       "\n",
       "   item_id  \n",
       "0        0  \n",
       "1        1  \n",
       "2        1  \n",
       "3        2  \n",
       "4        3  "
      ]
     },
     "execution_count": 5,
     "metadata": {},
     "output_type": "execute_result"
    }
   ],
   "source": [
    "df.head()"
   ]
  },
  {
   "cell_type": "code",
   "execution_count": 6,
   "metadata": {},
   "outputs": [
    {
     "data": {
      "text/plain": [
       "246"
      ]
     },
     "execution_count": 6,
     "metadata": {},
     "output_type": "execute_result"
    }
   ],
   "source": [
    "len(questions)"
   ]
  },
  {
   "cell_type": "markdown",
   "metadata": {},
   "source": [
    "# QMatrix"
   ]
  },
  {
   "cell_type": "code",
   "execution_count": 7,
   "metadata": {},
   "outputs": [
    {
     "data": {
      "text/html": [
       "<div>\n",
       "<style>\n",
       "    .dataframe thead tr:only-child th {\n",
       "        text-align: right;\n",
       "    }\n",
       "\n",
       "    .dataframe thead th {\n",
       "        text-align: left;\n",
       "    }\n",
       "\n",
       "    .dataframe tbody tr th {\n",
       "        vertical-align: top;\n",
       "    }\n",
       "</style>\n",
       "<table border=\"1\" class=\"dataframe\">\n",
       "  <thead>\n",
       "    <tr style=\"text-align: right;\">\n",
       "      <th></th>\n",
       "      <th>qset_id</th>\n",
       "      <th>q_txt_id</th>\n",
       "    </tr>\n",
       "  </thead>\n",
       "  <tbody>\n",
       "    <tr>\n",
       "      <th>0</th>\n",
       "      <td>3</td>\n",
       "      <td>1070</td>\n",
       "    </tr>\n",
       "    <tr>\n",
       "      <th>1</th>\n",
       "      <td>3</td>\n",
       "      <td>1071</td>\n",
       "    </tr>\n",
       "    <tr>\n",
       "      <th>2</th>\n",
       "      <td>3</td>\n",
       "      <td>1072</td>\n",
       "    </tr>\n",
       "    <tr>\n",
       "      <th>3</th>\n",
       "      <td>3</td>\n",
       "      <td>1073</td>\n",
       "    </tr>\n",
       "    <tr>\n",
       "      <th>4</th>\n",
       "      <td>3</td>\n",
       "      <td>1074</td>\n",
       "    </tr>\n",
       "  </tbody>\n",
       "</table>\n",
       "</div>"
      ],
      "text/plain": [
       "   qset_id  q_txt_id\n",
       "0        3      1070\n",
       "1        3      1071\n",
       "2        3      1072\n",
       "3        3      1073\n",
       "4        3      1074"
      ]
     },
     "execution_count": 7,
     "metadata": {},
     "output_type": "execute_result"
    }
   ],
   "source": [
    "qmatrix.head()"
   ]
  },
  {
   "cell_type": "code",
   "execution_count": 8,
   "metadata": {},
   "outputs": [],
   "source": [
    "skills = qmatrix['qset_id'].unique()\n",
    "SKILL_NUM = len(skills)\n",
    "encode_skill = dict(zip(skills, range(SKILL_NUM)))\n",
    "\n",
    "qmatrix['item_id'] = qmatrix['q_txt_id'].map(encode_q)\n",
    "qmatrix['skill_id'] = qmatrix['qset_id'].map(encode_skill)"
   ]
  },
  {
   "cell_type": "code",
   "execution_count": 9,
   "metadata": {},
   "outputs": [
    {
     "data": {
      "text/html": [
       "<div>\n",
       "<style>\n",
       "    .dataframe thead tr:only-child th {\n",
       "        text-align: right;\n",
       "    }\n",
       "\n",
       "    .dataframe thead th {\n",
       "        text-align: left;\n",
       "    }\n",
       "\n",
       "    .dataframe tbody tr th {\n",
       "        vertical-align: top;\n",
       "    }\n",
       "</style>\n",
       "<table border=\"1\" class=\"dataframe\">\n",
       "  <thead>\n",
       "    <tr style=\"text-align: right;\">\n",
       "      <th></th>\n",
       "      <th>qset_id</th>\n",
       "      <th>q_txt_id</th>\n",
       "      <th>item_id</th>\n",
       "      <th>skill_id</th>\n",
       "    </tr>\n",
       "  </thead>\n",
       "  <tbody>\n",
       "    <tr>\n",
       "      <th>0</th>\n",
       "      <td>3</td>\n",
       "      <td>1070</td>\n",
       "      <td>14</td>\n",
       "      <td>0</td>\n",
       "    </tr>\n",
       "    <tr>\n",
       "      <th>1</th>\n",
       "      <td>3</td>\n",
       "      <td>1071</td>\n",
       "      <td>15</td>\n",
       "      <td>0</td>\n",
       "    </tr>\n",
       "    <tr>\n",
       "      <th>2</th>\n",
       "      <td>3</td>\n",
       "      <td>1072</td>\n",
       "      <td>16</td>\n",
       "      <td>0</td>\n",
       "    </tr>\n",
       "    <tr>\n",
       "      <th>3</th>\n",
       "      <td>3</td>\n",
       "      <td>1073</td>\n",
       "      <td>17</td>\n",
       "      <td>0</td>\n",
       "    </tr>\n",
       "    <tr>\n",
       "      <th>4</th>\n",
       "      <td>3</td>\n",
       "      <td>1074</td>\n",
       "      <td>18</td>\n",
       "      <td>0</td>\n",
       "    </tr>\n",
       "  </tbody>\n",
       "</table>\n",
       "</div>"
      ],
      "text/plain": [
       "   qset_id  q_txt_id  item_id  skill_id\n",
       "0        3      1070       14         0\n",
       "1        3      1071       15         0\n",
       "2        3      1072       16         0\n",
       "3        3      1073       17         0\n",
       "4        3      1074       18         0"
      ]
     },
     "execution_count": 9,
     "metadata": {},
     "output_type": "execute_result"
    }
   ],
   "source": [
    "qmatrix.head()"
   ]
  },
  {
   "cell_type": "code",
   "execution_count": 10,
   "metadata": {},
   "outputs": [],
   "source": [
    "rows = qmatrix['item_id']\n",
    "cols = qmatrix['skill_id']\n",
    "sp_qmatrix = coo_matrix(([1] * ITEM_NUM, (rows, cols)), shape=(ITEM_NUM, SKILL_NUM)).tocsr()"
   ]
  },
  {
   "cell_type": "code",
   "execution_count": 11,
   "metadata": {},
   "outputs": [],
   "source": [
    "from scipy.sparse import save_npz\n",
    "import os.path\n",
    "\n",
    "DATA_DIR = '/Users/jilljenn/code/TF-recomm/data/berkeley0/'\n",
    "save_npz(os.path.join(DATA_DIR, 'qmatrix.npz'), sp_qmatrix)"
   ]
  },
  {
   "cell_type": "markdown",
   "metadata": {},
   "source": [
    "# Number of attempts"
   ]
  },
  {
   "cell_type": "code",
   "execution_count": 12,
   "metadata": {},
   "outputs": [
    {
     "data": {
      "text/plain": [
       "0"
      ]
     },
     "execution_count": 12,
     "metadata": {},
     "output_type": "execute_result"
    }
   ],
   "source": [
    "sp_qmatrix[14].indices[0]"
   ]
  },
  {
   "cell_type": "code",
   "execution_count": 17,
   "metadata": {},
   "outputs": [],
   "source": [
    "from collections import Counter\n",
    "\n",
    "acc_wins = Counter()\n",
    "acc_fails = Counter()\n",
    "nb_wins = []\n",
    "nb_fails = []\n",
    "for user_id, work_id, outcome in np.array(df[['user_id', 'item_id', 'is_correct']]):\n",
    "    skill_id = sp_qmatrix[work_id].indices[0]\n",
    "    nb_wins.append(acc_wins[user_id, skill_id])\n",
    "    nb_fails.append(acc_fails[user_id, skill_id])\n",
    "    if outcome == 1:\n",
    "        acc_wins[user_id, skill_id] += 1\n",
    "    else:\n",
    "        acc_fails[user_id, skill_id] += 1"
   ]
  },
  {
   "cell_type": "code",
   "execution_count": 18,
   "metadata": {},
   "outputs": [],
   "source": [
    "df['nb_wins'] = nb_wins\n",
    "df['nb_fails'] = nb_fails"
   ]
  },
  {
   "cell_type": "code",
   "execution_count": 19,
   "metadata": {},
   "outputs": [
    {
     "data": {
      "text/html": [
       "<div>\n",
       "<style>\n",
       "    .dataframe thead tr:only-child th {\n",
       "        text-align: right;\n",
       "    }\n",
       "\n",
       "    .dataframe thead th {\n",
       "        text-align: left;\n",
       "    }\n",
       "\n",
       "    .dataframe tbody tr th {\n",
       "        vertical-align: top;\n",
       "    }\n",
       "</style>\n",
       "<table border=\"1\" class=\"dataframe\">\n",
       "  <thead>\n",
       "    <tr style=\"text-align: right;\">\n",
       "      <th></th>\n",
       "      <th>stu_id</th>\n",
       "      <th>q_txt_id</th>\n",
       "      <th>q_seen_timestamp</th>\n",
       "      <th>answer_timestamp</th>\n",
       "      <th>is_correct</th>\n",
       "      <th>user_id</th>\n",
       "      <th>item_id</th>\n",
       "      <th>wins</th>\n",
       "      <th>fails</th>\n",
       "    </tr>\n",
       "  </thead>\n",
       "  <tbody>\n",
       "    <tr>\n",
       "      <th>0</th>\n",
       "      <td>1011</td>\n",
       "      <td>1076</td>\n",
       "      <td>1472651060</td>\n",
       "      <td>1472651117</td>\n",
       "      <td>1</td>\n",
       "      <td>0</td>\n",
       "      <td>0</td>\n",
       "      <td>0.0</td>\n",
       "      <td>0.0</td>\n",
       "    </tr>\n",
       "    <tr>\n",
       "      <th>1</th>\n",
       "      <td>1011</td>\n",
       "      <td>1077</td>\n",
       "      <td>1472651117</td>\n",
       "      <td>1472651126</td>\n",
       "      <td>0</td>\n",
       "      <td>0</td>\n",
       "      <td>1</td>\n",
       "      <td>0.0</td>\n",
       "      <td>0.0</td>\n",
       "    </tr>\n",
       "    <tr>\n",
       "      <th>2</th>\n",
       "      <td>1011</td>\n",
       "      <td>1077</td>\n",
       "      <td>1472651126</td>\n",
       "      <td>1472651138</td>\n",
       "      <td>1</td>\n",
       "      <td>0</td>\n",
       "      <td>1</td>\n",
       "      <td>0.0</td>\n",
       "      <td>1.0</td>\n",
       "    </tr>\n",
       "    <tr>\n",
       "      <th>3</th>\n",
       "      <td>1011</td>\n",
       "      <td>1078</td>\n",
       "      <td>1472651138</td>\n",
       "      <td>1472651144</td>\n",
       "      <td>1</td>\n",
       "      <td>0</td>\n",
       "      <td>2</td>\n",
       "      <td>0.0</td>\n",
       "      <td>0.0</td>\n",
       "    </tr>\n",
       "    <tr>\n",
       "      <th>4</th>\n",
       "      <td>1011</td>\n",
       "      <td>1079</td>\n",
       "      <td>1472651144</td>\n",
       "      <td>1472651149</td>\n",
       "      <td>1</td>\n",
       "      <td>0</td>\n",
       "      <td>3</td>\n",
       "      <td>0.0</td>\n",
       "      <td>0.0</td>\n",
       "    </tr>\n",
       "  </tbody>\n",
       "</table>\n",
       "</div>"
      ],
      "text/plain": [
       "   stu_id  q_txt_id  q_seen_timestamp  answer_timestamp  is_correct  user_id  \\\n",
       "0    1011      1076        1472651060        1472651117           1        0   \n",
       "1    1011      1077        1472651117        1472651126           0        0   \n",
       "2    1011      1077        1472651126        1472651138           1        0   \n",
       "3    1011      1078        1472651138        1472651144           1        0   \n",
       "4    1011      1079        1472651144        1472651149           1        0   \n",
       "\n",
       "   item_id  wins  fails  \n",
       "0        0   0.0    0.0  \n",
       "1        1   0.0    0.0  \n",
       "2        1   0.0    1.0  \n",
       "3        2   0.0    0.0  \n",
       "4        3   0.0    0.0  "
      ]
     },
     "execution_count": 19,
     "metadata": {},
     "output_type": "execute_result"
    }
   ],
   "source": [
    "df.head()"
   ]
  },
  {
   "cell_type": "code",
   "execution_count": 21,
   "metadata": {},
   "outputs": [
    {
     "data": {
      "text/plain": [
       "562201"
      ]
     },
     "execution_count": 21,
     "metadata": {},
     "output_type": "execute_result"
    }
   ],
   "source": [
    "len(df)"
   ]
  },
  {
   "cell_type": "code",
   "execution_count": 14,
   "metadata": {},
   "outputs": [],
   "source": [
    "import numpy as np\n",
    "\n",
    "nb_users = len(encode_stu) # 2\n",
    "nb_items = len(encode_q) # 3\n",
    "nb_skills = len(encode_skill) # 3\n",
    "count_item_wins = np.zeros((nb_users, nb_items))\n",
    "count_item_fails = np.zeros((nb_users, nb_items))\n",
    "count_skill_wins = np.zeros((nb_users, nb_skills))\n",
    "count_skill_fails = np.zeros((nb_users, nb_skills))\n",
    "all_skill_wins = []\n",
    "all_skill_fails = []\n",
    "all_item_wins = []\n",
    "all_item_fails = []\n",
    "for user_id, item_id, outcome in np.array(df[['user_id', 'item_id', 'is_correct']]):\n",
    "    skill_ids = sp_qmatrix[item_id]\n",
    "    \n",
    "    item_wins = count_item_wins[user_id, item_id]\n",
    "    item_fails = count_item_fails[user_id, item_id]\n",
    "    all_item_wins.append(item_wins)\n",
    "    all_item_fails.append(item_fails)\n",
    "    \n",
    "    skill_wins = skill_ids.multiply(count_skill_wins[user_id])\n",
    "    skill_fails = skill_ids.multiply(count_skill_fails[user_id])\n",
    "    all_skill_wins.append(skill_wins)\n",
    "    all_skill_fails.append(skill_fails)\n",
    "    if outcome == 1:\n",
    "        count_item_wins[user_id, item_id] += 1\n",
    "        count_skill_wins[user_id, skill_ids.indices] += 1\n",
    "    else:\n",
    "        count_item_fails[user_id, item_id] += 1\n",
    "        count_skill_fails[user_id, skill_ids.indices] += 1"
   ]
  },
  {
   "cell_type": "code",
   "execution_count": 15,
   "metadata": {},
   "outputs": [],
   "source": [
    "df['wins'] = all_item_wins\n",
    "df['fails'] = all_item_fails"
   ]
  },
  {
   "cell_type": "code",
   "execution_count": 16,
   "metadata": {},
   "outputs": [],
   "source": [
    "df[['user_id', 'item_id', 'is_correct', 'wins', 'fails']].to_csv('/Users/jilljenn/code/TF-recomm/data/berkeley0/all.csv', index=False, header=False)"
   ]
  },
  {
   "cell_type": "code",
   "execution_count": 17,
   "metadata": {},
   "outputs": [
    {
     "data": {
      "text/plain": [
       "(562201, 29)"
      ]
     },
     "execution_count": 17,
     "metadata": {},
     "output_type": "execute_result"
    }
   ],
   "source": [
    "from scipy.sparse import vstack\n",
    "\n",
    "skill_wins = vstack(all_skill_wins).tocsr()\n",
    "save_npz('/Users/jilljenn/code/TF-recomm/data/berkeley0/skill_wins.npz', skill_wins)\n",
    "skill_wins.shape"
   ]
  },
  {
   "cell_type": "code",
   "execution_count": 18,
   "metadata": {},
   "outputs": [
    {
     "data": {
      "text/plain": [
       "(562201, 29)"
      ]
     },
     "execution_count": 18,
     "metadata": {},
     "output_type": "execute_result"
    }
   ],
   "source": [
    "skill_fails = vstack(all_skill_fails).tocsr()\n",
    "save_npz('/Users/jilljenn/code/TF-recomm/data/berkeley0/skill_fails.npz', skill_fails)\n",
    "skill_fails.shape"
   ]
  },
  {
   "cell_type": "markdown",
   "metadata": {},
   "source": [
    "# Cross-validation"
   ]
  },
  {
   "cell_type": "code",
   "execution_count": 20,
   "metadata": {},
   "outputs": [],
   "source": [
    "from sklearn.model_selection import train_test_split\n",
    "\n",
    "train, test = train_test_split(df[['user_id', 'item_id', 'is_correct', 'nb_wins', 'nb_fails']], test_size=0.2)"
   ]
  },
  {
   "cell_type": "code",
   "execution_count": 21,
   "metadata": {},
   "outputs": [
    {
     "data": {
      "text/plain": [
       "(449760, 112441)"
      ]
     },
     "execution_count": 21,
     "metadata": {},
     "output_type": "execute_result"
    }
   ],
   "source": [
    "len(train), len(test)"
   ]
  },
  {
   "cell_type": "code",
   "execution_count": 22,
   "metadata": {},
   "outputs": [],
   "source": [
    "train.to_csv(os.path.join(DATA_DIR, 'train.csv'), header=False, index=False)\n",
    "test.to_csv(os.path.join(DATA_DIR, 'val.csv'), header=False, index=False)\n",
    "test.to_csv(os.path.join(DATA_DIR, 'test.csv'), header=False, index=False)"
   ]
  },
  {
   "cell_type": "code",
   "execution_count": 23,
   "metadata": {},
   "outputs": [],
   "source": [
    "import yaml\n",
    "\n",
    "with open(os.path.join(DATA_DIR, 'config.yml'), 'w') as f:\n",
    "    config = {\n",
    "        'USER_NUM': USER_NUM,\n",
    "        'ITEM_NUM': ITEM_NUM,\n",
    "        'NB_CLASSES': 2,\n",
    "        'BATCH_SIZE': 0\n",
    "    }\n",
    "    f.write(yaml.dump(config, default_flow_style=False))"
   ]
  }
 ],
 "metadata": {
  "kernelspec": {
   "display_name": "Python 3",
   "language": "python",
   "name": "python3"
  },
  "language_info": {
   "codemirror_mode": {
    "name": "ipython",
    "version": 3
   },
   "file_extension": ".py",
   "mimetype": "text/x-python",
   "name": "python",
   "nbconvert_exporter": "python",
   "pygments_lexer": "ipython3",
   "version": "3.6.4"
  }
 },
 "nbformat": 4,
 "nbformat_minor": 2
}
