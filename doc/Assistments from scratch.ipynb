{
 "cells": [
  {
   "cell_type": "code",
   "execution_count": 2,
   "metadata": {},
   "outputs": [],
   "source": [
    "import pandas as pd"
   ]
  },
  {
   "cell_type": "code",
   "execution_count": 216,
   "metadata": {},
   "outputs": [],
   "source": [
    "df = pd.read_csv('/Users/jilljenn/code/TF-recomm/data/skill_builder_data_corrected.csv', engine='python').sort_values('order_id').reset_index()"
   ]
  },
  {
   "cell_type": "code",
   "execution_count": 217,
   "metadata": {},
   "outputs": [
    {
     "data": {
      "text/html": [
       "<div>\n",
       "<style scoped>\n",
       "    .dataframe tbody tr th:only-of-type {\n",
       "        vertical-align: middle;\n",
       "    }\n",
       "\n",
       "    .dataframe tbody tr th {\n",
       "        vertical-align: top;\n",
       "    }\n",
       "\n",
       "    .dataframe thead th {\n",
       "        text-align: right;\n",
       "    }\n",
       "</style>\n",
       "<table border=\"1\" class=\"dataframe\">\n",
       "  <thead>\n",
       "    <tr style=\"text-align: right;\">\n",
       "      <th></th>\n",
       "      <th>index</th>\n",
       "      <th>order_id</th>\n",
       "      <th>assignment_id</th>\n",
       "      <th>user_id</th>\n",
       "      <th>assistment_id</th>\n",
       "      <th>problem_id</th>\n",
       "      <th>original</th>\n",
       "      <th>correct</th>\n",
       "      <th>attempt_count</th>\n",
       "      <th>ms_first_response</th>\n",
       "      <th>...</th>\n",
       "      <th>hint_count</th>\n",
       "      <th>hint_total</th>\n",
       "      <th>overlap_time</th>\n",
       "      <th>template_id</th>\n",
       "      <th>answer_id</th>\n",
       "      <th>answer_text</th>\n",
       "      <th>first_action</th>\n",
       "      <th>bottom_hint</th>\n",
       "      <th>opportunity</th>\n",
       "      <th>opportunity_original</th>\n",
       "    </tr>\n",
       "  </thead>\n",
       "  <tbody>\n",
       "    <tr>\n",
       "      <th>0</th>\n",
       "      <td>274929</td>\n",
       "      <td>20224085</td>\n",
       "      <td>232368</td>\n",
       "      <td>73963</td>\n",
       "      <td>42904</td>\n",
       "      <td>76429</td>\n",
       "      <td>0</td>\n",
       "      <td>0</td>\n",
       "      <td>3</td>\n",
       "      <td>106016</td>\n",
       "      <td>...</td>\n",
       "      <td>0</td>\n",
       "      <td>0</td>\n",
       "      <td>112313</td>\n",
       "      <td>31690</td>\n",
       "      <td>128739.0</td>\n",
       "      <td>NaN</td>\n",
       "      <td>0</td>\n",
       "      <td>NaN</td>\n",
       "      <td>1</td>\n",
       "      <td>NaN</td>\n",
       "    </tr>\n",
       "    <tr>\n",
       "      <th>1</th>\n",
       "      <td>274930</td>\n",
       "      <td>20224095</td>\n",
       "      <td>232368</td>\n",
       "      <td>73963</td>\n",
       "      <td>42904</td>\n",
       "      <td>76430</td>\n",
       "      <td>0</td>\n",
       "      <td>1</td>\n",
       "      <td>1</td>\n",
       "      <td>194187</td>\n",
       "      <td>...</td>\n",
       "      <td>0</td>\n",
       "      <td>0</td>\n",
       "      <td>194187</td>\n",
       "      <td>31690</td>\n",
       "      <td>128742.0</td>\n",
       "      <td>NaN</td>\n",
       "      <td>0</td>\n",
       "      <td>NaN</td>\n",
       "      <td>2</td>\n",
       "      <td>NaN</td>\n",
       "    </tr>\n",
       "    <tr>\n",
       "      <th>2</th>\n",
       "      <td>274931</td>\n",
       "      <td>20224113</td>\n",
       "      <td>232368</td>\n",
       "      <td>73963</td>\n",
       "      <td>42904</td>\n",
       "      <td>76431</td>\n",
       "      <td>0</td>\n",
       "      <td>1</td>\n",
       "      <td>1</td>\n",
       "      <td>12734</td>\n",
       "      <td>...</td>\n",
       "      <td>0</td>\n",
       "      <td>2</td>\n",
       "      <td>12734</td>\n",
       "      <td>31690</td>\n",
       "      <td>NaN</td>\n",
       "      <td>35</td>\n",
       "      <td>0</td>\n",
       "      <td>NaN</td>\n",
       "      <td>3</td>\n",
       "      <td>NaN</td>\n",
       "    </tr>\n",
       "    <tr>\n",
       "      <th>3</th>\n",
       "      <td>274932</td>\n",
       "      <td>20224123</td>\n",
       "      <td>232368</td>\n",
       "      <td>73963</td>\n",
       "      <td>42904</td>\n",
       "      <td>76432</td>\n",
       "      <td>0</td>\n",
       "      <td>1</td>\n",
       "      <td>1</td>\n",
       "      <td>333484</td>\n",
       "      <td>...</td>\n",
       "      <td>0</td>\n",
       "      <td>1</td>\n",
       "      <td>333484</td>\n",
       "      <td>31690</td>\n",
       "      <td>128750.0</td>\n",
       "      <td>NaN</td>\n",
       "      <td>0</td>\n",
       "      <td>NaN</td>\n",
       "      <td>4</td>\n",
       "      <td>NaN</td>\n",
       "    </tr>\n",
       "    <tr>\n",
       "      <th>4</th>\n",
       "      <td>274933</td>\n",
       "      <td>20224142</td>\n",
       "      <td>232368</td>\n",
       "      <td>73963</td>\n",
       "      <td>42904</td>\n",
       "      <td>76433</td>\n",
       "      <td>0</td>\n",
       "      <td>0</td>\n",
       "      <td>2</td>\n",
       "      <td>52828</td>\n",
       "      <td>...</td>\n",
       "      <td>2</td>\n",
       "      <td>2</td>\n",
       "      <td>65203</td>\n",
       "      <td>31690</td>\n",
       "      <td>NaN</td>\n",
       "      <td>2.5</td>\n",
       "      <td>0</td>\n",
       "      <td>1.0</td>\n",
       "      <td>5</td>\n",
       "      <td>NaN</td>\n",
       "    </tr>\n",
       "  </tbody>\n",
       "</table>\n",
       "<p>5 rows × 31 columns</p>\n",
       "</div>"
      ],
      "text/plain": [
       "    index  order_id  assignment_id  user_id  assistment_id  problem_id  \\\n",
       "0  274929  20224085         232368    73963          42904       76429   \n",
       "1  274930  20224095         232368    73963          42904       76430   \n",
       "2  274931  20224113         232368    73963          42904       76431   \n",
       "3  274932  20224123         232368    73963          42904       76432   \n",
       "4  274933  20224142         232368    73963          42904       76433   \n",
       "\n",
       "   original  correct  attempt_count  ms_first_response          ...           \\\n",
       "0         0        0              3             106016          ...            \n",
       "1         0        1              1             194187          ...            \n",
       "2         0        1              1              12734          ...            \n",
       "3         0        1              1             333484          ...            \n",
       "4         0        0              2              52828          ...            \n",
       "\n",
       "  hint_count hint_total  overlap_time  template_id  answer_id answer_text  \\\n",
       "0          0          0        112313        31690   128739.0         NaN   \n",
       "1          0          0        194187        31690   128742.0         NaN   \n",
       "2          0          2         12734        31690        NaN          35   \n",
       "3          0          1        333484        31690   128750.0         NaN   \n",
       "4          2          2         65203        31690        NaN         2.5   \n",
       "\n",
       "   first_action  bottom_hint opportunity  opportunity_original  \n",
       "0             0          NaN           1                   NaN  \n",
       "1             0          NaN           2                   NaN  \n",
       "2             0          NaN           3                   NaN  \n",
       "3             0          NaN           4                   NaN  \n",
       "4             0          1.0           5                   NaN  \n",
       "\n",
       "[5 rows x 31 columns]"
      ]
     },
     "execution_count": 217,
     "metadata": {},
     "output_type": "execute_result"
    }
   ],
   "source": [
    "df.head()"
   ]
  },
  {
   "cell_type": "code",
   "execution_count": 218,
   "metadata": {},
   "outputs": [],
   "source": [
    "df = df.drop_duplicates(['order_id'])"
   ]
  },
  {
   "cell_type": "code",
   "execution_count": 219,
   "metadata": {},
   "outputs": [
    {
     "data": {
      "text/plain": [
       "(346860, 31)"
      ]
     },
     "execution_count": 219,
     "metadata": {},
     "output_type": "execute_result"
    }
   ],
   "source": [
    "df.shape"
   ]
  },
  {
   "cell_type": "code",
   "execution_count": 204,
   "metadata": {},
   "outputs": [],
   "source": [
    "test = pd.read_csv('/Users/jilljenn/code/TF-recomm/data/assistments42/all.csv', header=None, names='abcde')['c']"
   ]
  },
  {
   "cell_type": "code",
   "execution_count": 205,
   "metadata": {},
   "outputs": [
    {
     "data": {
      "text/plain": [
       "((346860,), (346860,))"
      ]
     },
     "execution_count": 205,
     "metadata": {},
     "output_type": "execute_result"
    }
   ],
   "source": [
    "test.shape, test2.shape"
   ]
  },
  {
   "cell_type": "code",
   "execution_count": 208,
   "metadata": {},
   "outputs": [
    {
     "data": {
      "text/plain": [
       "True"
      ]
     },
     "execution_count": 208,
     "metadata": {},
     "output_type": "execute_result"
    }
   ],
   "source": [
    "all(np.array(test) == np.array(test2))"
   ]
  },
  {
   "cell_type": "code",
   "execution_count": 187,
   "metadata": {},
   "outputs": [
    {
     "data": {
      "text/plain": [
       "(346860,)"
      ]
     },
     "execution_count": 187,
     "metadata": {},
     "output_type": "execute_result"
    }
   ],
   "source": [
    "test.shape"
   ]
  },
  {
   "cell_type": "code",
   "execution_count": 191,
   "metadata": {},
   "outputs": [
    {
     "data": {
      "text/plain": [
       "(346860, 27057)"
      ]
     },
     "execution_count": 191,
     "metadata": {},
     "output_type": "execute_result"
    }
   ],
   "source": [
    "from scipy.sparse import load_npz\n",
    "\n",
    "load_npz('/Users/jilljenn/code/TF-recomm/data/assistments42/iswf0/X.npz').shape"
   ]
  },
  {
   "cell_type": "code",
   "execution_count": 192,
   "metadata": {},
   "outputs": [
    {
     "data": {
      "text/plain": [
       "(346860, 123)"
      ]
     },
     "execution_count": 192,
     "metadata": {},
     "output_type": "execute_result"
    }
   ],
   "source": [
    "from scipy.sparse import load_npz\n",
    "\n",
    "load_npz('/Users/jilljenn/code/TF-recomm/data/assistments42/skill_wins.npz').shape"
   ]
  },
  {
   "cell_type": "code",
   "execution_count": 4,
   "metadata": {},
   "outputs": [
    {
     "data": {
      "text/plain": [
       "(401756, 346860)"
      ]
     },
     "execution_count": 4,
     "metadata": {},
     "output_type": "execute_result"
    }
   ],
   "source": [
    "len(df), len(df['order_id'].unique())"
   ]
  },
  {
   "cell_type": "code",
   "execution_count": 94,
   "metadata": {},
   "outputs": [
    {
     "data": {
      "text/plain": [
       "4217"
      ]
     },
     "execution_count": 94,
     "metadata": {},
     "output_type": "execute_result"
    }
   ],
   "source": [
    "len(set(df['user_id']))"
   ]
  },
  {
   "cell_type": "code",
   "execution_count": 166,
   "metadata": {},
   "outputs": [
    {
     "data": {
      "text/plain": [
       "26688"
      ]
     },
     "execution_count": 166,
     "metadata": {},
     "output_type": "execute_result"
    }
   ],
   "source": [
    "len(set(df['problem_id']))"
   ]
  },
  {
   "cell_type": "code",
   "execution_count": 10,
   "metadata": {},
   "outputs": [
    {
     "name": "stdout",
     "output_type": "stream",
     "text": [
      "order_id 5000 [22134784, 22134786, 33775619, 38273030, 35397639]\n",
      "assignment_id 73 [220674, 281861, 274949, 283276, 272398]\n",
      "user_id 576 [96256, 96257, 96258, 96259, 96260]\n",
      "assistment_id 388 [37055, 37057, 37060, 37061, 37064]\n",
      "problem_id 388 [47105, 47108, 47111, 47114, 47117]\n",
      "original 1 [1]\n",
      "correct 2 [0, 1]\n",
      "attempt_count 25 [0, 1, 2, 3, 4]\n",
      "ms_first_response 3870 [8195, 16391, 8200, 57353, 32776]\n",
      "tutor_mode 2 ['tutor', 'test']\n",
      "answer_type 1 ['algebra']\n",
      "sequence_id 18 [7200, 6850, 5916, 6343, 6344]\n",
      "student_class_id 40 [13577, 12939, 13842, 12437, 12438]\n",
      "position 46 [128, 1, 2, 3, 4]\n",
      "type 1 ['MasterySection']\n",
      "base_sequence_id 14 [7200, 6850, 5916, 6343, 6344]\n",
      "skill_id 2 [1.0, 2.0]\n",
      "skill_name 2 ['Circle Graph', 'Box and Whisker']\n",
      "teacher_id 24 [48003, 28420, 24455, 59912, 60430]\n",
      "school_id 22 [1, 5256, 1689, 5402, 5413]\n",
      "hint_count 5 [0, 1, 2, 3, 4]\n",
      "hint_total 6 [0, 2, 3, 4, 6]\n",
      "overlap_time 3904 [8195, 16391, 8200, 57353, 32778]\n",
      "template_id 13 [30790, 30059, 30060, 30799, 30037]\n",
      "answer_id 5000 [nan, nan, nan, nan, nan]\n",
      "answer_text 259 [nan, '36.5', '70.5', '76', '60']\n",
      "first_action 3 [0, 1, 2]\n",
      "bottom_hint 4109 [nan, nan, 0.0, nan, nan]\n",
      "opportunity 71 [1, 2, 3, 4, 5]\n",
      "opportunity_original 71 [1.0, 2.0, 3.0, 4.0, 5.0]\n"
     ]
    }
   ],
   "source": [
    "for key in df:\n",
    "    print(key, len(set(list(df.iloc[:5000][key]))), list(set(df.iloc[:5000][key]))[:5])"
   ]
  },
  {
   "cell_type": "code",
   "execution_count": 97,
   "metadata": {},
   "outputs": [
    {
     "data": {
      "text/plain": [
       "346860"
      ]
     },
     "execution_count": 97,
     "metadata": {},
     "output_type": "execute_result"
    }
   ],
   "source": [
    "len(encode_row)"
   ]
  },
  {
   "cell_type": "code",
   "execution_count": 99,
   "metadata": {},
   "outputs": [
    {
     "data": {
      "text/plain": [
       "317003"
      ]
     },
     "execution_count": 99,
     "metadata": {},
     "output_type": "execute_result"
    }
   ],
   "source": [
    "len(encode_col)"
   ]
  },
  {
   "cell_type": "code",
   "execution_count": 165,
   "metadata": {},
   "outputs": [],
   "source": [
    "with open('lololol.txt', 'w') as f:\n",
    "    features = []\n",
    "    for feature in sorted(encode_col):\n",
    "        f.write(feature + '\\n')"
   ]
  },
  {
   "cell_type": "code",
   "execution_count": 209,
   "metadata": {},
   "outputs": [],
   "source": [
    "interesting_count = {'attempt_count', 'hint_count', 'opportunity', 'opportunity_original'}\n",
    "interesting = {}\n",
    "interesting['giga'] = set(list(df.keys())) - {'order_id', 'ms_first_response', 'type', 'skill_name', 'overlap_time', 'answer_id', 'bottom_hint', 'correct', 'answer_text', 'user_id'} - interesting_count\n",
    "interesting['kilo'] = {'first_action', 'problem_id', 'school_id', 'teacher_id', 'skill_id', 'tutor_mode'}\n",
    "interesting['kiloboss'] = {'first_action', 'school_id', 'teacher_id', 'tutor_mode'}"
   ]
  },
  {
   "cell_type": "code",
   "execution_count": 210,
   "metadata": {},
   "outputs": [
    {
     "data": {
      "text/plain": [
       "401756"
      ]
     },
     "execution_count": 210,
     "metadata": {},
     "output_type": "execute_result"
    }
   ],
   "source": [
    "len(df)"
   ]
  },
  {
   "cell_type": "code",
   "execution_count": 211,
   "metadata": {},
   "outputs": [
    {
     "name": "stdout",
     "output_type": "stream",
     "text": [
      "401756\n"
     ]
    },
    {
     "data": {
      "text/plain": [
       "(31, nan)"
      ]
     },
     "execution_count": 211,
     "metadata": {},
     "output_type": "execute_result"
    }
   ],
   "source": [
    "stuff = np.array(df['skill_id'])\n",
    "print(len(stuff))\n",
    "shit = [(i, x) for i, x in enumerate(stuff) if x != x]\n",
    "shit[0]"
   ]
  },
  {
   "cell_type": "code",
   "execution_count": 213,
   "metadata": {},
   "outputs": [
    {
     "data": {
      "text/plain": [
       "True"
      ]
     },
     "execution_count": 213,
     "metadata": {},
     "output_type": "execute_result"
    }
   ],
   "source": [
    "np.isnan(shit[0][1])"
   ]
  },
  {
   "cell_type": "code",
   "execution_count": 220,
   "metadata": {},
   "outputs": [
    {
     "name": "stdout",
     "output_type": "stream",
     "text": [
      "0.24897980690002441 0\n",
      "4.838895082473755 50000\n",
      "14.375669956207275 150000\n",
      "18.64182186126709 200000\n",
      "23.708232879638672 250000\n",
      "28.941997051239014 300000\n",
      "33.704636096954346 350000\n",
      "39.20953702926636 400000\n",
      "1387440\n",
      "1387440\n"
     ]
    },
    {
     "data": {
      "text/plain": [
       "'Built 346860 x 233 (1387440 entries) in 39.420 s'"
      ]
     },
     "execution_count": 220,
     "metadata": {},
     "output_type": "execute_result"
    }
   ],
   "source": [
    "from time import time\n",
    "dt = time()\n",
    "\n",
    "TOP = 1000000\n",
    "rows = []\n",
    "encode_row = {}\n",
    "cols = []\n",
    "encode_col = {}\n",
    "data = []\n",
    "nb_rows = 0\n",
    "nb_cols = 0\n",
    "\n",
    "def col_encoder(col_id):\n",
    "    global nb_cols\n",
    "    k, v = col_id\n",
    "    col_hash = '{:s}={:s}'.format(k, str(v))\n",
    "    #try:\n",
    "    #    col_hash = '{:s}={:d}'.format(k, int(v))\n",
    "    #except:\n",
    "    #    col_hash = '{:s}={:s}'.format(k, v)\n",
    "    if col_hash not in encode_col:\n",
    "        encode_col[col_hash] = nb_cols\n",
    "        nb_cols += 1\n",
    "    return encode_col[col_hash]\n",
    "\n",
    "def add_entry(row_id, col_id, val):\n",
    "    rows.append(row_id)\n",
    "    cols.append(col_id)\n",
    "    data.append(val)\n",
    "\n",
    "for i, line in df.iloc[:TOP].iterrows():\n",
    "    if i % 50000 == 0:\n",
    "        print(time() - dt, i)\n",
    "    order_id = line['order_id']\n",
    "    if order_id not in encode_row:\n",
    "        encode_row[order_id] = nb_rows\n",
    "        row_id = encode_row[order_id]\n",
    "        nb_rows += 1\n",
    "        \n",
    "        #for key in {'attempt_count', 'hint_count'}:\n",
    "        #    col_id = col_encoder((key, line['problem_id']))\n",
    "        #    add_entry(row_id, col_id, line[key])\n",
    "        \n",
    "        #for key in {'opportunity'}:#, 'opportunity_original'}:\n",
    "        #    if line[key] == line[key] and line['skill_id'] == line['skill_id']:\n",
    "        #        col_id = col_encoder((key, line['skill_id']))\n",
    "        #        add_entry(row_id, col_id, line[key])\n",
    "        \n",
    "        for key in interesting['kiloboss']:\n",
    "            col_id = col_encoder((key, line[key]))\n",
    "            add_entry(row_id, col_id, 1)\n",
    "    else:  # Multi skill\n",
    "        print('never happens')\n",
    "        row_id = encode_row[order_id]\n",
    "        \n",
    "        #for key in {'opportunity'}:#, 'opportunity_original'}:  # Only need to add those terms\n",
    "        #    if line[key] == line[key] and line['skill_id'] == line['skill_id']:\n",
    "        #        col_id = col_encoder((key, line['skill_id']))\n",
    "        #        add_entry(row_id, col_id, line[key])\n",
    "\n",
    "print(len(data))\n",
    "print(len([x for x in data if x == x]))\n",
    "            \n",
    "'Built {:d} x {:d} ({:d} entries) in {:.3f} s'.format(nb_rows, nb_cols, len(data), time() - dt)"
   ]
  },
  {
   "cell_type": "code",
   "execution_count": 221,
   "metadata": {},
   "outputs": [],
   "source": [
    "PATH = '/Users/jilljenn/code/TF-recomm/data/assistments42-kiloboss/'\n",
    "#df.iloc[:TOP][['user_id', 'problem_id', 'correct']].to_csv(PATH + 'all.csv', index=False, header=False)"
   ]
  },
  {
   "cell_type": "code",
   "execution_count": 222,
   "metadata": {},
   "outputs": [],
   "source": [
    "from scipy.sparse import coo_matrix, save_npz\n",
    "\n",
    "X = coo_matrix((data, (rows, cols)), shape=(nb_rows, nb_cols)).tocsr()\n",
    "save_npz(PATH + 'bonus.npz', X)"
   ]
  },
  {
   "cell_type": "code",
   "execution_count": 223,
   "metadata": {},
   "outputs": [
    {
     "data": {
      "text/plain": [
       "(346860, 233)"
      ]
     },
     "execution_count": 223,
     "metadata": {},
     "output_type": "execute_result"
    }
   ],
   "source": [
    "X.shape"
   ]
  },
  {
   "cell_type": "code",
   "execution_count": 163,
   "metadata": {},
   "outputs": [],
   "source": [
    "import numpy as np\n",
    "\n",
    "np.save(PATH + 'y.npy', np.array(df['correct']))"
   ]
  },
  {
   "cell_type": "code",
   "execution_count": 6,
   "metadata": {},
   "outputs": [
    {
     "data": {
      "text/html": [
       "<div>\n",
       "<style>\n",
       "    .dataframe thead tr:only-child th {\n",
       "        text-align: right;\n",
       "    }\n",
       "\n",
       "    .dataframe thead th {\n",
       "        text-align: left;\n",
       "    }\n",
       "\n",
       "    .dataframe tbody tr th {\n",
       "        vertical-align: top;\n",
       "    }\n",
       "</style>\n",
       "<table border=\"1\" class=\"dataframe\">\n",
       "  <thead>\n",
       "    <tr style=\"text-align: right;\">\n",
       "      <th></th>\n",
       "      <th>order_id</th>\n",
       "      <th>user_id</th>\n",
       "      <th>problem_id</th>\n",
       "      <th>correct</th>\n",
       "      <th>attempt_count</th>\n",
       "      <th>skill_id</th>\n",
       "      <th>skill_name</th>\n",
       "      <th>opportunity</th>\n",
       "      <th>opportunity_original</th>\n",
       "    </tr>\n",
       "  </thead>\n",
       "  <tbody>\n",
       "    <tr>\n",
       "      <th>0</th>\n",
       "      <td>33022537</td>\n",
       "      <td>64525</td>\n",
       "      <td>51424</td>\n",
       "      <td>1</td>\n",
       "      <td>1</td>\n",
       "      <td>1.0</td>\n",
       "      <td>Box and Whisker</td>\n",
       "      <td>1</td>\n",
       "      <td>1</td>\n",
       "    </tr>\n",
       "    <tr>\n",
       "      <th>1</th>\n",
       "      <td>33022709</td>\n",
       "      <td>64525</td>\n",
       "      <td>51435</td>\n",
       "      <td>1</td>\n",
       "      <td>1</td>\n",
       "      <td>1.0</td>\n",
       "      <td>Box and Whisker</td>\n",
       "      <td>2</td>\n",
       "      <td>2</td>\n",
       "    </tr>\n",
       "    <tr>\n",
       "      <th>2</th>\n",
       "      <td>35450204</td>\n",
       "      <td>70363</td>\n",
       "      <td>51444</td>\n",
       "      <td>0</td>\n",
       "      <td>2</td>\n",
       "      <td>1.0</td>\n",
       "      <td>Box and Whisker</td>\n",
       "      <td>1</td>\n",
       "      <td>1</td>\n",
       "    </tr>\n",
       "    <tr>\n",
       "      <th>3</th>\n",
       "      <td>35450295</td>\n",
       "      <td>70363</td>\n",
       "      <td>51395</td>\n",
       "      <td>1</td>\n",
       "      <td>1</td>\n",
       "      <td>1.0</td>\n",
       "      <td>Box and Whisker</td>\n",
       "      <td>2</td>\n",
       "      <td>2</td>\n",
       "    </tr>\n",
       "    <tr>\n",
       "      <th>4</th>\n",
       "      <td>35450311</td>\n",
       "      <td>70363</td>\n",
       "      <td>51481</td>\n",
       "      <td>0</td>\n",
       "      <td>14</td>\n",
       "      <td>1.0</td>\n",
       "      <td>Box and Whisker</td>\n",
       "      <td>3</td>\n",
       "      <td>3</td>\n",
       "    </tr>\n",
       "  </tbody>\n",
       "</table>\n",
       "</div>"
      ],
      "text/plain": [
       "   order_id  user_id  problem_id  correct  attempt_count  skill_id  \\\n",
       "0  33022537    64525       51424        1              1       1.0   \n",
       "1  33022709    64525       51435        1              1       1.0   \n",
       "2  35450204    70363       51444        0              2       1.0   \n",
       "3  35450295    70363       51395        1              1       1.0   \n",
       "4  35450311    70363       51481        0             14       1.0   \n",
       "\n",
       "        skill_name  opportunity opportunity_original  \n",
       "0  Box and Whisker            1                    1  \n",
       "1  Box and Whisker            2                    2  \n",
       "2  Box and Whisker            1                    1  \n",
       "3  Box and Whisker            2                    2  \n",
       "4  Box and Whisker            3                    3  "
      ]
     },
     "execution_count": 6,
     "metadata": {},
     "output_type": "execute_result"
    }
   ],
   "source": [
    "df[['order_id', 'user_id', 'problem_id', 'correct', 'attempt_count', 'skill_id', 'skill_name', 'opportunity', 'opportunity_original']].head()"
   ]
  },
  {
   "cell_type": "code",
   "execution_count": 7,
   "metadata": {},
   "outputs": [
    {
     "data": {
      "text/plain": [
       "63755"
      ]
     },
     "execution_count": 7,
     "metadata": {},
     "output_type": "execute_result"
    }
   ],
   "source": [
    "len(df.query('skill_id != skill_id'))"
   ]
  },
  {
   "cell_type": "code",
   "execution_count": 8,
   "metadata": {},
   "outputs": [
    {
     "data": {
      "text/plain": [
       "347463   NaN\n",
       "348241   NaN\n",
       "352017   NaN\n",
       "353671   NaN\n",
       "360116   NaN\n",
       "365757   NaN\n",
       "366349   NaN\n",
       "368026   NaN\n",
       "368290   NaN\n",
       "368909   NaN\n",
       "370132   NaN\n",
       "377652   NaN\n",
       "377668   NaN\n",
       "377950   NaN\n",
       "378331   NaN\n",
       "395066   NaN\n",
       "398818   NaN\n",
       "401743   NaN\n",
       "Name: skill_id, dtype: float64"
      ]
     },
     "execution_count": 8,
     "metadata": {},
     "output_type": "execute_result"
    }
   ],
   "source": [
    "df.query('problem_id == 61470')['skill_id']"
   ]
  },
  {
   "cell_type": "code",
   "execution_count": 9,
   "metadata": {},
   "outputs": [
    {
     "data": {
      "text/html": [
       "<div>\n",
       "<style>\n",
       "    .dataframe thead tr:only-child th {\n",
       "        text-align: right;\n",
       "    }\n",
       "\n",
       "    .dataframe thead th {\n",
       "        text-align: left;\n",
       "    }\n",
       "\n",
       "    .dataframe tbody tr th {\n",
       "        vertical-align: top;\n",
       "    }\n",
       "</style>\n",
       "<table border=\"1\" class=\"dataframe\">\n",
       "  <thead>\n",
       "    <tr style=\"text-align: right;\">\n",
       "      <th></th>\n",
       "      <th>order_id</th>\n",
       "      <th>problem_id</th>\n",
       "      <th>attempt_count</th>\n",
       "      <th>correct</th>\n",
       "    </tr>\n",
       "  </thead>\n",
       "  <tbody>\n",
       "    <tr>\n",
       "      <th>2</th>\n",
       "      <td>35450204</td>\n",
       "      <td>51444</td>\n",
       "      <td>2</td>\n",
       "      <td>0</td>\n",
       "    </tr>\n",
       "    <tr>\n",
       "      <th>3</th>\n",
       "      <td>35450295</td>\n",
       "      <td>51395</td>\n",
       "      <td>1</td>\n",
       "      <td>1</td>\n",
       "    </tr>\n",
       "    <tr>\n",
       "      <th>4</th>\n",
       "      <td>35450311</td>\n",
       "      <td>51481</td>\n",
       "      <td>14</td>\n",
       "      <td>0</td>\n",
       "    </tr>\n",
       "    <tr>\n",
       "      <th>5</th>\n",
       "      <td>35450555</td>\n",
       "      <td>51457</td>\n",
       "      <td>1</td>\n",
       "      <td>1</td>\n",
       "    </tr>\n",
       "    <tr>\n",
       "      <th>6</th>\n",
       "      <td>35450573</td>\n",
       "      <td>51459</td>\n",
       "      <td>1</td>\n",
       "      <td>1</td>\n",
       "    </tr>\n",
       "    <tr>\n",
       "      <th>7</th>\n",
       "      <td>35480603</td>\n",
       "      <td>51408</td>\n",
       "      <td>1</td>\n",
       "      <td>1</td>\n",
       "    </tr>\n",
       "    <tr>\n",
       "      <th>3982</th>\n",
       "      <td>35305403</td>\n",
       "      <td>47068</td>\n",
       "      <td>1</td>\n",
       "      <td>0</td>\n",
       "    </tr>\n",
       "    <tr>\n",
       "      <th>3983</th>\n",
       "      <td>35305686</td>\n",
       "      <td>47081</td>\n",
       "      <td>0</td>\n",
       "      <td>0</td>\n",
       "    </tr>\n",
       "    <tr>\n",
       "      <th>3984</th>\n",
       "      <td>35306351</td>\n",
       "      <td>47044</td>\n",
       "      <td>2</td>\n",
       "      <td>0</td>\n",
       "    </tr>\n",
       "    <tr>\n",
       "      <th>3985</th>\n",
       "      <td>35306712</td>\n",
       "      <td>57716</td>\n",
       "      <td>1</td>\n",
       "      <td>1</td>\n",
       "    </tr>\n",
       "    <tr>\n",
       "      <th>3986</th>\n",
       "      <td>35307058</td>\n",
       "      <td>57650</td>\n",
       "      <td>0</td>\n",
       "      <td>0</td>\n",
       "    </tr>\n",
       "    <tr>\n",
       "      <th>3987</th>\n",
       "      <td>35384917</td>\n",
       "      <td>47108</td>\n",
       "      <td>1</td>\n",
       "      <td>1</td>\n",
       "    </tr>\n",
       "    <tr>\n",
       "      <th>3988</th>\n",
       "      <td>35385665</td>\n",
       "      <td>57704</td>\n",
       "      <td>1</td>\n",
       "      <td>1</td>\n",
       "    </tr>\n",
       "    <tr>\n",
       "      <th>3989</th>\n",
       "      <td>35397317</td>\n",
       "      <td>57644</td>\n",
       "      <td>1</td>\n",
       "      <td>1</td>\n",
       "    </tr>\n",
       "    <tr>\n",
       "      <th>3990</th>\n",
       "      <td>35397465</td>\n",
       "      <td>57716</td>\n",
       "      <td>1</td>\n",
       "      <td>1</td>\n",
       "    </tr>\n",
       "    <tr>\n",
       "      <th>10168</th>\n",
       "      <td>35449230</td>\n",
       "      <td>51378</td>\n",
       "      <td>2</td>\n",
       "      <td>0</td>\n",
       "    </tr>\n",
       "    <tr>\n",
       "      <th>10169</th>\n",
       "      <td>35449642</td>\n",
       "      <td>51316</td>\n",
       "      <td>2</td>\n",
       "      <td>0</td>\n",
       "    </tr>\n",
       "    <tr>\n",
       "      <th>10170</th>\n",
       "      <td>35449882</td>\n",
       "      <td>51332</td>\n",
       "      <td>1</td>\n",
       "      <td>1</td>\n",
       "    </tr>\n",
       "    <tr>\n",
       "      <th>10171</th>\n",
       "      <td>35449901</td>\n",
       "      <td>51376</td>\n",
       "      <td>1</td>\n",
       "      <td>1</td>\n",
       "    </tr>\n",
       "    <tr>\n",
       "      <th>10172</th>\n",
       "      <td>35450014</td>\n",
       "      <td>51356</td>\n",
       "      <td>1</td>\n",
       "      <td>1</td>\n",
       "    </tr>\n",
       "    <tr>\n",
       "      <th>11973</th>\n",
       "      <td>35526865</td>\n",
       "      <td>56108</td>\n",
       "      <td>2</td>\n",
       "      <td>0</td>\n",
       "    </tr>\n",
       "    <tr>\n",
       "      <th>11974</th>\n",
       "      <td>35527277</td>\n",
       "      <td>56052</td>\n",
       "      <td>3</td>\n",
       "      <td>0</td>\n",
       "    </tr>\n",
       "    <tr>\n",
       "      <th>11975</th>\n",
       "      <td>35527546</td>\n",
       "      <td>56105</td>\n",
       "      <td>2</td>\n",
       "      <td>0</td>\n",
       "    </tr>\n",
       "    <tr>\n",
       "      <th>11976</th>\n",
       "      <td>35527698</td>\n",
       "      <td>56054</td>\n",
       "      <td>2</td>\n",
       "      <td>0</td>\n",
       "    </tr>\n",
       "    <tr>\n",
       "      <th>11977</th>\n",
       "      <td>35527814</td>\n",
       "      <td>56076</td>\n",
       "      <td>2</td>\n",
       "      <td>0</td>\n",
       "    </tr>\n",
       "    <tr>\n",
       "      <th>11978</th>\n",
       "      <td>35528578</td>\n",
       "      <td>56198</td>\n",
       "      <td>1</td>\n",
       "      <td>0</td>\n",
       "    </tr>\n",
       "    <tr>\n",
       "      <th>11979</th>\n",
       "      <td>35687767</td>\n",
       "      <td>55989</td>\n",
       "      <td>1</td>\n",
       "      <td>1</td>\n",
       "    </tr>\n",
       "    <tr>\n",
       "      <th>11980</th>\n",
       "      <td>35688138</td>\n",
       "      <td>56193</td>\n",
       "      <td>2</td>\n",
       "      <td>0</td>\n",
       "    </tr>\n",
       "    <tr>\n",
       "      <th>11981</th>\n",
       "      <td>35688348</td>\n",
       "      <td>56191</td>\n",
       "      <td>1</td>\n",
       "      <td>1</td>\n",
       "    </tr>\n",
       "    <tr>\n",
       "      <th>11982</th>\n",
       "      <td>35688490</td>\n",
       "      <td>56185</td>\n",
       "      <td>1</td>\n",
       "      <td>1</td>\n",
       "    </tr>\n",
       "    <tr>\n",
       "      <th>...</th>\n",
       "      <td>...</td>\n",
       "      <td>...</td>\n",
       "      <td>...</td>\n",
       "      <td>...</td>\n",
       "    </tr>\n",
       "    <tr>\n",
       "      <th>338179</th>\n",
       "      <td>35393042</td>\n",
       "      <td>47899</td>\n",
       "      <td>1</td>\n",
       "      <td>1</td>\n",
       "    </tr>\n",
       "    <tr>\n",
       "      <th>338180</th>\n",
       "      <td>35393739</td>\n",
       "      <td>47877</td>\n",
       "      <td>1</td>\n",
       "      <td>1</td>\n",
       "    </tr>\n",
       "    <tr>\n",
       "      <th>338181</th>\n",
       "      <td>35393805</td>\n",
       "      <td>47878</td>\n",
       "      <td>1</td>\n",
       "      <td>1</td>\n",
       "    </tr>\n",
       "    <tr>\n",
       "      <th>338182</th>\n",
       "      <td>35393822</td>\n",
       "      <td>47879</td>\n",
       "      <td>1</td>\n",
       "      <td>1</td>\n",
       "    </tr>\n",
       "    <tr>\n",
       "      <th>338183</th>\n",
       "      <td>35394090</td>\n",
       "      <td>58363</td>\n",
       "      <td>3</td>\n",
       "      <td>0</td>\n",
       "    </tr>\n",
       "    <tr>\n",
       "      <th>338184</th>\n",
       "      <td>35394118</td>\n",
       "      <td>58364</td>\n",
       "      <td>1</td>\n",
       "      <td>1</td>\n",
       "    </tr>\n",
       "    <tr>\n",
       "      <th>338185</th>\n",
       "      <td>35394140</td>\n",
       "      <td>58365</td>\n",
       "      <td>1</td>\n",
       "      <td>1</td>\n",
       "    </tr>\n",
       "    <tr>\n",
       "      <th>338186</th>\n",
       "      <td>35394188</td>\n",
       "      <td>58366</td>\n",
       "      <td>1</td>\n",
       "      <td>1</td>\n",
       "    </tr>\n",
       "    <tr>\n",
       "      <th>338187</th>\n",
       "      <td>35395010</td>\n",
       "      <td>49189</td>\n",
       "      <td>1</td>\n",
       "      <td>1</td>\n",
       "    </tr>\n",
       "    <tr>\n",
       "      <th>338188</th>\n",
       "      <td>35395053</td>\n",
       "      <td>49190</td>\n",
       "      <td>45</td>\n",
       "      <td>0</td>\n",
       "    </tr>\n",
       "    <tr>\n",
       "      <th>338189</th>\n",
       "      <td>35395324</td>\n",
       "      <td>50767</td>\n",
       "      <td>1</td>\n",
       "      <td>1</td>\n",
       "    </tr>\n",
       "    <tr>\n",
       "      <th>338190</th>\n",
       "      <td>35395343</td>\n",
       "      <td>50768</td>\n",
       "      <td>5</td>\n",
       "      <td>0</td>\n",
       "    </tr>\n",
       "    <tr>\n",
       "      <th>338191</th>\n",
       "      <td>35395557</td>\n",
       "      <td>50782</td>\n",
       "      <td>1</td>\n",
       "      <td>1</td>\n",
       "    </tr>\n",
       "    <tr>\n",
       "      <th>338192</th>\n",
       "      <td>35395587</td>\n",
       "      <td>50783</td>\n",
       "      <td>2</td>\n",
       "      <td>0</td>\n",
       "    </tr>\n",
       "    <tr>\n",
       "      <th>338193</th>\n",
       "      <td>35396437</td>\n",
       "      <td>46846</td>\n",
       "      <td>1</td>\n",
       "      <td>1</td>\n",
       "    </tr>\n",
       "    <tr>\n",
       "      <th>338194</th>\n",
       "      <td>35396505</td>\n",
       "      <td>46847</td>\n",
       "      <td>1</td>\n",
       "      <td>1</td>\n",
       "    </tr>\n",
       "    <tr>\n",
       "      <th>338195</th>\n",
       "      <td>35398293</td>\n",
       "      <td>57820</td>\n",
       "      <td>1</td>\n",
       "      <td>1</td>\n",
       "    </tr>\n",
       "    <tr>\n",
       "      <th>338196</th>\n",
       "      <td>35398391</td>\n",
       "      <td>57821</td>\n",
       "      <td>1</td>\n",
       "      <td>1</td>\n",
       "    </tr>\n",
       "    <tr>\n",
       "      <th>338197</th>\n",
       "      <td>35398418</td>\n",
       "      <td>57822</td>\n",
       "      <td>3</td>\n",
       "      <td>0</td>\n",
       "    </tr>\n",
       "    <tr>\n",
       "      <th>338198</th>\n",
       "      <td>35399970</td>\n",
       "      <td>58130</td>\n",
       "      <td>1</td>\n",
       "      <td>1</td>\n",
       "    </tr>\n",
       "    <tr>\n",
       "      <th>338199</th>\n",
       "      <td>35400050</td>\n",
       "      <td>58131</td>\n",
       "      <td>2</td>\n",
       "      <td>0</td>\n",
       "    </tr>\n",
       "    <tr>\n",
       "      <th>338200</th>\n",
       "      <td>35400141</td>\n",
       "      <td>58132</td>\n",
       "      <td>2</td>\n",
       "      <td>0</td>\n",
       "    </tr>\n",
       "    <tr>\n",
       "      <th>338201</th>\n",
       "      <td>35401565</td>\n",
       "      <td>58133</td>\n",
       "      <td>1</td>\n",
       "      <td>1</td>\n",
       "    </tr>\n",
       "    <tr>\n",
       "      <th>338202</th>\n",
       "      <td>35446097</td>\n",
       "      <td>56839</td>\n",
       "      <td>1</td>\n",
       "      <td>1</td>\n",
       "    </tr>\n",
       "    <tr>\n",
       "      <th>338203</th>\n",
       "      <td>35446261</td>\n",
       "      <td>56840</td>\n",
       "      <td>4</td>\n",
       "      <td>0</td>\n",
       "    </tr>\n",
       "    <tr>\n",
       "      <th>338204</th>\n",
       "      <td>35451708</td>\n",
       "      <td>107977</td>\n",
       "      <td>1</td>\n",
       "      <td>1</td>\n",
       "    </tr>\n",
       "    <tr>\n",
       "      <th>338205</th>\n",
       "      <td>35451718</td>\n",
       "      <td>107978</td>\n",
       "      <td>1</td>\n",
       "      <td>1</td>\n",
       "    </tr>\n",
       "    <tr>\n",
       "      <th>338206</th>\n",
       "      <td>35451747</td>\n",
       "      <td>107979</td>\n",
       "      <td>1</td>\n",
       "      <td>1</td>\n",
       "    </tr>\n",
       "    <tr>\n",
       "      <th>338207</th>\n",
       "      <td>35480089</td>\n",
       "      <td>46831</td>\n",
       "      <td>1</td>\n",
       "      <td>1</td>\n",
       "    </tr>\n",
       "    <tr>\n",
       "      <th>338208</th>\n",
       "      <td>35480100</td>\n",
       "      <td>46832</td>\n",
       "      <td>1</td>\n",
       "      <td>0</td>\n",
       "    </tr>\n",
       "  </tbody>\n",
       "</table>\n",
       "<p>413 rows × 4 columns</p>\n",
       "</div>"
      ],
      "text/plain": [
       "        order_id  problem_id  attempt_count  correct\n",
       "2       35450204       51444              2        0\n",
       "3       35450295       51395              1        1\n",
       "4       35450311       51481             14        0\n",
       "5       35450555       51457              1        1\n",
       "6       35450573       51459              1        1\n",
       "7       35480603       51408              1        1\n",
       "3982    35305403       47068              1        0\n",
       "3983    35305686       47081              0        0\n",
       "3984    35306351       47044              2        0\n",
       "3985    35306712       57716              1        1\n",
       "3986    35307058       57650              0        0\n",
       "3987    35384917       47108              1        1\n",
       "3988    35385665       57704              1        1\n",
       "3989    35397317       57644              1        1\n",
       "3990    35397465       57716              1        1\n",
       "10168   35449230       51378              2        0\n",
       "10169   35449642       51316              2        0\n",
       "10170   35449882       51332              1        1\n",
       "10171   35449901       51376              1        1\n",
       "10172   35450014       51356              1        1\n",
       "11973   35526865       56108              2        0\n",
       "11974   35527277       56052              3        0\n",
       "11975   35527546       56105              2        0\n",
       "11976   35527698       56054              2        0\n",
       "11977   35527814       56076              2        0\n",
       "11978   35528578       56198              1        0\n",
       "11979   35687767       55989              1        1\n",
       "11980   35688138       56193              2        0\n",
       "11981   35688348       56191              1        1\n",
       "11982   35688490       56185              1        1\n",
       "...          ...         ...            ...      ...\n",
       "338179  35393042       47899              1        1\n",
       "338180  35393739       47877              1        1\n",
       "338181  35393805       47878              1        1\n",
       "338182  35393822       47879              1        1\n",
       "338183  35394090       58363              3        0\n",
       "338184  35394118       58364              1        1\n",
       "338185  35394140       58365              1        1\n",
       "338186  35394188       58366              1        1\n",
       "338187  35395010       49189              1        1\n",
       "338188  35395053       49190             45        0\n",
       "338189  35395324       50767              1        1\n",
       "338190  35395343       50768              5        0\n",
       "338191  35395557       50782              1        1\n",
       "338192  35395587       50783              2        0\n",
       "338193  35396437       46846              1        1\n",
       "338194  35396505       46847              1        1\n",
       "338195  35398293       57820              1        1\n",
       "338196  35398391       57821              1        1\n",
       "338197  35398418       57822              3        0\n",
       "338198  35399970       58130              1        1\n",
       "338199  35400050       58131              2        0\n",
       "338200  35400141       58132              2        0\n",
       "338201  35401565       58133              1        1\n",
       "338202  35446097       56839              1        1\n",
       "338203  35446261       56840              4        0\n",
       "338204  35451708      107977              1        1\n",
       "338205  35451718      107978              1        1\n",
       "338206  35451747      107979              1        1\n",
       "338207  35480089       46831              1        1\n",
       "338208  35480100       46832              1        0\n",
       "\n",
       "[413 rows x 4 columns]"
      ]
     },
     "execution_count": 9,
     "metadata": {},
     "output_type": "execute_result"
    }
   ],
   "source": [
    "df.query('user_id == 70363')[['order_id', 'problem_id', 'attempt_count', 'correct']]"
   ]
  },
  {
   "cell_type": "code",
   "execution_count": 10,
   "metadata": {},
   "outputs": [
    {
     "data": {
      "text/plain": [
       "300"
      ]
     },
     "execution_count": 10,
     "metadata": {},
     "output_type": "execute_result"
    }
   ],
   "source": [
    "len(df.query('user_id == 70363')['problem_id'].unique())"
   ]
  },
  {
   "cell_type": "code",
   "execution_count": 11,
   "metadata": {},
   "outputs": [
    {
     "data": {
      "text/plain": [
       "302"
      ]
     },
     "execution_count": 11,
     "metadata": {},
     "output_type": "execute_result"
    }
   ],
   "source": [
    "len(df.query('user_id == 70363')['order_id'].unique())"
   ]
  },
  {
   "cell_type": "code",
   "execution_count": 12,
   "metadata": {},
   "outputs": [
    {
     "name": "stdout",
     "output_type": "stream",
     "text": [
      "32194\n"
     ]
    }
   ],
   "source": [
    "for i, (line, line2) in enumerate(zip(df['order_id'], df['order_id'].unique())):\n",
    "    if str(line) != str(line2):\n",
    "        print(i)\n",
    "        break"
   ]
  },
  {
   "cell_type": "code",
   "execution_count": 13,
   "metadata": {},
   "outputs": [
    {
     "data": {
      "text/html": [
       "<div>\n",
       "<style>\n",
       "    .dataframe thead tr:only-child th {\n",
       "        text-align: right;\n",
       "    }\n",
       "\n",
       "    .dataframe thead th {\n",
       "        text-align: left;\n",
       "    }\n",
       "\n",
       "    .dataframe tbody tr th {\n",
       "        vertical-align: top;\n",
       "    }\n",
       "</style>\n",
       "<table border=\"1\" class=\"dataframe\">\n",
       "  <thead>\n",
       "    <tr style=\"text-align: right;\">\n",
       "      <th></th>\n",
       "      <th>order_id</th>\n",
       "      <th>assignment_id</th>\n",
       "      <th>user_id</th>\n",
       "      <th>assistment_id</th>\n",
       "      <th>problem_id</th>\n",
       "      <th>original</th>\n",
       "      <th>correct</th>\n",
       "      <th>attempt_count</th>\n",
       "      <th>ms_first_response</th>\n",
       "      <th>tutor_mode</th>\n",
       "      <th>...</th>\n",
       "      <th>hint_count</th>\n",
       "      <th>hint_total</th>\n",
       "      <th>overlap_time</th>\n",
       "      <th>template_id</th>\n",
       "      <th>answer_id</th>\n",
       "      <th>answer_text</th>\n",
       "      <th>first_action</th>\n",
       "      <th>bottom_hint</th>\n",
       "      <th>opportunity</th>\n",
       "      <th>opportunity_original</th>\n",
       "    </tr>\n",
       "  </thead>\n",
       "  <tbody>\n",
       "    <tr>\n",
       "      <th>32190</th>\n",
       "      <td>38175548</td>\n",
       "      <td>291382</td>\n",
       "      <td>96298</td>\n",
       "      <td>36777</td>\n",
       "      <td>57512</td>\n",
       "      <td>1</td>\n",
       "      <td>1</td>\n",
       "      <td>1</td>\n",
       "      <td>50940</td>\n",
       "      <td>tutor</td>\n",
       "      <td>...</td>\n",
       "      <td>0</td>\n",
       "      <td>0</td>\n",
       "      <td>50940</td>\n",
       "      <td>30041</td>\n",
       "      <td>NaN</td>\n",
       "      <td>6</td>\n",
       "      <td>0</td>\n",
       "      <td>NaN</td>\n",
       "      <td>8</td>\n",
       "      <td>8</td>\n",
       "    </tr>\n",
       "    <tr>\n",
       "      <th>32191</th>\n",
       "      <td>38175701</td>\n",
       "      <td>291384</td>\n",
       "      <td>96298</td>\n",
       "      <td>53284</td>\n",
       "      <td>93244</td>\n",
       "      <td>1</td>\n",
       "      <td>1</td>\n",
       "      <td>1</td>\n",
       "      <td>23651</td>\n",
       "      <td>tutor</td>\n",
       "      <td>...</td>\n",
       "      <td>0</td>\n",
       "      <td>2</td>\n",
       "      <td>23651</td>\n",
       "      <td>52497</td>\n",
       "      <td>NaN</td>\n",
       "      <td>23</td>\n",
       "      <td>0</td>\n",
       "      <td>NaN</td>\n",
       "      <td>9</td>\n",
       "      <td>9</td>\n",
       "    </tr>\n",
       "    <tr>\n",
       "      <th>32192</th>\n",
       "      <td>38175812</td>\n",
       "      <td>291381</td>\n",
       "      <td>96298</td>\n",
       "      <td>31363</td>\n",
       "      <td>46965</td>\n",
       "      <td>1</td>\n",
       "      <td>1</td>\n",
       "      <td>1</td>\n",
       "      <td>82592</td>\n",
       "      <td>tutor</td>\n",
       "      <td>...</td>\n",
       "      <td>0</td>\n",
       "      <td>0</td>\n",
       "      <td>82592</td>\n",
       "      <td>30304</td>\n",
       "      <td>NaN</td>\n",
       "      <td>92</td>\n",
       "      <td>0</td>\n",
       "      <td>NaN</td>\n",
       "      <td>10</td>\n",
       "      <td>10</td>\n",
       "    </tr>\n",
       "    <tr>\n",
       "      <th>32193</th>\n",
       "      <td>38175813</td>\n",
       "      <td>291381</td>\n",
       "      <td>96298</td>\n",
       "      <td>31324</td>\n",
       "      <td>46848</td>\n",
       "      <td>1</td>\n",
       "      <td>0</td>\n",
       "      <td>1</td>\n",
       "      <td>27025</td>\n",
       "      <td>tutor</td>\n",
       "      <td>...</td>\n",
       "      <td>0</td>\n",
       "      <td>0</td>\n",
       "      <td>27065</td>\n",
       "      <td>30328</td>\n",
       "      <td>NaN</td>\n",
       "      <td>248</td>\n",
       "      <td>0</td>\n",
       "      <td>NaN</td>\n",
       "      <td>11</td>\n",
       "      <td>11</td>\n",
       "    </tr>\n",
       "    <tr>\n",
       "      <th>32194</th>\n",
       "      <td>21616385</td>\n",
       "      <td>263366</td>\n",
       "      <td>21825</td>\n",
       "      <td>32021</td>\n",
       "      <td>48881</td>\n",
       "      <td>1</td>\n",
       "      <td>0</td>\n",
       "      <td>1</td>\n",
       "      <td>21942</td>\n",
       "      <td>tutor</td>\n",
       "      <td>...</td>\n",
       "      <td>0</td>\n",
       "      <td>0</td>\n",
       "      <td>21962</td>\n",
       "      <td>30244</td>\n",
       "      <td>NaN</td>\n",
       "      <td>20</td>\n",
       "      <td>0</td>\n",
       "      <td>NaN</td>\n",
       "      <td>1</td>\n",
       "      <td>1</td>\n",
       "    </tr>\n",
       "    <tr>\n",
       "      <th>32195</th>\n",
       "      <td>21616478</td>\n",
       "      <td>263366</td>\n",
       "      <td>21825</td>\n",
       "      <td>32041</td>\n",
       "      <td>49016</td>\n",
       "      <td>1</td>\n",
       "      <td>1</td>\n",
       "      <td>1</td>\n",
       "      <td>88939</td>\n",
       "      <td>tutor</td>\n",
       "      <td>...</td>\n",
       "      <td>0</td>\n",
       "      <td>0</td>\n",
       "      <td>88939</td>\n",
       "      <td>30244</td>\n",
       "      <td>NaN</td>\n",
       "      <td>14.6</td>\n",
       "      <td>0</td>\n",
       "      <td>NaN</td>\n",
       "      <td>2</td>\n",
       "      <td>2</td>\n",
       "    </tr>\n",
       "  </tbody>\n",
       "</table>\n",
       "<p>6 rows × 30 columns</p>\n",
       "</div>"
      ],
      "text/plain": [
       "       order_id  assignment_id  user_id  assistment_id  problem_id  original  \\\n",
       "32190  38175548         291382    96298          36777       57512         1   \n",
       "32191  38175701         291384    96298          53284       93244         1   \n",
       "32192  38175812         291381    96298          31363       46965         1   \n",
       "32193  38175813         291381    96298          31324       46848         1   \n",
       "32194  21616385         263366    21825          32021       48881         1   \n",
       "32195  21616478         263366    21825          32041       49016         1   \n",
       "\n",
       "       correct  attempt_count  ms_first_response tutor_mode  \\\n",
       "32190        1              1              50940      tutor   \n",
       "32191        1              1              23651      tutor   \n",
       "32192        1              1              82592      tutor   \n",
       "32193        0              1              27025      tutor   \n",
       "32194        0              1              21942      tutor   \n",
       "32195        1              1              88939      tutor   \n",
       "\n",
       "               ...          hint_count  hint_total  overlap_time  template_id  \\\n",
       "32190          ...                   0           0         50940        30041   \n",
       "32191          ...                   0           2         23651        52497   \n",
       "32192          ...                   0           0         82592        30304   \n",
       "32193          ...                   0           0         27065        30328   \n",
       "32194          ...                   0           0         21962        30244   \n",
       "32195          ...                   0           0         88939        30244   \n",
       "\n",
       "      answer_id  answer_text  first_action bottom_hint  opportunity  \\\n",
       "32190       NaN            6             0         NaN            8   \n",
       "32191       NaN           23             0         NaN            9   \n",
       "32192       NaN           92             0         NaN           10   \n",
       "32193       NaN          248             0         NaN           11   \n",
       "32194       NaN           20             0         NaN            1   \n",
       "32195       NaN         14.6             0         NaN            2   \n",
       "\n",
       "       opportunity_original  \n",
       "32190                     8  \n",
       "32191                     9  \n",
       "32192                    10  \n",
       "32193                    11  \n",
       "32194                     1  \n",
       "32195                     2  \n",
       "\n",
       "[6 rows x 30 columns]"
      ]
     },
     "execution_count": 13,
     "metadata": {},
     "output_type": "execute_result"
    }
   ],
   "source": [
    "df[32190:32196]"
   ]
  },
  {
   "cell_type": "code",
   "execution_count": 14,
   "metadata": {},
   "outputs": [
    {
     "data": {
      "text/plain": [
       "32190    38175548\n",
       "32191    38175701\n",
       "32192    38175812\n",
       "32193    38175813\n",
       "32194    21616385\n",
       "32195    21616478\n",
       "Name: order_id, dtype: int64"
      ]
     },
     "execution_count": 14,
     "metadata": {},
     "output_type": "execute_result"
    }
   ],
   "source": [
    "df['order_id'][32190:32196]"
   ]
  },
  {
   "cell_type": "code",
   "execution_count": 15,
   "metadata": {},
   "outputs": [
    {
     "data": {
      "text/plain": [
       "array([38175548, 38175701, 38175812, 38175813, 35129136, 32815082])"
      ]
     },
     "execution_count": 15,
     "metadata": {},
     "output_type": "execute_result"
    }
   ],
   "source": [
    "df['order_id'].unique()[32190:32196]"
   ]
  },
  {
   "cell_type": "code",
   "execution_count": 16,
   "metadata": {},
   "outputs": [
    {
     "data": {
      "text/html": [
       "<div>\n",
       "<style>\n",
       "    .dataframe thead tr:only-child th {\n",
       "        text-align: right;\n",
       "    }\n",
       "\n",
       "    .dataframe thead th {\n",
       "        text-align: left;\n",
       "    }\n",
       "\n",
       "    .dataframe tbody tr th {\n",
       "        vertical-align: top;\n",
       "    }\n",
       "</style>\n",
       "<table border=\"1\" class=\"dataframe\">\n",
       "  <thead>\n",
       "    <tr style=\"text-align: right;\">\n",
       "      <th></th>\n",
       "      <th>problem_id</th>\n",
       "      <th>skill_id</th>\n",
       "    </tr>\n",
       "  </thead>\n",
       "  <tbody>\n",
       "    <tr>\n",
       "      <th>19551</th>\n",
       "      <td>48881</td>\n",
       "      <td>10.0</td>\n",
       "    </tr>\n",
       "    <tr>\n",
       "      <th>32194</th>\n",
       "      <td>48881</td>\n",
       "      <td>12.0</td>\n",
       "    </tr>\n",
       "  </tbody>\n",
       "</table>\n",
       "</div>"
      ],
      "text/plain": [
       "       problem_id  skill_id\n",
       "19551       48881      10.0\n",
       "32194       48881      12.0"
      ]
     },
     "execution_count": 16,
     "metadata": {},
     "output_type": "execute_result"
    }
   ],
   "source": [
    "df.query('order_id == 21616385')[['problem_id', 'skill_id']]"
   ]
  },
  {
   "cell_type": "code",
   "execution_count": 18,
   "metadata": {},
   "outputs": [
    {
     "data": {
      "text/html": [
       "<div>\n",
       "<style>\n",
       "    .dataframe thead tr:only-child th {\n",
       "        text-align: right;\n",
       "    }\n",
       "\n",
       "    .dataframe thead th {\n",
       "        text-align: left;\n",
       "    }\n",
       "\n",
       "    .dataframe tbody tr th {\n",
       "        vertical-align: top;\n",
       "    }\n",
       "</style>\n",
       "<table border=\"1\" class=\"dataframe\">\n",
       "  <thead>\n",
       "    <tr style=\"text-align: right;\">\n",
       "      <th></th>\n",
       "      <th>order_id</th>\n",
       "      <th>assignment_id</th>\n",
       "      <th>user_id</th>\n",
       "      <th>assistment_id</th>\n",
       "      <th>problem_id</th>\n",
       "      <th>original</th>\n",
       "      <th>correct</th>\n",
       "      <th>attempt_count</th>\n",
       "      <th>ms_first_response</th>\n",
       "      <th>tutor_mode</th>\n",
       "      <th>...</th>\n",
       "      <th>hint_count</th>\n",
       "      <th>hint_total</th>\n",
       "      <th>overlap_time</th>\n",
       "      <th>template_id</th>\n",
       "      <th>answer_id</th>\n",
       "      <th>answer_text</th>\n",
       "      <th>first_action</th>\n",
       "      <th>bottom_hint</th>\n",
       "      <th>opportunity</th>\n",
       "      <th>opportunity_original</th>\n",
       "    </tr>\n",
       "  </thead>\n",
       "  <tbody>\n",
       "    <tr>\n",
       "      <th>19551</th>\n",
       "      <td>21616385</td>\n",
       "      <td>263366</td>\n",
       "      <td>21825</td>\n",
       "      <td>32021</td>\n",
       "      <td>48881</td>\n",
       "      <td>1</td>\n",
       "      <td>0</td>\n",
       "      <td>1</td>\n",
       "      <td>21942</td>\n",
       "      <td>tutor</td>\n",
       "      <td>...</td>\n",
       "      <td>0</td>\n",
       "      <td>0</td>\n",
       "      <td>21962</td>\n",
       "      <td>30244</td>\n",
       "      <td>NaN</td>\n",
       "      <td>20</td>\n",
       "      <td>0</td>\n",
       "      <td>NaN</td>\n",
       "      <td>1</td>\n",
       "      <td>1</td>\n",
       "    </tr>\n",
       "    <tr>\n",
       "      <th>32194</th>\n",
       "      <td>21616385</td>\n",
       "      <td>263366</td>\n",
       "      <td>21825</td>\n",
       "      <td>32021</td>\n",
       "      <td>48881</td>\n",
       "      <td>1</td>\n",
       "      <td>0</td>\n",
       "      <td>1</td>\n",
       "      <td>21942</td>\n",
       "      <td>tutor</td>\n",
       "      <td>...</td>\n",
       "      <td>0</td>\n",
       "      <td>0</td>\n",
       "      <td>21962</td>\n",
       "      <td>30244</td>\n",
       "      <td>NaN</td>\n",
       "      <td>20</td>\n",
       "      <td>0</td>\n",
       "      <td>NaN</td>\n",
       "      <td>1</td>\n",
       "      <td>1</td>\n",
       "    </tr>\n",
       "    <tr>\n",
       "      <th>33798</th>\n",
       "      <td>22973772</td>\n",
       "      <td>265502</td>\n",
       "      <td>82290</td>\n",
       "      <td>32021</td>\n",
       "      <td>48881</td>\n",
       "      <td>1</td>\n",
       "      <td>0</td>\n",
       "      <td>1</td>\n",
       "      <td>151246</td>\n",
       "      <td>tutor</td>\n",
       "      <td>...</td>\n",
       "      <td>0</td>\n",
       "      <td>0</td>\n",
       "      <td>151296</td>\n",
       "      <td>30244</td>\n",
       "      <td>NaN</td>\n",
       "      <td>116.7</td>\n",
       "      <td>0</td>\n",
       "      <td>NaN</td>\n",
       "      <td>1</td>\n",
       "      <td>1</td>\n",
       "    </tr>\n",
       "    <tr>\n",
       "      <th>24164</th>\n",
       "      <td>22973772</td>\n",
       "      <td>265502</td>\n",
       "      <td>82290</td>\n",
       "      <td>32021</td>\n",
       "      <td>48881</td>\n",
       "      <td>1</td>\n",
       "      <td>0</td>\n",
       "      <td>1</td>\n",
       "      <td>151246</td>\n",
       "      <td>tutor</td>\n",
       "      <td>...</td>\n",
       "      <td>0</td>\n",
       "      <td>0</td>\n",
       "      <td>151296</td>\n",
       "      <td>30244</td>\n",
       "      <td>NaN</td>\n",
       "      <td>116.7</td>\n",
       "      <td>0</td>\n",
       "      <td>NaN</td>\n",
       "      <td>1</td>\n",
       "      <td>1</td>\n",
       "    </tr>\n",
       "    <tr>\n",
       "      <th>24250</th>\n",
       "      <td>22982323</td>\n",
       "      <td>265502</td>\n",
       "      <td>82314</td>\n",
       "      <td>32021</td>\n",
       "      <td>48881</td>\n",
       "      <td>1</td>\n",
       "      <td>0</td>\n",
       "      <td>1</td>\n",
       "      <td>19205</td>\n",
       "      <td>tutor</td>\n",
       "      <td>...</td>\n",
       "      <td>0</td>\n",
       "      <td>0</td>\n",
       "      <td>19254</td>\n",
       "      <td>30244</td>\n",
       "      <td>NaN</td>\n",
       "      <td>13</td>\n",
       "      <td>0</td>\n",
       "      <td>NaN</td>\n",
       "      <td>1</td>\n",
       "      <td>1</td>\n",
       "    </tr>\n",
       "  </tbody>\n",
       "</table>\n",
       "<p>5 rows × 30 columns</p>\n",
       "</div>"
      ],
      "text/plain": [
       "       order_id  assignment_id  user_id  assistment_id  problem_id  original  \\\n",
       "19551  21616385         263366    21825          32021       48881         1   \n",
       "32194  21616385         263366    21825          32021       48881         1   \n",
       "33798  22973772         265502    82290          32021       48881         1   \n",
       "24164  22973772         265502    82290          32021       48881         1   \n",
       "24250  22982323         265502    82314          32021       48881         1   \n",
       "\n",
       "       correct  attempt_count  ms_first_response tutor_mode  \\\n",
       "19551        0              1              21942      tutor   \n",
       "32194        0              1              21942      tutor   \n",
       "33798        0              1             151246      tutor   \n",
       "24164        0              1             151246      tutor   \n",
       "24250        0              1              19205      tutor   \n",
       "\n",
       "               ...          hint_count  hint_total  overlap_time  template_id  \\\n",
       "19551          ...                   0           0         21962        30244   \n",
       "32194          ...                   0           0         21962        30244   \n",
       "33798          ...                   0           0        151296        30244   \n",
       "24164          ...                   0           0        151296        30244   \n",
       "24250          ...                   0           0         19254        30244   \n",
       "\n",
       "      answer_id  answer_text  first_action bottom_hint  opportunity  \\\n",
       "19551       NaN           20             0         NaN            1   \n",
       "32194       NaN           20             0         NaN            1   \n",
       "33798       NaN        116.7             0         NaN            1   \n",
       "24164       NaN        116.7             0         NaN            1   \n",
       "24250       NaN           13             0         NaN            1   \n",
       "\n",
       "       opportunity_original  \n",
       "19551                     1  \n",
       "32194                     1  \n",
       "33798                     1  \n",
       "24164                     1  \n",
       "24250                     1  \n",
       "\n",
       "[5 rows x 30 columns]"
      ]
     },
     "execution_count": 18,
     "metadata": {},
     "output_type": "execute_result"
    }
   ],
   "source": [
    "df.query('problem_id == 48881').sort_values('order_id').head()"
   ]
  },
  {
   "cell_type": "code",
   "execution_count": 19,
   "metadata": {},
   "outputs": [
    {
     "data": {
      "text/plain": [
       "order_id                 True\n",
       "assignment_id            True\n",
       "user_id                  True\n",
       "assistment_id            True\n",
       "problem_id               True\n",
       "original                 True\n",
       "correct                  True\n",
       "attempt_count            True\n",
       "ms_first_response        True\n",
       "tutor_mode               True\n",
       "answer_type              True\n",
       "sequence_id              True\n",
       "student_class_id         True\n",
       "position                 True\n",
       "type                     True\n",
       "base_sequence_id         True\n",
       "skill_id                False\n",
       "skill_name              False\n",
       "teacher_id               True\n",
       "school_id                True\n",
       "hint_count               True\n",
       "hint_total               True\n",
       "overlap_time             True\n",
       "template_id              True\n",
       "answer_id               False\n",
       "answer_text              True\n",
       "first_action             True\n",
       "bottom_hint             False\n",
       "opportunity              True\n",
       "opportunity_original     True\n",
       "dtype: bool"
      ]
     },
     "execution_count": 19,
     "metadata": {},
     "output_type": "execute_result"
    }
   ],
   "source": [
    "df.iloc[19551] == df.iloc[32194]"
   ]
  },
  {
   "cell_type": "code",
   "execution_count": 20,
   "metadata": {},
   "outputs": [
    {
     "data": {
      "text/plain": [
       "answer_id      NaN\n",
       "bottom_hint    NaN\n",
       "Name: 19551, dtype: object"
      ]
     },
     "execution_count": 20,
     "metadata": {},
     "output_type": "execute_result"
    }
   ],
   "source": [
    "df.iloc[19551][['answer_id', 'bottom_hint']]"
   ]
  },
  {
   "cell_type": "code",
   "execution_count": 21,
   "metadata": {},
   "outputs": [
    {
     "data": {
      "text/html": [
       "<div>\n",
       "<style>\n",
       "    .dataframe thead tr:only-child th {\n",
       "        text-align: right;\n",
       "    }\n",
       "\n",
       "    .dataframe thead th {\n",
       "        text-align: left;\n",
       "    }\n",
       "\n",
       "    .dataframe tbody tr th {\n",
       "        vertical-align: top;\n",
       "    }\n",
       "</style>\n",
       "<table border=\"1\" class=\"dataframe\">\n",
       "  <thead>\n",
       "    <tr style=\"text-align: right;\">\n",
       "      <th></th>\n",
       "      <th>order_id</th>\n",
       "      <th>problem_id</th>\n",
       "      <th>skill_id</th>\n",
       "      <th>correct</th>\n",
       "      <th>opportunity</th>\n",
       "    </tr>\n",
       "  </thead>\n",
       "  <tbody>\n",
       "    <tr>\n",
       "      <th>32194</th>\n",
       "      <td>21616385</td>\n",
       "      <td>48881</td>\n",
       "      <td>12.0</td>\n",
       "      <td>0</td>\n",
       "      <td>1</td>\n",
       "    </tr>\n",
       "    <tr>\n",
       "      <th>19551</th>\n",
       "      <td>21616385</td>\n",
       "      <td>48881</td>\n",
       "      <td>10.0</td>\n",
       "      <td>0</td>\n",
       "      <td>1</td>\n",
       "    </tr>\n",
       "    <tr>\n",
       "      <th>338007</th>\n",
       "      <td>21616426</td>\n",
       "      <td>48882</td>\n",
       "      <td>NaN</td>\n",
       "      <td>1</td>\n",
       "      <td>1</td>\n",
       "    </tr>\n",
       "    <tr>\n",
       "      <th>338008</th>\n",
       "      <td>21616431</td>\n",
       "      <td>48883</td>\n",
       "      <td>NaN</td>\n",
       "      <td>0</td>\n",
       "      <td>2</td>\n",
       "    </tr>\n",
       "    <tr>\n",
       "      <th>338009</th>\n",
       "      <td>21616443</td>\n",
       "      <td>48884</td>\n",
       "      <td>NaN</td>\n",
       "      <td>1</td>\n",
       "      <td>3</td>\n",
       "    </tr>\n",
       "    <tr>\n",
       "      <th>19552</th>\n",
       "      <td>21616478</td>\n",
       "      <td>49016</td>\n",
       "      <td>10.0</td>\n",
       "      <td>1</td>\n",
       "      <td>2</td>\n",
       "    </tr>\n",
       "    <tr>\n",
       "      <th>32195</th>\n",
       "      <td>21616478</td>\n",
       "      <td>49016</td>\n",
       "      <td>12.0</td>\n",
       "      <td>1</td>\n",
       "      <td>2</td>\n",
       "    </tr>\n",
       "    <tr>\n",
       "      <th>32196</th>\n",
       "      <td>21616677</td>\n",
       "      <td>49008</td>\n",
       "      <td>12.0</td>\n",
       "      <td>1</td>\n",
       "      <td>3</td>\n",
       "    </tr>\n",
       "    <tr>\n",
       "      <th>19553</th>\n",
       "      <td>21616677</td>\n",
       "      <td>49008</td>\n",
       "      <td>10.0</td>\n",
       "      <td>1</td>\n",
       "      <td>3</td>\n",
       "    </tr>\n",
       "    <tr>\n",
       "      <th>19554</th>\n",
       "      <td>21616919</td>\n",
       "      <td>49052</td>\n",
       "      <td>10.0</td>\n",
       "      <td>1</td>\n",
       "      <td>4</td>\n",
       "    </tr>\n",
       "    <tr>\n",
       "      <th>32197</th>\n",
       "      <td>21616919</td>\n",
       "      <td>49052</td>\n",
       "      <td>12.0</td>\n",
       "      <td>1</td>\n",
       "      <td>4</td>\n",
       "    </tr>\n",
       "    <tr>\n",
       "      <th>19555</th>\n",
       "      <td>21671620</td>\n",
       "      <td>56841</td>\n",
       "      <td>10.0</td>\n",
       "      <td>0</td>\n",
       "      <td>5</td>\n",
       "    </tr>\n",
       "    <tr>\n",
       "      <th>35137</th>\n",
       "      <td>21671620</td>\n",
       "      <td>56841</td>\n",
       "      <td>13.0</td>\n",
       "      <td>0</td>\n",
       "      <td>1</td>\n",
       "    </tr>\n",
       "    <tr>\n",
       "      <th>338010</th>\n",
       "      <td>21671687</td>\n",
       "      <td>56842</td>\n",
       "      <td>NaN</td>\n",
       "      <td>1</td>\n",
       "      <td>4</td>\n",
       "    </tr>\n",
       "    <tr>\n",
       "      <th>338011</th>\n",
       "      <td>21671690</td>\n",
       "      <td>56843</td>\n",
       "      <td>NaN</td>\n",
       "      <td>0</td>\n",
       "      <td>5</td>\n",
       "    </tr>\n",
       "    <tr>\n",
       "      <th>19556</th>\n",
       "      <td>21671720</td>\n",
       "      <td>56871</td>\n",
       "      <td>10.0</td>\n",
       "      <td>1</td>\n",
       "      <td>6</td>\n",
       "    </tr>\n",
       "    <tr>\n",
       "      <th>35138</th>\n",
       "      <td>21671720</td>\n",
       "      <td>56871</td>\n",
       "      <td>13.0</td>\n",
       "      <td>1</td>\n",
       "      <td>2</td>\n",
       "    </tr>\n",
       "    <tr>\n",
       "      <th>35139</th>\n",
       "      <td>21671764</td>\n",
       "      <td>56730</td>\n",
       "      <td>13.0</td>\n",
       "      <td>0</td>\n",
       "      <td>3</td>\n",
       "    </tr>\n",
       "    <tr>\n",
       "      <th>19557</th>\n",
       "      <td>21671764</td>\n",
       "      <td>56730</td>\n",
       "      <td>10.0</td>\n",
       "      <td>0</td>\n",
       "      <td>7</td>\n",
       "    </tr>\n",
       "    <tr>\n",
       "      <th>252748</th>\n",
       "      <td>23944780</td>\n",
       "      <td>90543</td>\n",
       "      <td>279.0</td>\n",
       "      <td>1</td>\n",
       "      <td>1</td>\n",
       "    </tr>\n",
       "    <tr>\n",
       "      <th>252749</th>\n",
       "      <td>23944797</td>\n",
       "      <td>90594</td>\n",
       "      <td>279.0</td>\n",
       "      <td>1</td>\n",
       "      <td>2</td>\n",
       "    </tr>\n",
       "    <tr>\n",
       "      <th>252750</th>\n",
       "      <td>23944811</td>\n",
       "      <td>90425</td>\n",
       "      <td>279.0</td>\n",
       "      <td>1</td>\n",
       "      <td>3</td>\n",
       "    </tr>\n",
       "    <tr>\n",
       "      <th>252751</th>\n",
       "      <td>23944830</td>\n",
       "      <td>90531</td>\n",
       "      <td>279.0</td>\n",
       "      <td>1</td>\n",
       "      <td>4</td>\n",
       "    </tr>\n",
       "    <tr>\n",
       "      <th>252752</th>\n",
       "      <td>23944849</td>\n",
       "      <td>90597</td>\n",
       "      <td>279.0</td>\n",
       "      <td>1</td>\n",
       "      <td>5</td>\n",
       "    </tr>\n",
       "    <tr>\n",
       "      <th>252753</th>\n",
       "      <td>23944907</td>\n",
       "      <td>90177</td>\n",
       "      <td>279.0</td>\n",
       "      <td>1</td>\n",
       "      <td>6</td>\n",
       "    </tr>\n",
       "    <tr>\n",
       "      <th>252754</th>\n",
       "      <td>23944935</td>\n",
       "      <td>90148</td>\n",
       "      <td>279.0</td>\n",
       "      <td>1</td>\n",
       "      <td>7</td>\n",
       "    </tr>\n",
       "    <tr>\n",
       "      <th>252755</th>\n",
       "      <td>23944952</td>\n",
       "      <td>90118</td>\n",
       "      <td>279.0</td>\n",
       "      <td>1</td>\n",
       "      <td>8</td>\n",
       "    </tr>\n",
       "    <tr>\n",
       "      <th>252756</th>\n",
       "      <td>23944969</td>\n",
       "      <td>90221</td>\n",
       "      <td>279.0</td>\n",
       "      <td>1</td>\n",
       "      <td>9</td>\n",
       "    </tr>\n",
       "    <tr>\n",
       "      <th>252757</th>\n",
       "      <td>23944981</td>\n",
       "      <td>90173</td>\n",
       "      <td>279.0</td>\n",
       "      <td>1</td>\n",
       "      <td>10</td>\n",
       "    </tr>\n",
       "  </tbody>\n",
       "</table>\n",
       "</div>"
      ],
      "text/plain": [
       "        order_id  problem_id  skill_id  correct  opportunity\n",
       "32194   21616385       48881      12.0        0            1\n",
       "19551   21616385       48881      10.0        0            1\n",
       "338007  21616426       48882       NaN        1            1\n",
       "338008  21616431       48883       NaN        0            2\n",
       "338009  21616443       48884       NaN        1            3\n",
       "19552   21616478       49016      10.0        1            2\n",
       "32195   21616478       49016      12.0        1            2\n",
       "32196   21616677       49008      12.0        1            3\n",
       "19553   21616677       49008      10.0        1            3\n",
       "19554   21616919       49052      10.0        1            4\n",
       "32197   21616919       49052      12.0        1            4\n",
       "19555   21671620       56841      10.0        0            5\n",
       "35137   21671620       56841      13.0        0            1\n",
       "338010  21671687       56842       NaN        1            4\n",
       "338011  21671690       56843       NaN        0            5\n",
       "19556   21671720       56871      10.0        1            6\n",
       "35138   21671720       56871      13.0        1            2\n",
       "35139   21671764       56730      13.0        0            3\n",
       "19557   21671764       56730      10.0        0            7\n",
       "252748  23944780       90543     279.0        1            1\n",
       "252749  23944797       90594     279.0        1            2\n",
       "252750  23944811       90425     279.0        1            3\n",
       "252751  23944830       90531     279.0        1            4\n",
       "252752  23944849       90597     279.0        1            5\n",
       "252753  23944907       90177     279.0        1            6\n",
       "252754  23944935       90148     279.0        1            7\n",
       "252755  23944952       90118     279.0        1            8\n",
       "252756  23944969       90221     279.0        1            9\n",
       "252757  23944981       90173     279.0        1           10"
      ]
     },
     "execution_count": 21,
     "metadata": {},
     "output_type": "execute_result"
    }
   ],
   "source": [
    "df.sort_values('order_id').query('user_id == 21825')[['order_id', 'problem_id', 'skill_id', 'correct', 'opportunity']]"
   ]
  },
  {
   "cell_type": "code",
   "execution_count": 23,
   "metadata": {},
   "outputs": [
    {
     "name": "stdout",
     "output_type": "stream",
     "text": [
      "[33022537 277618 64525 33139 51424 1 1 1 32454 'tutor' 'algebra' 5948 13241\n",
      " 126 'MasterySection' 5948 1.0 'Box and Whisker' 22763 73 0 3 32454 30799\n",
      " nan '26' 0 nan 1 '1']\n"
     ]
    }
   ],
   "source": [
    "import numpy as np\n",
    "\n",
    "for line in np.array(df):\n",
    "    if 'MasterySection' in str(line):\n",
    "        print(line)\n",
    "        break"
   ]
  },
  {
   "cell_type": "code",
   "execution_count": 24,
   "metadata": {},
   "outputs": [
    {
     "name": "stdout",
     "output_type": "stream",
     "text": [
      "4217 users\n",
      "26688 problems\n",
      "124 skills\n"
     ]
    }
   ],
   "source": [
    "print(len(df['user_id'].unique()), 'users')\n",
    "print(len(df['problem_id'].unique()), 'problems')\n",
    "print(len(df['skill_id'].unique()), 'skills')"
   ]
  },
  {
   "cell_type": "code",
   "execution_count": 25,
   "metadata": {},
   "outputs": [
    {
     "data": {
      "text/plain": [
       "338001"
      ]
     },
     "execution_count": 25,
     "metadata": {},
     "output_type": "execute_result"
    }
   ],
   "source": [
    "len(df.query('skill_id == skill_id'))"
   ]
  },
  {
   "cell_type": "code",
   "execution_count": 26,
   "metadata": {},
   "outputs": [
    {
     "data": {
      "text/plain": [
       "63755"
      ]
     },
     "execution_count": 26,
     "metadata": {},
     "output_type": "execute_result"
    }
   ],
   "source": [
    "len(df.query('skill_id != skill_id'))"
   ]
  },
  {
   "cell_type": "code",
   "execution_count": 28,
   "metadata": {},
   "outputs": [
    {
     "data": {
      "text/plain": [
       "401756"
      ]
     },
     "execution_count": 28,
     "metadata": {},
     "output_type": "execute_result"
    }
   ],
   "source": [
    "len(df)"
   ]
  },
  {
   "cell_type": "markdown",
   "metadata": {},
   "source": [
    "# Group by à n'en plus finir"
   ]
  },
  {
   "cell_type": "code",
   "execution_count": 34,
   "metadata": {},
   "outputs": [
    {
     "data": {
      "text/plain": [
       "Counter({0: 8937, 1: 14734, 2: 2620, 3: 316, 4: 81})"
      ]
     },
     "execution_count": 34,
     "metadata": {},
     "output_type": "execute_result"
    }
   ],
   "source": [
    "from collections import Counter\n",
    "\n",
    "nb_skills = df[['problem_id', 'skill_id']].drop_duplicates().groupby('problem_id').count().sort_values('skill_id', ascending=False)\n",
    "Counter(nb_skills['skill_id'])"
   ]
  },
  {
   "cell_type": "code",
   "execution_count": 40,
   "metadata": {},
   "outputs": [],
   "source": [
    "data = df.sort_values('order_id')[['order_id', 'user_id', 'problem_id', 'correct']].drop_duplicates()"
   ]
  },
  {
   "cell_type": "code",
   "execution_count": 41,
   "metadata": {},
   "outputs": [
    {
     "data": {
      "text/plain": [
       "(346860, 346860)"
      ]
     },
     "execution_count": 41,
     "metadata": {},
     "output_type": "execute_result"
    }
   ],
   "source": [
    "len(data['order_id']), len(data['order_id'].unique())"
   ]
  },
  {
   "cell_type": "code",
   "execution_count": 43,
   "metadata": {},
   "outputs": [
    {
     "data": {
      "text/plain": [
       "(346860, 26688)"
      ]
     },
     "execution_count": 43,
     "metadata": {},
     "output_type": "execute_result"
    }
   ],
   "source": [
    "len(data['problem_id']), len(data['problem_id'].unique())"
   ]
  },
  {
   "cell_type": "code",
   "execution_count": 51,
   "metadata": {},
   "outputs": [],
   "source": [
    "# Q-matrix"
   ]
  },
  {
   "cell_type": "code",
   "execution_count": 58,
   "metadata": {},
   "outputs": [],
   "source": [
    "qmatrix = df[['problem_id', 'skill_id']].drop_duplicates().query('skill_id == skill_id')"
   ]
  },
  {
   "cell_type": "code",
   "execution_count": 59,
   "metadata": {},
   "outputs": [],
   "source": [
    "# Make sparse q-matrix"
   ]
  },
  {
   "cell_type": "code",
   "execution_count": 154,
   "metadata": {},
   "outputs": [
    {
     "data": {
      "text/html": [
       "<div>\n",
       "<style>\n",
       "    .dataframe thead tr:only-child th {\n",
       "        text-align: right;\n",
       "    }\n",
       "\n",
       "    .dataframe thead th {\n",
       "        text-align: left;\n",
       "    }\n",
       "\n",
       "    .dataframe tbody tr th {\n",
       "        vertical-align: top;\n",
       "    }\n",
       "</style>\n",
       "<table border=\"1\" class=\"dataframe\">\n",
       "  <thead>\n",
       "    <tr style=\"text-align: right;\">\n",
       "      <th></th>\n",
       "      <th>order_id</th>\n",
       "      <th>user_id</th>\n",
       "      <th>problem_id</th>\n",
       "      <th>correct</th>\n",
       "      <th>user_id0</th>\n",
       "      <th>problem_id0</th>\n",
       "    </tr>\n",
       "  </thead>\n",
       "  <tbody>\n",
       "    <tr>\n",
       "      <th>274929</th>\n",
       "      <td>20224085</td>\n",
       "      <td>73963</td>\n",
       "      <td>76429</td>\n",
       "      <td>0</td>\n",
       "      <td>0</td>\n",
       "      <td>0</td>\n",
       "    </tr>\n",
       "    <tr>\n",
       "      <th>274930</th>\n",
       "      <td>20224095</td>\n",
       "      <td>73963</td>\n",
       "      <td>76430</td>\n",
       "      <td>1</td>\n",
       "      <td>0</td>\n",
       "      <td>1</td>\n",
       "    </tr>\n",
       "    <tr>\n",
       "      <th>274931</th>\n",
       "      <td>20224113</td>\n",
       "      <td>73963</td>\n",
       "      <td>76431</td>\n",
       "      <td>1</td>\n",
       "      <td>0</td>\n",
       "      <td>2</td>\n",
       "    </tr>\n",
       "    <tr>\n",
       "      <th>274932</th>\n",
       "      <td>20224123</td>\n",
       "      <td>73963</td>\n",
       "      <td>76432</td>\n",
       "      <td>1</td>\n",
       "      <td>0</td>\n",
       "      <td>3</td>\n",
       "    </tr>\n",
       "    <tr>\n",
       "      <th>274933</th>\n",
       "      <td>20224142</td>\n",
       "      <td>73963</td>\n",
       "      <td>76433</td>\n",
       "      <td>0</td>\n",
       "      <td>0</td>\n",
       "      <td>4</td>\n",
       "    </tr>\n",
       "  </tbody>\n",
       "</table>\n",
       "</div>"
      ],
      "text/plain": [
       "        order_id  user_id  problem_id  correct  user_id0  problem_id0\n",
       "274929  20224085    73963       76429        0         0            0\n",
       "274930  20224095    73963       76430        1         0            1\n",
       "274931  20224113    73963       76431        1         0            2\n",
       "274932  20224123    73963       76432        1         0            3\n",
       "274933  20224142    73963       76433        0         0            4"
      ]
     },
     "execution_count": 154,
     "metadata": {},
     "output_type": "execute_result"
    }
   ],
   "source": [
    "data.head()"
   ]
  },
  {
   "cell_type": "code",
   "execution_count": 62,
   "metadata": {},
   "outputs": [],
   "source": [
    "def renumber(df, field, encoder=None):\n",
    "    if encoder == None:\n",
    "        ids = df[field].unique()\n",
    "        nb = len(ids)\n",
    "        encoder = dict(zip(ids, range(nb)))\n",
    "    df[field + '0'] = df[field].map(encoder)\n",
    "    return encoder, df"
   ]
  },
  {
   "cell_type": "code",
   "execution_count": 82,
   "metadata": {},
   "outputs": [],
   "source": [
    "encode_user, data = renumber(data, 'user_id')\n",
    "encode_problem, data = renumber(data, 'problem_id')"
   ]
  },
  {
   "cell_type": "code",
   "execution_count": 83,
   "metadata": {},
   "outputs": [],
   "source": [
    "_, qmatrix = renumber(qmatrix, 'problem_id', encode_problem)\n",
    "encode_skill, qmatrix = renumber(qmatrix, 'skill_id')"
   ]
  },
  {
   "cell_type": "code",
   "execution_count": 85,
   "metadata": {},
   "outputs": [
    {
     "data": {
      "text/html": [
       "<div>\n",
       "<style>\n",
       "    .dataframe thead tr:only-child th {\n",
       "        text-align: right;\n",
       "    }\n",
       "\n",
       "    .dataframe thead th {\n",
       "        text-align: left;\n",
       "    }\n",
       "\n",
       "    .dataframe tbody tr th {\n",
       "        vertical-align: top;\n",
       "    }\n",
       "</style>\n",
       "<table border=\"1\" class=\"dataframe\">\n",
       "  <thead>\n",
       "    <tr style=\"text-align: right;\">\n",
       "      <th></th>\n",
       "      <th>problem_id</th>\n",
       "      <th>skill_id</th>\n",
       "      <th>problem_id0</th>\n",
       "      <th>skill_id0</th>\n",
       "    </tr>\n",
       "  </thead>\n",
       "  <tbody>\n",
       "    <tr>\n",
       "      <th>0</th>\n",
       "      <td>51424</td>\n",
       "      <td>1.0</td>\n",
       "      <td>7382</td>\n",
       "      <td>0</td>\n",
       "    </tr>\n",
       "    <tr>\n",
       "      <th>1</th>\n",
       "      <td>51435</td>\n",
       "      <td>1.0</td>\n",
       "      <td>7488</td>\n",
       "      <td>0</td>\n",
       "    </tr>\n",
       "    <tr>\n",
       "      <th>2</th>\n",
       "      <td>51444</td>\n",
       "      <td>1.0</td>\n",
       "      <td>21950</td>\n",
       "      <td>0</td>\n",
       "    </tr>\n",
       "    <tr>\n",
       "      <th>3</th>\n",
       "      <td>51395</td>\n",
       "      <td>1.0</td>\n",
       "      <td>7497</td>\n",
       "      <td>0</td>\n",
       "    </tr>\n",
       "    <tr>\n",
       "      <th>4</th>\n",
       "      <td>51481</td>\n",
       "      <td>1.0</td>\n",
       "      <td>21802</td>\n",
       "      <td>0</td>\n",
       "    </tr>\n",
       "  </tbody>\n",
       "</table>\n",
       "</div>"
      ],
      "text/plain": [
       "   problem_id  skill_id  problem_id0  skill_id0\n",
       "0       51424       1.0         7382          0\n",
       "1       51435       1.0         7488          0\n",
       "2       51444       1.0        21950          0\n",
       "3       51395       1.0         7497          0\n",
       "4       51481       1.0        21802          0"
      ]
     },
     "execution_count": 85,
     "metadata": {},
     "output_type": "execute_result"
    }
   ],
   "source": [
    "qmatrix.head()"
   ]
  },
  {
   "cell_type": "code",
   "execution_count": 86,
   "metadata": {},
   "outputs": [],
   "source": [
    "from scipy.sparse import coo_matrix\n",
    "\n",
    "rows = qmatrix['problem_id0']\n",
    "cols = qmatrix['skill_id0']\n",
    "sp_qmatrix = coo_matrix(([1] * len(rows), (rows, cols)), shape=(len(encode_problem), len(encode_skill))).tocsr()"
   ]
  },
  {
   "cell_type": "code",
   "execution_count": 157,
   "metadata": {},
   "outputs": [],
   "source": [
    "# Save qmatrix\n",
    "save_npz('/Users/jilljenn/code/TF-recomm/data/assistments0/qmatrix.npz', sp_qmatrix)"
   ]
  },
  {
   "cell_type": "code",
   "execution_count": 87,
   "metadata": {},
   "outputs": [
    {
     "data": {
      "text/plain": [
       "Counter({0: 8937, 1: 14734, 2: 2620, 3: 316, 4: 81})"
      ]
     },
     "execution_count": 87,
     "metadata": {},
     "output_type": "execute_result"
    }
   ],
   "source": [
    "Counter(sp_qmatrix.sum(axis=1).A1)"
   ]
  },
  {
   "cell_type": "code",
   "execution_count": 88,
   "metadata": {},
   "outputs": [],
   "source": [
    "# Count number of wins/fails"
   ]
  },
  {
   "cell_type": "code",
   "execution_count": 4,
   "metadata": {},
   "outputs": [],
   "source": [
    "from scipy.sparse import lil_matrix\n",
    "\n",
    "dummy = pd.DataFrame([\n",
    "    [1, 1, 1],\n",
    "    [1, 1, 0],\n",
    "    [1, 1, 1],\n",
    "    [1, 2, 0],\n",
    "    [1, 2, 1],\n",
    "    [0, 1, 1],\n",
    "    [0, 0, 0]\n",
    "], columns=('user', 'item', 'outcome'))\n",
    "sp_dummy = lil_matrix((3, 3))\n",
    "sp_dummy[1, 0] = 1\n",
    "sp_dummy[1, 1] = 1\n",
    "sp_dummy[2, 1] = 1\n",
    "sp_dummy[2, 2] = 1\n",
    "sp_dummy = sp_dummy.tocsr()"
   ]
  },
  {
   "cell_type": "code",
   "execution_count": 5,
   "metadata": {},
   "outputs": [
    {
     "data": {
      "text/plain": [
       "array([[ 0.,  0.,  0.],\n",
       "       [ 1.,  1.,  0.],\n",
       "       [ 0.,  1.,  1.]])"
      ]
     },
     "execution_count": 5,
     "metadata": {},
     "output_type": "execute_result"
    }
   ],
   "source": [
    "sp_dummy.toarray()"
   ]
  },
  {
   "cell_type": "code",
   "execution_count": 6,
   "metadata": {},
   "outputs": [],
   "source": [
    "from scipy.sparse import save_npz\n",
    "\n",
    "save_npz('/Users/jilljenn/code/TF-recomm/data/dummy/qmatrix.npz', sp_dummy)"
   ]
  },
  {
   "cell_type": "code",
   "execution_count": 155,
   "metadata": {},
   "outputs": [
    {
     "data": {
      "text/html": [
       "<div>\n",
       "<style>\n",
       "    .dataframe thead tr:only-child th {\n",
       "        text-align: right;\n",
       "    }\n",
       "\n",
       "    .dataframe thead th {\n",
       "        text-align: left;\n",
       "    }\n",
       "\n",
       "    .dataframe tbody tr th {\n",
       "        vertical-align: top;\n",
       "    }\n",
       "</style>\n",
       "<table border=\"1\" class=\"dataframe\">\n",
       "  <thead>\n",
       "    <tr style=\"text-align: right;\">\n",
       "      <th></th>\n",
       "      <th>user_id0</th>\n",
       "      <th>problem_id0</th>\n",
       "      <th>correct</th>\n",
       "    </tr>\n",
       "  </thead>\n",
       "  <tbody>\n",
       "    <tr>\n",
       "      <th>274929</th>\n",
       "      <td>0</td>\n",
       "      <td>0</td>\n",
       "      <td>0</td>\n",
       "    </tr>\n",
       "    <tr>\n",
       "      <th>274930</th>\n",
       "      <td>0</td>\n",
       "      <td>1</td>\n",
       "      <td>1</td>\n",
       "    </tr>\n",
       "    <tr>\n",
       "      <th>274931</th>\n",
       "      <td>0</td>\n",
       "      <td>2</td>\n",
       "      <td>1</td>\n",
       "    </tr>\n",
       "    <tr>\n",
       "      <th>274932</th>\n",
       "      <td>0</td>\n",
       "      <td>3</td>\n",
       "      <td>1</td>\n",
       "    </tr>\n",
       "    <tr>\n",
       "      <th>274933</th>\n",
       "      <td>0</td>\n",
       "      <td>4</td>\n",
       "      <td>0</td>\n",
       "    </tr>\n",
       "  </tbody>\n",
       "</table>\n",
       "</div>"
      ],
      "text/plain": [
       "        user_id0  problem_id0  correct\n",
       "274929         0            0        0\n",
       "274930         0            1        1\n",
       "274931         0            2        1\n",
       "274932         0            3        1\n",
       "274933         0            4        0"
      ]
     },
     "execution_count": 155,
     "metadata": {},
     "output_type": "execute_result"
    }
   ],
   "source": [
    "assistments = data[['user_id0', 'problem_id0', 'correct']]\n",
    "assistments.head()"
   ]
  },
  {
   "cell_type": "code",
   "execution_count": 10,
   "metadata": {},
   "outputs": [],
   "source": [
    "sp_qmatrix = sp_dummy\n",
    "assistments = dummy"
   ]
  },
  {
   "cell_type": "code",
   "execution_count": 11,
   "metadata": {},
   "outputs": [],
   "source": [
    "import numpy as np\n",
    "\n",
    "nb_users = 2 # len(encode_user) # 2\n",
    "nb_items = 3 # len(encode_problem) # 3\n",
    "nb_skills = 3 # len(encode_skill) # 3\n",
    "count_item_wins = np.zeros((nb_users, nb_items))\n",
    "count_item_fails = np.zeros((nb_users, nb_items))\n",
    "count_skill_wins = np.zeros((nb_users, nb_skills))\n",
    "count_skill_fails = np.zeros((nb_users, nb_skills))\n",
    "all_skill_wins = []\n",
    "all_skill_fails = []\n",
    "all_item_wins = []\n",
    "all_item_fails = []\n",
    "for user_id, item_id, outcome in np.array(assistments):\n",
    "    skill_ids = sp_qmatrix[item_id]\n",
    "    \n",
    "    item_wins = count_item_wins[user_id, item_id]\n",
    "    item_fails = count_item_fails[user_id, item_id]\n",
    "    all_item_wins.append(item_wins)\n",
    "    all_item_fails.append(item_fails)\n",
    "    \n",
    "    skill_wins = skill_ids.multiply(count_skill_wins[user_id])\n",
    "    skill_fails = skill_ids.multiply(count_skill_fails[user_id])\n",
    "    all_skill_wins.append(skill_wins)\n",
    "    all_skill_fails.append(skill_fails)\n",
    "    if outcome == 1:\n",
    "        count_item_wins[user_id, item_id] += 1\n",
    "        count_skill_wins[user_id, skill_ids.indices] += 1\n",
    "    else:\n",
    "        count_item_fails[user_id, item_id] += 1\n",
    "        count_skill_fails[user_id, skill_ids.indices] += 1"
   ]
  },
  {
   "cell_type": "code",
   "execution_count": 12,
   "metadata": {},
   "outputs": [],
   "source": [
    "assistments['wins'] = all_item_wins\n",
    "assistments['fails'] = all_item_fails"
   ]
  },
  {
   "cell_type": "code",
   "execution_count": 13,
   "metadata": {},
   "outputs": [],
   "source": [
    "dummy.to_csv('/Users/jilljenn/code/TF-recomm/data/dummy/all.csv', index=False, header=False)"
   ]
  },
  {
   "cell_type": "code",
   "execution_count": 165,
   "metadata": {},
   "outputs": [],
   "source": [
    "assistments.to_csv('/Users/jilljenn/code/TF-recomm/data/assistments0/all.csv', index=False, header=False)"
   ]
  },
  {
   "cell_type": "code",
   "execution_count": 14,
   "metadata": {},
   "outputs": [],
   "source": [
    "from scipy.sparse import vstack\n",
    "\n",
    "skill_wins = vstack(all_skill_wins).tocsr()"
   ]
  },
  {
   "cell_type": "code",
   "execution_count": 15,
   "metadata": {},
   "outputs": [
    {
     "data": {
      "text/plain": [
       "(7, 3)"
      ]
     },
     "execution_count": 15,
     "metadata": {},
     "output_type": "execute_result"
    }
   ],
   "source": [
    "save_npz('/Users/jilljenn/code/TF-recomm/data/dummy/skill_wins.npz', skill_wins)\n",
    "skill_wins.shape"
   ]
  },
  {
   "cell_type": "code",
   "execution_count": 16,
   "metadata": {},
   "outputs": [
    {
     "data": {
      "text/plain": [
       "(7, 3)"
      ]
     },
     "execution_count": 16,
     "metadata": {},
     "output_type": "execute_result"
    }
   ],
   "source": [
    "skill_fails = vstack(all_skill_fails).tocsr()\n",
    "save_npz('/Users/jilljenn/code/TF-recomm/data/dummy/skill_fails.npz', skill_fails)\n",
    "skill_fails.shape"
   ]
  },
  {
   "cell_type": "code",
   "execution_count": 17,
   "metadata": {},
   "outputs": [
    {
     "data": {
      "text/plain": [
       "(array([ 2.,  3.,  1.]), array([ 1.,  2.,  1.]))"
      ]
     },
     "execution_count": 17,
     "metadata": {},
     "output_type": "execute_result"
    }
   ],
   "source": [
    "count_skill_wins[1], count_skill_fails[1]"
   ]
  },
  {
   "cell_type": "code",
   "execution_count": 170,
   "metadata": {},
   "outputs": [],
   "source": [
    "import os.path, yaml\n",
    "\n",
    "with open(os.path.join('/Users/jilljenn/code/TF-recomm/data/assistments0/', 'config.yml'), 'w') as f:\n",
    "    config = {\n",
    "        'USER_NUM': nb_users,\n",
    "        'ITEM_NUM': nb_items,\n",
    "    }\n",
    "    f.write(yaml.dump(config, default_flow_style=False))"
   ]
  }
 ],
 "metadata": {
  "kernelspec": {
   "display_name": "Python 3",
   "language": "python",
   "name": "python3"
  },
  "language_info": {
   "codemirror_mode": {
    "name": "ipython",
    "version": 3
   },
   "file_extension": ".py",
   "mimetype": "text/x-python",
   "name": "python",
   "nbconvert_exporter": "python",
   "pygments_lexer": "ipython3",
   "version": "3.6.5"
  }
 },
 "nbformat": 4,
 "nbformat_minor": 2
}
