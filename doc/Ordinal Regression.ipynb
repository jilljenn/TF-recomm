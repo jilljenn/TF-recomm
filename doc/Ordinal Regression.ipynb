{
 "cells": [
  {
   "cell_type": "markdown",
   "metadata": {},
   "source": [
    "# NumPy World"
   ]
  },
  {
   "cell_type": "code",
   "execution_count": 195,
   "metadata": {},
   "outputs": [],
   "source": [
    "import numpy as np"
   ]
  },
  {
   "cell_type": "code",
   "execution_count": 196,
   "metadata": {
    "collapsed": true
   },
   "outputs": [],
   "source": [
    "N = 10\n",
    "D = 5\n",
    "NB_CLASSES = 4"
   ]
  },
  {
   "cell_type": "code",
   "execution_count": 205,
   "metadata": {},
   "outputs": [],
   "source": [
    "Th = np.random.random((N, D))*1\n",
    "x = np.random.random(D)\n",
    "logits = Th.dot(x)"
   ]
  },
  {
   "cell_type": "code",
   "execution_count": 206,
   "metadata": {},
   "outputs": [
    {
     "data": {
      "text/plain": [
       "array([-0.34937362,  0.91097076,  2.17131515])"
      ]
     },
     "execution_count": 206,
     "metadata": {},
     "output_type": "execute_result"
    }
   ],
   "source": [
    "SCALE = 2.5\n",
    "mini = logits.mean() - SCALE * (logits.mean() - logits.min())\n",
    "maxi = logits.mean() + SCALE * (logits.max() - logits.mean())\n",
    "thresholds = np.linspace(mini, maxi, NB_CLASSES - 1)\n",
    "thresholds"
   ]
  },
  {
   "cell_type": "code",
   "execution_count": 207,
   "metadata": {},
   "outputs": [
    {
     "data": {
      "text/plain": [
       "array([ 2.,  1.,  1.,  2.,  0.,  2.,  2.,  3.,  2.,  3.])"
      ]
     },
     "execution_count": 207,
     "metadata": {},
     "output_type": "execute_result"
    }
   ],
   "source": [
    "labels = np.round(np.random.random(N)*3)\n",
    "labels"
   ]
  },
  {
   "cell_type": "code",
   "execution_count": 208,
   "metadata": {
    "collapsed": true
   },
   "outputs": [],
   "source": [
    "def sigmoid(x):\n",
    "    return 1 / (1 + np.exp(-x))"
   ]
  },
  {
   "cell_type": "code",
   "execution_count": 209,
   "metadata": {},
   "outputs": [
    {
     "data": {
      "text/plain": [
       "array([[ 0.81562349,  0.55641588,  0.26236434],\n",
       "       [ 0.82588572,  0.57356227,  0.27608919],\n",
       "       [ 0.86533386,  0.64564997,  0.34065603],\n",
       "       [ 0.78178965,  0.50394538,  0.22364281],\n",
       "       [ 0.81308505,  0.55226776,  0.2591278 ],\n",
       "       [ 0.82502042,  0.5720927 ,  0.27489048],\n",
       "       [ 0.87201811,  0.65894066,  0.35393945],\n",
       "       [ 0.86492973,  0.64485715,  0.3398785 ],\n",
       "       [ 0.78413529,  0.50739579,  0.2260486 ],\n",
       "       [ 0.71313231,  0.41345553,  0.16658266]])"
      ]
     },
     "execution_count": 209,
     "metadata": {},
     "output_type": "execute_result"
    }
   ],
   "source": [
    "cdf = sigmoid(Th.dot(x)[:, None] - thresholds)\n",
    "cdf"
   ]
  },
  {
   "cell_type": "code",
   "execution_count": 210,
   "metadata": {
    "collapsed": true
   },
   "outputs": [],
   "source": [
    "operator = np.fromfunction(lambda i, j: (j == i + 1) - 1 * (j == i), (NB_CLASSES - 1, NB_CLASSES), dtype=float)"
   ]
  },
  {
   "cell_type": "code",
   "execution_count": 211,
   "metadata": {},
   "outputs": [],
   "source": [
    "b = np.fromfunction(lambda i, j: 1. * (j == 0), (1, NB_CLASSES), dtype=float)"
   ]
  },
  {
   "cell_type": "code",
   "execution_count": 212,
   "metadata": {},
   "outputs": [],
   "source": [
    "pdf = cdf.dot(operator) + b"
   ]
  },
  {
   "cell_type": "code",
   "execution_count": 213,
   "metadata": {},
   "outputs": [
    {
     "data": {
      "text/plain": [
       "array([[ 0.18437651,  0.25920761,  0.29405153,  0.26236434],\n",
       "       [ 0.17411428,  0.25232345,  0.29747308,  0.27608919],\n",
       "       [ 0.13466614,  0.21968389,  0.30499394,  0.34065603],\n",
       "       [ 0.21821035,  0.27784427,  0.28030257,  0.22364281],\n",
       "       [ 0.18691495,  0.26081729,  0.29313996,  0.2591278 ],\n",
       "       [ 0.17497958,  0.25292772,  0.29720222,  0.27489048],\n",
       "       [ 0.12798189,  0.21307745,  0.30500121,  0.35393945],\n",
       "       [ 0.13507027,  0.22007258,  0.30497864,  0.3398785 ],\n",
       "       [ 0.21586471,  0.2767395 ,  0.28134719,  0.2260486 ],\n",
       "       [ 0.28686769,  0.29967678,  0.24687288,  0.16658266]])"
      ]
     },
     "execution_count": 213,
     "metadata": {},
     "output_type": "execute_result"
    }
   ],
   "source": [
    "pdf"
   ]
  },
  {
   "cell_type": "code",
   "execution_count": 214,
   "metadata": {},
   "outputs": [
    {
     "data": {
      "text/plain": [
       "array([2, 2, 3, 2, 2, 2, 3, 3, 2, 1])"
      ]
     },
     "execution_count": 214,
     "metadata": {},
     "output_type": "execute_result"
    }
   ],
   "source": [
    "pred_labels = np.argmax(pdf, axis=1)\n",
    "pred_labels"
   ]
  },
  {
   "cell_type": "code",
   "execution_count": 216,
   "metadata": {},
   "outputs": [
    {
     "data": {
      "text/plain": [
       "1.360597513845669"
      ]
     },
     "execution_count": 216,
     "metadata": {},
     "output_type": "execute_result"
    }
   ],
   "source": [
    "from sklearn.metrics import log_loss\n",
    "log_loss(labels, pdf)"
   ]
  },
  {
   "cell_type": "code",
   "execution_count": 151,
   "metadata": {},
   "outputs": [],
   "source": [
    "#sess = tf.InteractiveSession()\n",
    "#sess.run(tf.argmax(pdf, axis=1))"
   ]
  },
  {
   "cell_type": "code",
   "execution_count": 152,
   "metadata": {
    "collapsed": true
   },
   "outputs": [],
   "source": [
    "def logloss(x):\n",
    "    return np.log(1 + np.exp(-x))"
   ]
  },
  {
   "cell_type": "code",
   "execution_count": 141,
   "metadata": {},
   "outputs": [
    {
     "data": {
      "text/plain": [
       "<tf.Tensor 'logistic_loss:0' shape=(10,) dtype=float64>"
      ]
     },
     "execution_count": 141,
     "metadata": {},
     "output_type": "execute_result"
    }
   ],
   "source": []
  },
  {
   "cell_type": "code",
   "execution_count": 135,
   "metadata": {
    "collapsed": true
   },
   "outputs": [],
   "source": [
    "sgn = np.fromfunction(lambda i, j: 2 * (1 + j < labels[i]) - 1, (N, L - 1), dtype=int)"
   ]
  },
  {
   "cell_type": "code",
   "execution_count": 136,
   "metadata": {
    "collapsed": true
   },
   "outputs": [],
   "source": [
    "delta = np.outer(Th.dot(x), np.ones(3)) - thresholds"
   ]
  },
  {
   "cell_type": "code",
   "execution_count": 137,
   "metadata": {},
   "outputs": [
    {
     "data": {
      "text/plain": [
       "array([ 5.65487554,  7.17739489,  6.20764354,  5.56366886,  3.69574892,\n",
       "        3.71039728,  2.38339264,  6.32255626,  7.24467443,  3.3684874 ,\n",
       "        5.26491588,  7.8594586 ,  5.86722618,  2.31494799,  7.42424508,\n",
       "        4.26048122,  6.98919102,  2.80930126,  4.96971201,  6.36932063])"
      ]
     },
     "execution_count": 137,
     "metadata": {},
     "output_type": "execute_result"
    }
   ],
   "source": [
    "logloss(sgn * delta).sum(axis=1)"
   ]
  },
  {
   "cell_type": "markdown",
   "metadata": {},
   "source": [
    "# TensorFlow World"
   ]
  },
  {
   "cell_type": "code",
   "execution_count": 138,
   "metadata": {
    "collapsed": true
   },
   "outputs": [],
   "source": [
    "import tensorflow as tf\n",
    "\n",
    "aa = tf.constant([1., 5., 3.])\n",
    "a = tf.reshape(aa, (3, 1))\n",
    "b = tf.ones([1, 3])"
   ]
  },
  {
   "cell_type": "code",
   "execution_count": 139,
   "metadata": {},
   "outputs": [
    {
     "name": "stdout",
     "output_type": "stream",
     "text": [
      "[[ 1.  1.  1.]\n",
      " [ 5.  5.  5.]\n",
      " [ 3.  3.  3.]]\n"
     ]
    }
   ],
   "source": [
    "#sess = tf.InteractiveSession()\n",
    "with tf.Session() as sess:\n",
    "    print(sess.run(tf.matmul(a, b)))"
   ]
  },
  {
   "cell_type": "code",
   "execution_count": 141,
   "metadata": {},
   "outputs": [
    {
     "data": {
      "text/plain": [
       "array([[ 2.60112042,  2.72313403,  2.7336119 ],\n",
       "       [ 2.21160787,  2.33362148,  2.34409935],\n",
       "       [ 1.8491477 ,  1.97116131,  1.98163918],\n",
       "       [ 1.59921351,  1.72122712,  1.73170499],\n",
       "       [ 0.80161644,  0.92363005,  0.93410792],\n",
       "       [ 1.42925511,  1.55126872,  1.56174659],\n",
       "       [ 1.84278532,  1.96479893,  1.9752768 ],\n",
       "       [ 2.96445091,  3.08646452,  3.09694239],\n",
       "       [ 3.45197331,  3.57398692,  3.58446479],\n",
       "       [ 1.1853049 ,  1.30731851,  1.31779638],\n",
       "       [ 2.38295263,  2.50496624,  2.51544411],\n",
       "       [ 2.45924797,  2.58126158,  2.59173945],\n",
       "       [ 1.71812721,  1.84014082,  1.85061869],\n",
       "       [ 1.72850927,  1.85052288,  1.86100075],\n",
       "       [ 2.30181929,  2.4238329 ,  2.43431077],\n",
       "       [ 1.78828355,  1.91029716,  1.92077503],\n",
       "       [ 3.31815945,  3.44017305,  3.45065092],\n",
       "       [ 0.35326872,  0.47528233,  0.4857602 ],\n",
       "       [ 2.21388236,  2.33589597,  2.34637384],\n",
       "       [ 1.91060683,  2.03262044,  2.04309831]])"
      ]
     },
     "execution_count": 141,
     "metadata": {},
     "output_type": "execute_result"
    }
   ],
   "source": [
    "some_logits[:, None] - thresholds"
   ]
  },
  {
   "cell_type": "code",
   "execution_count": 147,
   "metadata": {},
   "outputs": [
    {
     "data": {
      "text/plain": [
       "array([[-3., -1.,  1.,  3.],\n",
       "       [-1.,  1.,  3.,  5.],\n",
       "       [-1.,  1.,  3.,  5.],\n",
       "       [-1.,  1.,  3.,  5.],\n",
       "       [-1.,  1.,  3.,  5.],\n",
       "       [-3., -1.,  1.,  3.],\n",
       "       [-5., -3., -1.,  1.],\n",
       "       [-3., -1.,  1.,  3.],\n",
       "       [-3., -1.,  1.,  3.],\n",
       "       [-3., -1.,  1.,  3.],\n",
       "       [-3., -1.,  1.,  3.],\n",
       "       [-1.,  1.,  3.,  5.],\n",
       "       [ 1.,  3.,  5.,  7.],\n",
       "       [-5., -3., -1.,  1.],\n",
       "       [-1.,  1.,  3.,  5.],\n",
       "       [-3., -1.,  1.,  3.],\n",
       "       [-3., -1.,  1.,  3.],\n",
       "       [-1.,  1.,  3.,  5.],\n",
       "       [-3., -1.,  1.,  3.],\n",
       "       [-1.,  1.,  3.,  5.]])"
      ]
     },
     "execution_count": 147,
     "metadata": {},
     "output_type": "execute_result"
    }
   ],
   "source": [
    "2 * (range(4) - labels[:, None]) + 1"
   ]
  },
  {
   "cell_type": "code",
   "execution_count": 221,
   "metadata": {
    "collapsed": true
   },
   "outputs": [],
   "source": [
    "logi = tf.placeholder(tf.float32, shape=[None])\n",
    "thr = tf.placeholder(tf.float32, shape=[None])\n",
    "lab = tf.placeholder(tf.int32, shape=[None])"
   ]
  },
  {
   "cell_type": "code",
   "execution_count": 321,
   "metadata": {
    "collapsed": true
   },
   "outputs": [],
   "source": [
    "logi = tf.constant(logits)\n",
    "thr = tf.constant(thresholds)\n",
    "lab_f = tf.constant(labels, dtype=tf.float32)\n",
    "lab_i = tf.constant(labels, dtype=tf.int32)"
   ]
  },
  {
   "cell_type": "code",
   "execution_count": 314,
   "metadata": {
    "collapsed": true
   },
   "outputs": [],
   "source": [
    "tf_pdf = tf.constant(pdf, dtype=tf.float32)\n",
    "tf_cdf = tf.constant(cdf, dtype=tf.float32)"
   ]
  },
  {
   "cell_type": "code",
   "execution_count": 319,
   "metadata": {
    "collapsed": true
   },
   "outputs": [],
   "source": [
    "pdf_logits = tf.log(tf_pdf / (1 - tf_pdf))\n",
    "cdf_logits = tf.log(tf_cdf / (1 - tf_cdf))"
   ]
  },
  {
   "cell_type": "code",
   "execution_count": 322,
   "metadata": {},
   "outputs": [],
   "source": [
    "labels_pdf = tf.one_hot(lab_i, depth=NB_CLASSES)"
   ]
  },
  {
   "cell_type": "code",
   "execution_count": 340,
   "metadata": {},
   "outputs": [],
   "source": [
    "labels_cdf = tf.nn.relu(tf.sign(lab_f[:, None] + 0.5 - tf.range(1, NB_CLASSES, dtype=tf.float32)))"
   ]
  },
  {
   "cell_type": "code",
   "execution_count": 341,
   "metadata": {},
   "outputs": [
    {
     "data": {
      "text/plain": [
       "array([ 2.,  1.,  1.,  2.,  0.,  2.,  2.,  3.,  2.,  3.])"
      ]
     },
     "execution_count": 341,
     "metadata": {},
     "output_type": "execute_result"
    }
   ],
   "source": [
    "labels"
   ]
  },
  {
   "cell_type": "code",
   "execution_count": 330,
   "metadata": {},
   "outputs": [
    {
     "data": {
      "text/plain": [
       "array([[ 0.18437651,  0.25920761,  0.29405153,  0.26236434],\n",
       "       [ 0.17411428,  0.25232345,  0.29747308,  0.27608919],\n",
       "       [ 0.13466614,  0.21968389,  0.30499394,  0.34065603],\n",
       "       [ 0.21821035,  0.27784427,  0.28030257,  0.22364281],\n",
       "       [ 0.18691495,  0.26081729,  0.29313996,  0.2591278 ],\n",
       "       [ 0.17497958,  0.25292772,  0.29720222,  0.27489048],\n",
       "       [ 0.12798189,  0.21307745,  0.30500121,  0.35393945],\n",
       "       [ 0.13507027,  0.22007258,  0.30497864,  0.3398785 ],\n",
       "       [ 0.21586471,  0.2767395 ,  0.28134719,  0.2260486 ],\n",
       "       [ 0.28686769,  0.29967678,  0.24687288,  0.16658266]])"
      ]
     },
     "execution_count": 330,
     "metadata": {},
     "output_type": "execute_result"
    }
   ],
   "source": [
    "pdf"
   ]
  },
  {
   "cell_type": "code",
   "execution_count": 339,
   "metadata": {},
   "outputs": [
    {
     "data": {
      "text/plain": [
       "(array([[ 1.48697281,  0.2266285 , -1.03371572],\n",
       "        [ 1.55674446,  0.29640013, -0.9639442 ],\n",
       "        [ 1.86031663,  0.59997231, -0.66037202],\n",
       "        [ 1.27612627,  0.01578174, -1.24456251],\n",
       "        [ 1.47018182,  0.2098375 , -1.05050683],\n",
       "        [ 1.55073893,  0.29039451, -0.96994996],\n",
       "        [ 1.91892135,  0.65857702, -0.60176742],\n",
       "        [ 1.85685313,  0.5965088 , -0.66383576],\n",
       "        [ 1.28992963,  0.0295854 , -1.23075902],\n",
       "        [ 0.91064596, -0.34969845, -1.61004293]], dtype=float32),\n",
       " array([[ 1.,  1.,  0.],\n",
       "        [ 1.,  0.,  0.],\n",
       "        [ 1.,  0.,  0.],\n",
       "        [ 1.,  1.,  0.],\n",
       "        [ 0.,  0.,  0.],\n",
       "        [ 1.,  1.,  0.],\n",
       "        [ 1.,  1.,  0.],\n",
       "        [ 1.,  1.,  1.],\n",
       "        [ 1.,  1.,  0.],\n",
       "        [ 1.,  1.,  1.]], dtype=float32),\n",
       " array([2, 1, 1, 2, 0, 2, 2, 3, 2, 3], dtype=int32))"
      ]
     },
     "execution_count": 339,
     "metadata": {},
     "output_type": "execute_result"
    }
   ],
   "source": [
    "cdf\n",
    "cdf_logits.eval(), labels_cdf.eval(), lab_i.eval()"
   ]
  },
  {
   "cell_type": "code",
   "execution_count": 305,
   "metadata": {
    "collapsed": true
   },
   "outputs": [],
   "source": [
    "def tf_cross_entropy(p, labels_oh):\n",
    "    return -tf.reduce_mean(tf.reduce_sum(tf.multiply(labels_oh, tf.log(p)), axis=1))"
   ]
  },
  {
   "cell_type": "code",
   "execution_count": 342,
   "metadata": {},
   "outputs": [
    {
     "name": "stdout",
     "output_type": "stream",
     "text": [
      "[[ 0.20380244  0.30003488  1.22400022  0.30430529]\n",
      " [ 0.19129889  1.37704349  0.35307154  0.3230871 ]\n",
      " [ 0.14463989  1.51556563  0.36383468  0.41650996]\n",
      " [ 0.24616954  0.3255145   1.27188563  0.2531426 ]\n",
      " [ 1.67710161  0.30221015  0.34692261  0.29992712]\n",
      " [ 0.19234712  0.29159334  1.21334243  0.32143256]\n",
      " [ 0.1369451   0.23962544  1.18743956  0.43686202]\n",
      " [ 0.14510702  0.24855442  0.36381269  1.07916713]\n",
      " [ 0.2431737   0.32398582  1.26816583  0.25624621]\n",
      " [ 0.33808827  0.3562133   0.28352123  1.79226363]]\n",
      "[[ 0.20380247  0.58623928  0.30430529]\n",
      " [ 0.19129889  0.8522889   0.3230871 ]\n",
      " [ 0.14463989  1.0374701   0.41650996]\n",
      " [ 0.24616954  0.68528748  0.2531426 ]\n",
      " [ 1.67710137  0.80355984  0.29992712]\n",
      " [ 0.19234712  0.55845422  0.32143256]\n",
      " [ 0.1369451   0.41712177  0.43686202]\n",
      " [ 0.14510702  0.43872643  1.07916713]\n",
      " [ 0.24317373  0.67846388  0.25624621]\n",
      " [ 0.33808827  0.88320529  1.79226363]]\n"
     ]
    }
   ],
   "source": [
    "with tf.Session() as sess:\n",
    "    print(sess.run(tf.nn.sigmoid_cross_entropy_with_logits(logits=tf_logits, labels=labels_oh)))\n",
    "    print(sess.run(tf.nn.sigmoid_cross_entropy_with_logits(logits=cdf_logits, labels=labels_cdf)))"
   ]
  },
  {
   "cell_type": "code",
   "execution_count": 268,
   "metadata": {},
   "outputs": [
    {
     "name": "stdout",
     "output_type": "stream",
     "text": [
      "1.3606\n"
     ]
    }
   ],
   "source": [
    "with tf.Session() as sess:\n",
    "    print(sess.run(tf_cross_entropy(tf_pdf, labels_oh)))"
   ]
  },
  {
   "cell_type": "code",
   "execution_count": 263,
   "metadata": {},
   "outputs": [
    {
     "data": {
      "text/plain": [
       "-1.3605975"
      ]
     },
     "execution_count": 263,
     "metadata": {},
     "output_type": "execute_result"
    }
   ],
   "source": [
    "bla"
   ]
  },
  {
   "cell_type": "code",
   "execution_count": 254,
   "metadata": {},
   "outputs": [
    {
     "data": {
      "text/plain": [
       "-0.3401494"
      ]
     },
     "execution_count": 254,
     "metadata": {},
     "output_type": "execute_result"
    }
   ],
   "source": [
    "bla.mean()"
   ]
  },
  {
   "cell_type": "code",
   "execution_count": 159,
   "metadata": {
    "collapsed": true
   },
   "outputs": [],
   "source": [
    "def tf_logloss(x):\n",
    "    return tf.log(1 + tf.exp(-x))"
   ]
  },
  {
   "cell_type": "code",
   "execution_count": 172,
   "metadata": {
    "collapsed": true
   },
   "outputs": [],
   "source": [
    "def immediate_thresholds(labels, logits, thresholds):\n",
    "    signs = tf.one_hot(labels, NB_CLASSES - 1) - tf.one_hot(labels - 1, NB_CLASSES - 1)\n",
    "    delta = logits[:, None] - thresholds\n",
    "    return tf.reduce_sum(tf_logloss(signs * delta), axis=1)"
   ]
  },
  {
   "cell_type": "code",
   "execution_count": 177,
   "metadata": {
    "collapsed": true
   },
   "outputs": [],
   "source": [
    "signs = tf.one_hot(labels, NB_CLASSES - 1) - tf.one_hot(labels - 1, NB_CLASSES - 1)"
   ]
  },
  {
   "cell_type": "code",
   "execution_count": 178,
   "metadata": {
    "collapsed": true
   },
   "outputs": [],
   "source": [
    "signs = tf.sign(2 * (tf.range(NB_CLASSES, dtype=tf.float32) - labels[:, None]) + 1)"
   ]
  },
  {
   "cell_type": "code",
   "execution_count": 164,
   "metadata": {
    "collapsed": true
   },
   "outputs": [],
   "source": [
    "def all_thresholds(labels, logits, thresholds):\n",
    "    #batch_size = tf.size(labels).eval()\n",
    "    #sgn = np.fromfunction(lambda i, j: 2 * (1 + j < labels.eval()[i]) - 1, (batch_size, NB_CLASSES - 1), dtype=int)\n",
    "    signs = tf.sign(2 * (tf.range(NB_CLASSES, dtype=tf.float32) - labels[:, None]) + 1)\n",
    "    delta = logits[:, None] - thresholds\n",
    "    return tf.reduce_sum(tf_logloss(signs * delta), axis=1)"
   ]
  },
  {
   "cell_type": "code",
   "execution_count": 166,
   "metadata": {
    "collapsed": true
   },
   "outputs": [],
   "source": [
    "metrics = immediate_thresholds(lab, logits, thr)"
   ]
  },
  {
   "cell_type": "code",
   "execution_count": 127,
   "metadata": {},
   "outputs": [
    {
     "data": {
      "text/plain": [
       "(1, 5)"
      ]
     },
     "execution_count": 127,
     "metadata": {},
     "output_type": "execute_result"
    }
   ],
   "source": [
    "np.random.random((5))[None, :].shape"
   ]
  },
  {
   "cell_type": "code",
   "execution_count": 132,
   "metadata": {
    "collapsed": true
   },
   "outputs": [],
   "source": [
    "delta = logits[:, None] - thr"
   ]
  },
  {
   "cell_type": "code",
   "execution_count": 179,
   "metadata": {},
   "outputs": [
    {
     "name": "stdout",
     "output_type": "stream",
     "text": [
      "[[-1. -1.  1.  1.]\n",
      " [-1.  1.  1.  1.]\n",
      " [-1.  1.  1.  1.]\n",
      " [-1.  1.  1.  1.]\n",
      " [-1.  1.  1.  1.]\n",
      " [-1. -1.  1.  1.]\n",
      " [-1. -1. -1.  1.]\n",
      " [-1. -1.  1.  1.]\n",
      " [-1. -1.  1.  1.]\n",
      " [-1. -1.  1.  1.]\n",
      " [-1. -1.  1.  1.]\n",
      " [-1.  1.  1.  1.]\n",
      " [ 1.  1.  1.  1.]\n",
      " [-1. -1. -1.  1.]\n",
      " [-1.  1.  1.  1.]\n",
      " [-1. -1.  1.  1.]\n",
      " [-1. -1.  1.  1.]\n",
      " [-1.  1.  1.  1.]\n",
      " [-1. -1.  1.  1.]\n",
      " [-1.  1.  1.  1.]]\n"
     ]
    }
   ],
   "source": [
    "with tf.Session() as sess:\n",
    "    print(sess.run(signs, feed_dict={lab: labels, logits: some_logits, thr: thresholds}))"
   ]
  },
  {
   "cell_type": "code",
   "execution_count": 176,
   "metadata": {},
   "outputs": [
    {
     "data": {
      "text/plain": [
       "array([ 2.,  1.,  1.,  1.,  1.,  2.,  3.,  2.,  2.,  2.,  2.,  1.,  0.,\n",
       "        3.,  1.,  2.,  2.,  1.,  2.,  1.])"
      ]
     },
     "execution_count": 176,
     "metadata": {},
     "output_type": "execute_result"
    }
   ],
   "source": [
    "labels"
   ]
  },
  {
   "cell_type": "code",
   "execution_count": 39,
   "metadata": {},
   "outputs": [
    {
     "ename": "ValueError",
     "evalue": "Cannot evaluate tensor using `eval()`: No default session is registered. Use `with sess.as_default()` or pass an explicit session to `eval(session=sess)`",
     "output_type": "error",
     "traceback": [
      "\u001b[0;31m---------------------------------------------------------------------------\u001b[0m",
      "\u001b[0;31mValueError\u001b[0m                                Traceback (most recent call last)",
      "\u001b[0;32m<ipython-input-39-e33374e1b5f8>\u001b[0m in \u001b[0;36m<module>\u001b[0;34m()\u001b[0m\n\u001b[0;32m----> 1\u001b[0;31m \u001b[0mresult\u001b[0m \u001b[0;34m=\u001b[0m \u001b[0mall_thresholds\u001b[0m\u001b[0;34m(\u001b[0m\u001b[0mlogits\u001b[0m\u001b[0;34m,\u001b[0m \u001b[0mthr\u001b[0m\u001b[0;34m,\u001b[0m \u001b[0mlab\u001b[0m\u001b[0;34m)\u001b[0m\u001b[0;34m\u001b[0m\u001b[0m\n\u001b[0m",
      "\u001b[0;32m<ipython-input-37-0f4be4c45e60>\u001b[0m in \u001b[0;36mall_thresholds\u001b[0;34m(labels, logits, thresholds)\u001b[0m\n\u001b[1;32m      1\u001b[0m \u001b[0;32mdef\u001b[0m \u001b[0mall_thresholds\u001b[0m\u001b[0;34m(\u001b[0m\u001b[0mlabels\u001b[0m\u001b[0;34m,\u001b[0m \u001b[0mlogits\u001b[0m\u001b[0;34m,\u001b[0m \u001b[0mthresholds\u001b[0m\u001b[0;34m)\u001b[0m\u001b[0;34m:\u001b[0m\u001b[0;34m\u001b[0m\u001b[0m\n\u001b[0;32m----> 2\u001b[0;31m     \u001b[0mbatch_size\u001b[0m \u001b[0;34m=\u001b[0m \u001b[0mtf\u001b[0m\u001b[0;34m.\u001b[0m\u001b[0msize\u001b[0m\u001b[0;34m(\u001b[0m\u001b[0mlabels\u001b[0m\u001b[0;34m)\u001b[0m\u001b[0;34m.\u001b[0m\u001b[0meval\u001b[0m\u001b[0;34m(\u001b[0m\u001b[0;34m)\u001b[0m\u001b[0;34m\u001b[0m\u001b[0m\n\u001b[0m\u001b[1;32m      3\u001b[0m     \u001b[0msgn\u001b[0m \u001b[0;34m=\u001b[0m \u001b[0mnp\u001b[0m\u001b[0;34m.\u001b[0m\u001b[0mfromfunction\u001b[0m\u001b[0;34m(\u001b[0m\u001b[0;32mlambda\u001b[0m \u001b[0mi\u001b[0m\u001b[0;34m,\u001b[0m \u001b[0mj\u001b[0m\u001b[0;34m:\u001b[0m \u001b[0;36m2\u001b[0m \u001b[0;34m*\u001b[0m \u001b[0;34m(\u001b[0m\u001b[0;36m1\u001b[0m \u001b[0;34m+\u001b[0m \u001b[0mj\u001b[0m \u001b[0;34m<\u001b[0m \u001b[0mlabels\u001b[0m\u001b[0;34m.\u001b[0m\u001b[0meval\u001b[0m\u001b[0;34m(\u001b[0m\u001b[0;34m)\u001b[0m\u001b[0;34m[\u001b[0m\u001b[0mi\u001b[0m\u001b[0;34m]\u001b[0m\u001b[0;34m)\u001b[0m \u001b[0;34m-\u001b[0m \u001b[0;36m1\u001b[0m\u001b[0;34m,\u001b[0m \u001b[0;34m(\u001b[0m\u001b[0mbatch_size\u001b[0m\u001b[0;34m,\u001b[0m \u001b[0mNB_CLASSES\u001b[0m \u001b[0;34m-\u001b[0m \u001b[0;36m1\u001b[0m\u001b[0;34m)\u001b[0m\u001b[0;34m,\u001b[0m \u001b[0mdtype\u001b[0m\u001b[0;34m=\u001b[0m\u001b[0mint\u001b[0m\u001b[0;34m)\u001b[0m\u001b[0;34m\u001b[0m\u001b[0m\n\u001b[1;32m      4\u001b[0m     \u001b[0mdelta\u001b[0m \u001b[0;34m=\u001b[0m \u001b[0mtf\u001b[0m\u001b[0;34m.\u001b[0m\u001b[0mmatmul\u001b[0m\u001b[0;34m(\u001b[0m\u001b[0mtf\u001b[0m\u001b[0;34m.\u001b[0m\u001b[0mreshape\u001b[0m\u001b[0;34m(\u001b[0m\u001b[0mlogits\u001b[0m\u001b[0;34m,\u001b[0m \u001b[0;34m(\u001b[0m\u001b[0mbatch_size\u001b[0m\u001b[0;34m,\u001b[0m \u001b[0;36m1\u001b[0m\u001b[0;34m)\u001b[0m\u001b[0;34m)\u001b[0m\u001b[0;34m,\u001b[0m \u001b[0mtf\u001b[0m\u001b[0;34m.\u001b[0m\u001b[0mones\u001b[0m\u001b[0;34m(\u001b[0m\u001b[0;34m[\u001b[0m\u001b[0;36m1\u001b[0m\u001b[0;34m,\u001b[0m \u001b[0mNB_CLASSES\u001b[0m \u001b[0;34m-\u001b[0m \u001b[0;36m1\u001b[0m\u001b[0;34m]\u001b[0m\u001b[0;34m,\u001b[0m \u001b[0mtf\u001b[0m\u001b[0;34m.\u001b[0m\u001b[0mfloat64\u001b[0m\u001b[0;34m)\u001b[0m\u001b[0;34m)\u001b[0m \u001b[0;34m-\u001b[0m \u001b[0mthresholds\u001b[0m\u001b[0;34m\u001b[0m\u001b[0m\n\u001b[1;32m      5\u001b[0m     \u001b[0;32mreturn\u001b[0m \u001b[0mtf\u001b[0m\u001b[0;34m.\u001b[0m\u001b[0mreduce_sum\u001b[0m\u001b[0;34m(\u001b[0m\u001b[0mtf_logloss\u001b[0m\u001b[0;34m(\u001b[0m\u001b[0msgn\u001b[0m \u001b[0;34m*\u001b[0m \u001b[0mdelta\u001b[0m\u001b[0;34m)\u001b[0m\u001b[0;34m,\u001b[0m \u001b[0maxis\u001b[0m\u001b[0;34m=\u001b[0m\u001b[0;36m1\u001b[0m\u001b[0;34m)\u001b[0m\u001b[0;34m\u001b[0m\u001b[0m\n",
      "\u001b[0;32m~/code/TF-recomm/venv/lib/python3.6/site-packages/tensorflow/python/framework/ops.py\u001b[0m in \u001b[0;36meval\u001b[0;34m(self, feed_dict, session)\u001b[0m\n\u001b[1;32m    568\u001b[0m \u001b[0;34m\u001b[0m\u001b[0m\n\u001b[1;32m    569\u001b[0m     \"\"\"\n\u001b[0;32m--> 570\u001b[0;31m     \u001b[0;32mreturn\u001b[0m \u001b[0m_eval_using_default_session\u001b[0m\u001b[0;34m(\u001b[0m\u001b[0mself\u001b[0m\u001b[0;34m,\u001b[0m \u001b[0mfeed_dict\u001b[0m\u001b[0;34m,\u001b[0m \u001b[0mself\u001b[0m\u001b[0;34m.\u001b[0m\u001b[0mgraph\u001b[0m\u001b[0;34m,\u001b[0m \u001b[0msession\u001b[0m\u001b[0;34m)\u001b[0m\u001b[0;34m\u001b[0m\u001b[0m\n\u001b[0m\u001b[1;32m    571\u001b[0m \u001b[0;34m\u001b[0m\u001b[0m\n\u001b[1;32m    572\u001b[0m   \u001b[0;32mdef\u001b[0m \u001b[0m_dup\u001b[0m\u001b[0;34m(\u001b[0m\u001b[0mself\u001b[0m\u001b[0;34m)\u001b[0m\u001b[0;34m:\u001b[0m\u001b[0;34m\u001b[0m\u001b[0m\n",
      "\u001b[0;32m~/code/TF-recomm/venv/lib/python3.6/site-packages/tensorflow/python/framework/ops.py\u001b[0m in \u001b[0;36m_eval_using_default_session\u001b[0;34m(tensors, feed_dict, graph, session)\u001b[0m\n\u001b[1;32m   4439\u001b[0m     \u001b[0msession\u001b[0m \u001b[0;34m=\u001b[0m \u001b[0mget_default_session\u001b[0m\u001b[0;34m(\u001b[0m\u001b[0;34m)\u001b[0m\u001b[0;34m\u001b[0m\u001b[0m\n\u001b[1;32m   4440\u001b[0m     \u001b[0;32mif\u001b[0m \u001b[0msession\u001b[0m \u001b[0;32mis\u001b[0m \u001b[0;32mNone\u001b[0m\u001b[0;34m:\u001b[0m\u001b[0;34m\u001b[0m\u001b[0m\n\u001b[0;32m-> 4441\u001b[0;31m       raise ValueError(\"Cannot evaluate tensor using `eval()`: No default \"\n\u001b[0m\u001b[1;32m   4442\u001b[0m                        \u001b[0;34m\"session is registered. Use `with \"\u001b[0m\u001b[0;34m\u001b[0m\u001b[0m\n\u001b[1;32m   4443\u001b[0m                        \u001b[0;34m\"sess.as_default()` or pass an explicit session to \"\u001b[0m\u001b[0;34m\u001b[0m\u001b[0m\n",
      "\u001b[0;31mValueError\u001b[0m: Cannot evaluate tensor using `eval()`: No default session is registered. Use `with sess.as_default()` or pass an explicit session to `eval(session=sess)`"
     ]
    }
   ],
   "source": [
    "result = all_thresholds(logits, thr, lab)"
   ]
  },
  {
   "cell_type": "code",
   "execution_count": 46,
   "metadata": {},
   "outputs": [
    {
     "name": "stdout",
     "output_type": "stream",
     "text": [
      "[ 1.6303095   1.20975196  1.60408551  1.75802107  1.24029919  1.88728056\n",
      "  0.76261534  2.5268018   1.38458055  2.42626421  3.34016564  1.92546685\n",
      "  0.98619173  4.00346476  2.00474428  1.57902     2.66738516  1.99304748\n",
      "  3.28847223  1.96645723]\n"
     ]
    }
   ],
   "source": [
    "with tf.Session() as sess:\n",
    "    print(sess.run(all_thresholds(lab, logits, thr), feed_dict={lab: labels, logits: Th.dot(x), thr: thresholds}))"
   ]
  },
  {
   "cell_type": "code",
   "execution_count": null,
   "metadata": {
    "collapsed": true
   },
   "outputs": [],
   "source": []
  }
 ],
 "metadata": {
  "kernelspec": {
   "display_name": "Python 3",
   "language": "python",
   "name": "python3"
  },
  "language_info": {
   "codemirror_mode": {
    "name": "ipython",
    "version": 3
   },
   "file_extension": ".py",
   "mimetype": "text/x-python",
   "name": "python",
   "nbconvert_exporter": "python",
   "pygments_lexer": "ipython3",
   "version": "3.6.4"
  }
 },
 "nbformat": 4,
 "nbformat_minor": 2
}
