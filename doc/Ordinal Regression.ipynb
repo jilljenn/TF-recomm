{
 "cells": [
  {
   "cell_type": "code",
   "execution_count": 2,
   "metadata": {},
   "outputs": [],
   "source": [
    "import numpy as np"
   ]
  },
  {
   "cell_type": "code",
   "execution_count": 3,
   "metadata": {},
   "outputs": [],
   "source": [
    "N = 20\n",
    "D = 5\n",
    "Th = np.random.random((N, D))*2\n",
    "x = np.random.random(D)"
   ]
  },
  {
   "cell_type": "code",
   "execution_count": 4,
   "metadata": {},
   "outputs": [
    {
     "data": {
      "text/plain": [
       "array([ 3.00313859,  4.07645365,  1.58340697,  2.3587485 ,  4.23725839,\n",
       "        2.71731624,  3.96497897,  3.38484423,  3.20907132,  2.84177447,\n",
       "        3.63115584,  2.94250268,  4.05873768,  2.44655411,  3.24463398,\n",
       "        3.29183882,  3.73503244,  1.30001887,  2.57425252,  3.47264893])"
      ]
     },
     "execution_count": 4,
     "metadata": {},
     "output_type": "execute_result"
    }
   ],
   "source": [
    "Th.dot(x)"
   ]
  },
  {
   "cell_type": "code",
   "execution_count": 5,
   "metadata": {},
   "outputs": [],
   "source": [
    "L = 4\n",
    "thresholds = [1, 3, 5]"
   ]
  },
  {
   "cell_type": "code",
   "execution_count": 6,
   "metadata": {},
   "outputs": [],
   "source": [
    "from math import exp\n",
    "\n",
    "def sigmoid(x):\n",
    "    return 1 / (1 + exp(-x))\n",
    "\n",
    "sigma = np.vectorize(sigmoid)"
   ]
  },
  {
   "cell_type": "code",
   "execution_count": 7,
   "metadata": {},
   "outputs": [],
   "source": [
    "cdf = sigma(np.outer(Th.dot(x), np.ones(3)) - thresholds)\n",
    "#cdf"
   ]
  },
  {
   "cell_type": "code",
   "execution_count": 8,
   "metadata": {},
   "outputs": [
    {
     "data": {
      "text/plain": [
       "array([[ 0.11887378,  0.38034157,  0.3812518 ,  0.11953285],\n",
       "       [ 0.04408904,  0.21008868,  0.46158643,  0.28423585],\n",
       "       [ 0.35814903,  0.44665473,  0.16341535,  0.0317809 ],\n",
       "       [ 0.20444378,  0.45059253,  0.27843342,  0.06653027],\n",
       "       [ 0.03778745,  0.18712612,  0.45703511,  0.31805133],\n",
       "       [ 0.15221717,  0.41798689,  0.33722867,  0.09256727],\n",
       "       [ 0.04903332,  0.22684911,  0.46200574,  0.26211183],\n",
       "       [ 0.08433573,  0.32062334,  0.42916691,  0.16587403],\n",
       "       [ 0.09893883,  0.3489829 ,  0.40911937,  0.1429589 ],\n",
       "       [ 0.13684156,  0.4026325 ,  0.35696086,  0.10356508],\n",
       "       [ 0.06716   ,  0.2800885 ,  0.44994485,  0.20280665],\n",
       "       [ 0.12537317,  0.3889972 ,  0.37233262,  0.11329701],\n",
       "       [ 0.04484174,  0.21270902,  0.46180381,  0.28064543],\n",
       "       [ 0.19053246,  0.44440224,  0.29286998,  0.07219533],\n",
       "       [ 0.09581333,  0.34333136,  0.41348364,  0.14737166],\n",
       "       [ 0.09180113,  0.33575263,  0.41904388,  0.15340237],\n",
       "       [ 0.06093755,  0.26315382,  0.45578869,  0.22011994],\n",
       "       [ 0.42555287,  0.4199794 ,  0.13034026,  0.02412747],\n",
       "       [ 0.17161101,  0.43324674,  0.31391197,  0.08123028],\n",
       "       [ 0.07779797,  0.30619149,  0.43762894,  0.17838159]])"
      ]
     },
     "execution_count": 8,
     "metadata": {},
     "output_type": "execute_result"
    }
   ],
   "source": [
    "pdf = np.column_stack((np.ones(N), cdf))\n",
    "for i in range(3):\n",
    "    pdf[:, i] -= pdf[:, i + 1]\n",
    "pdf"
   ]
  },
  {
   "cell_type": "code",
   "execution_count": 9,
   "metadata": {},
   "outputs": [
    {
     "data": {
      "text/plain": [
       "array([2, 2, 1, 1, 2, 1, 2, 2, 2, 1, 2, 1, 2, 1, 2, 2, 2, 0, 1, 2])"
      ]
     },
     "execution_count": 9,
     "metadata": {},
     "output_type": "execute_result"
    }
   ],
   "source": [
    "np.argmax(pdf, axis=1)"
   ]
  },
  {
   "cell_type": "code",
   "execution_count": 10,
   "metadata": {},
   "outputs": [],
   "source": [
    "def logloss(x):\n",
    "    return np.log(1 + np.exp(-x))"
   ]
  },
  {
   "cell_type": "code",
   "execution_count": 11,
   "metadata": {},
   "outputs": [],
   "source": [
    "labels = np.round(np.random.random(N)*3)"
   ]
  },
  {
   "cell_type": "code",
   "execution_count": 12,
   "metadata": {},
   "outputs": [
    {
     "data": {
      "text/plain": [
       "array([ 2.,  2.,  1.,  1.,  1.,  2.,  1.,  3.,  3.,  3.,  3.,  2.,  1.,\n",
       "        1.,  2.,  2.,  2.,  2.,  1.,  0.])"
      ]
     },
     "execution_count": 12,
     "metadata": {},
     "output_type": "execute_result"
    }
   ],
   "source": [
    "labels"
   ]
  },
  {
   "cell_type": "code",
   "execution_count": 13,
   "metadata": {},
   "outputs": [],
   "source": [
    "sgn = np.fromfunction(lambda i, j: 2 * (1 + j < labels[i]) - 1, (N, L - 1), dtype=int)"
   ]
  },
  {
   "cell_type": "code",
   "execution_count": 14,
   "metadata": {},
   "outputs": [],
   "source": [
    "delta = np.outer(Th.dot(x), np.ones(3)) - thresholds"
   ]
  },
  {
   "cell_type": "code",
   "execution_count": 15,
   "metadata": {},
   "outputs": [
    {
     "data": {
      "text/plain": [
       "array([ 0.94857476,  1.74921665,  1.27625979,  2.07937362,  5.15061829,\n",
       "        0.8240276 ,  4.60699871,  0.78860141,  0.85251699,  1.0318727 ,\n",
       "        0.7227384 ,  0.91901486,  4.79055526,  2.18709989,  1.0830773 ,\n",
       "        1.11249691,  1.43821824,  0.74655946,  2.35000669,  3.70725926])"
      ]
     },
     "execution_count": 15,
     "metadata": {},
     "output_type": "execute_result"
    }
   ],
   "source": [
    "logloss(sgn * delta).sum(axis=1)"
   ]
  },
  {
   "cell_type": "code",
   "execution_count": 49,
   "metadata": {},
   "outputs": [],
   "source": [
    "import tensorflow as tf\n",
    "\n",
    "aa = tf.constant([1., 5., 3.])\n",
    "a = tf.reshape(aa, (3, 1))\n",
    "b = tf.ones([1, 3])"
   ]
  },
  {
   "cell_type": "code",
   "execution_count": 50,
   "metadata": {},
   "outputs": [
    {
     "name": "stdout",
     "output_type": "stream",
     "text": [
      "[[ 1.  1.  1.]\n",
      " [ 5.  5.  5.]\n",
      " [ 3.  3.  3.]]\n"
     ]
    }
   ],
   "source": [
    "#sess = tf.InteractiveSession()\n",
    "with tf.Session() as sess:\n",
    "    print(sess.run(tf.matmul(a, b)))"
   ]
  },
  {
   "cell_type": "code",
   "execution_count": 112,
   "metadata": {},
   "outputs": [],
   "source": [
    "some_logits = Th.dot(x)\n",
    "#thr = tf.cast(tf.constant(thresholds), tf.float64)\n",
    "#lab = tf.constant(labels)"
   ]
  },
  {
   "cell_type": "code",
   "execution_count": 115,
   "metadata": {},
   "outputs": [
    {
     "data": {
      "text/plain": [
       "array([[  2.00313859e+00,   3.13858669e-03,  -1.99686141e+00],\n",
       "       [  3.07645365e+00,   1.07645365e+00,  -9.23546352e-01],\n",
       "       [  5.83406973e-01,  -1.41659303e+00,  -3.41659303e+00],\n",
       "       [  1.35874850e+00,  -6.41251495e-01,  -2.64125150e+00],\n",
       "       [  3.23725839e+00,   1.23725839e+00,  -7.62741614e-01],\n",
       "       [  1.71731624e+00,  -2.82683757e-01,  -2.28268376e+00],\n",
       "       [  2.96497897e+00,   9.64978974e-01,  -1.03502103e+00],\n",
       "       [  2.38484423e+00,   3.84844226e-01,  -1.61515577e+00],\n",
       "       [  2.20907132e+00,   2.09071322e-01,  -1.79092868e+00],\n",
       "       [  1.84177447e+00,  -1.58225534e-01,  -2.15822553e+00],\n",
       "       [  2.63115584e+00,   6.31155842e-01,  -1.36884416e+00],\n",
       "       [  1.94250268e+00,  -5.74973236e-02,  -2.05749732e+00],\n",
       "       [  3.05873768e+00,   1.05873768e+00,  -9.41262321e-01],\n",
       "       [  1.44655411e+00,  -5.53445890e-01,  -2.55344589e+00],\n",
       "       [  2.24463398e+00,   2.44633978e-01,  -1.75536602e+00],\n",
       "       [  2.29183882e+00,   2.91838818e-01,  -1.70816118e+00],\n",
       "       [  2.73503244e+00,   7.35032438e-01,  -1.26496756e+00],\n",
       "       [  3.00018866e-01,  -1.69998113e+00,  -3.69998113e+00],\n",
       "       [  1.57425252e+00,  -4.25747476e-01,  -2.42574748e+00],\n",
       "       [  2.47264893e+00,   4.72648934e-01,  -1.52735107e+00]])"
      ]
     },
     "execution_count": 115,
     "metadata": {},
     "output_type": "execute_result"
    }
   ],
   "source": [
    "some_logits[:, None] - thresholds"
   ]
  },
  {
   "cell_type": "code",
   "execution_count": 119,
   "metadata": {},
   "outputs": [
    {
     "data": {
      "text/plain": [
       "array([[-2., -1.,  0.,  1.],\n",
       "       [-2., -1.,  0.,  1.],\n",
       "       [-1.,  0.,  1.,  2.],\n",
       "       [-1.,  0.,  1.,  2.],\n",
       "       [-1.,  0.,  1.,  2.],\n",
       "       [-2., -1.,  0.,  1.],\n",
       "       [-1.,  0.,  1.,  2.],\n",
       "       [-3., -2., -1.,  0.],\n",
       "       [-3., -2., -1.,  0.],\n",
       "       [-3., -2., -1.,  0.],\n",
       "       [-3., -2., -1.,  0.],\n",
       "       [-2., -1.,  0.,  1.],\n",
       "       [-1.,  0.,  1.,  2.],\n",
       "       [-1.,  0.,  1.,  2.],\n",
       "       [-2., -1.,  0.,  1.],\n",
       "       [-2., -1.,  0.,  1.],\n",
       "       [-2., -1.,  0.,  1.],\n",
       "       [-2., -1.,  0.,  1.],\n",
       "       [-1.,  0.,  1.,  2.],\n",
       "       [ 0.,  1.,  2.,  3.]])"
      ]
     },
     "execution_count": 119,
     "metadata": {},
     "output_type": "execute_result"
    }
   ],
   "source": [
    "range(4) - labels[:, None]"
   ]
  },
  {
   "cell_type": "code",
   "execution_count": 141,
   "metadata": {},
   "outputs": [],
   "source": [
    "logits = tf.placeholder(tf.float32, shape=[None])\n",
    "thr = tf.placeholder(tf.float32, shape=[None])\n",
    "lab = tf.placeholder(tf.float32, shape=[None])"
   ]
  },
  {
   "cell_type": "code",
   "execution_count": 137,
   "metadata": {},
   "outputs": [],
   "source": [
    "NB_CLASSES = 4"
   ]
  },
  {
   "cell_type": "code",
   "execution_count": 138,
   "metadata": {},
   "outputs": [],
   "source": [
    "def tf_logloss(x):\n",
    "    return tf.log(1 + tf.exp(-x))"
   ]
  },
  {
   "cell_type": "code",
   "execution_count": 142,
   "metadata": {},
   "outputs": [],
   "source": [
    "def all_thresholds(labels, logits, thresholds):\n",
    "    #batch_size = tf.size(labels).eval()\n",
    "    #sgn = np.fromfunction(lambda i, j: 2 * (1 + j < labels.eval()[i]) - 1, (batch_size, NB_CLASSES - 1), dtype=int)\n",
    "    signs = tf.sign(2 * (tf.range(NB_CLASSES, dtype=tf.float32) - labels[:, None]) + 1)\n",
    "    delta = logits[:, None] - thresholds\n",
    "    return tf.reduce_sum(tf_logloss(signs * delta), axis=1)"
   ]
  },
  {
   "cell_type": "code",
   "execution_count": 143,
   "metadata": {},
   "outputs": [],
   "source": [
    "metrics = all_thresholds(lab, logits, thr)"
   ]
  },
  {
   "cell_type": "code",
   "execution_count": 127,
   "metadata": {},
   "outputs": [
    {
     "data": {
      "text/plain": [
       "(1, 5)"
      ]
     },
     "execution_count": 127,
     "metadata": {},
     "output_type": "execute_result"
    }
   ],
   "source": [
    "np.random.random((5))[None, :].shape"
   ]
  },
  {
   "cell_type": "code",
   "execution_count": 132,
   "metadata": {},
   "outputs": [],
   "source": [
    "delta = logits[:, None] - thr"
   ]
  },
  {
   "cell_type": "code",
   "execution_count": 133,
   "metadata": {},
   "outputs": [
    {
     "name": "stdout",
     "output_type": "stream",
     "text": [
      "[[  2.00313854e+00   3.13854218e-03  -1.99686146e+00]\n",
      " [  3.07645369e+00   1.07645369e+00  -9.23546314e-01]\n",
      " [  5.83406925e-01  -1.41659307e+00  -3.41659307e+00]\n",
      " [  1.35874844e+00  -6.41251564e-01  -2.64125156e+00]\n",
      " [  3.23725843e+00   1.23725843e+00  -7.62741566e-01]\n",
      " [  1.71731615e+00  -2.82683849e-01  -2.28268385e+00]\n",
      " [  2.96497893e+00   9.64978933e-01  -1.03502107e+00]\n",
      " [  2.38484430e+00   3.84844303e-01  -1.61515570e+00]\n",
      " [  2.20907140e+00   2.09071398e-01  -1.79092860e+00]\n",
      " [  1.84177446e+00  -1.58225536e-01  -2.15822554e+00]\n",
      " [  2.63115573e+00   6.31155729e-01  -1.36884427e+00]\n",
      " [  1.94250274e+00  -5.74972630e-02  -2.05749726e+00]\n",
      " [  3.05873775e+00   1.05873775e+00  -9.41262245e-01]\n",
      " [  1.44655418e+00  -5.53445816e-01  -2.55344582e+00]\n",
      " [  2.24463391e+00   2.44633913e-01  -1.75536609e+00]\n",
      " [  2.29183888e+00   2.91838884e-01  -1.70816112e+00]\n",
      " [  2.73503232e+00   7.35032320e-01  -1.26496768e+00]\n",
      " [  3.00018907e-01  -1.69998109e+00  -3.69998121e+00]\n",
      " [  1.57425261e+00  -4.25747395e-01  -2.42574739e+00]\n",
      " [  2.47264886e+00   4.72648859e-01  -1.52735114e+00]]\n"
     ]
    }
   ],
   "source": [
    "with tf.Session() as sess:\n",
    "    print(sess.run(all_, feed_dict={logits: some_logits, thr: thresholds}))"
   ]
  },
  {
   "cell_type": "code",
   "execution_count": 39,
   "metadata": {},
   "outputs": [
    {
     "ename": "ValueError",
     "evalue": "Cannot evaluate tensor using `eval()`: No default session is registered. Use `with sess.as_default()` or pass an explicit session to `eval(session=sess)`",
     "output_type": "error",
     "traceback": [
      "\u001b[0;31m---------------------------------------------------------------------------\u001b[0m",
      "\u001b[0;31mValueError\u001b[0m                                Traceback (most recent call last)",
      "\u001b[0;32m<ipython-input-39-e33374e1b5f8>\u001b[0m in \u001b[0;36m<module>\u001b[0;34m()\u001b[0m\n\u001b[0;32m----> 1\u001b[0;31m \u001b[0mresult\u001b[0m \u001b[0;34m=\u001b[0m \u001b[0mall_thresholds\u001b[0m\u001b[0;34m(\u001b[0m\u001b[0mlogits\u001b[0m\u001b[0;34m,\u001b[0m \u001b[0mthr\u001b[0m\u001b[0;34m,\u001b[0m \u001b[0mlab\u001b[0m\u001b[0;34m)\u001b[0m\u001b[0;34m\u001b[0m\u001b[0m\n\u001b[0m",
      "\u001b[0;32m<ipython-input-37-0f4be4c45e60>\u001b[0m in \u001b[0;36mall_thresholds\u001b[0;34m(labels, logits, thresholds)\u001b[0m\n\u001b[1;32m      1\u001b[0m \u001b[0;32mdef\u001b[0m \u001b[0mall_thresholds\u001b[0m\u001b[0;34m(\u001b[0m\u001b[0mlabels\u001b[0m\u001b[0;34m,\u001b[0m \u001b[0mlogits\u001b[0m\u001b[0;34m,\u001b[0m \u001b[0mthresholds\u001b[0m\u001b[0;34m)\u001b[0m\u001b[0;34m:\u001b[0m\u001b[0;34m\u001b[0m\u001b[0m\n\u001b[0;32m----> 2\u001b[0;31m     \u001b[0mbatch_size\u001b[0m \u001b[0;34m=\u001b[0m \u001b[0mtf\u001b[0m\u001b[0;34m.\u001b[0m\u001b[0msize\u001b[0m\u001b[0;34m(\u001b[0m\u001b[0mlabels\u001b[0m\u001b[0;34m)\u001b[0m\u001b[0;34m.\u001b[0m\u001b[0meval\u001b[0m\u001b[0;34m(\u001b[0m\u001b[0;34m)\u001b[0m\u001b[0;34m\u001b[0m\u001b[0m\n\u001b[0m\u001b[1;32m      3\u001b[0m     \u001b[0msgn\u001b[0m \u001b[0;34m=\u001b[0m \u001b[0mnp\u001b[0m\u001b[0;34m.\u001b[0m\u001b[0mfromfunction\u001b[0m\u001b[0;34m(\u001b[0m\u001b[0;32mlambda\u001b[0m \u001b[0mi\u001b[0m\u001b[0;34m,\u001b[0m \u001b[0mj\u001b[0m\u001b[0;34m:\u001b[0m \u001b[0;36m2\u001b[0m \u001b[0;34m*\u001b[0m \u001b[0;34m(\u001b[0m\u001b[0;36m1\u001b[0m \u001b[0;34m+\u001b[0m \u001b[0mj\u001b[0m \u001b[0;34m<\u001b[0m \u001b[0mlabels\u001b[0m\u001b[0;34m.\u001b[0m\u001b[0meval\u001b[0m\u001b[0;34m(\u001b[0m\u001b[0;34m)\u001b[0m\u001b[0;34m[\u001b[0m\u001b[0mi\u001b[0m\u001b[0;34m]\u001b[0m\u001b[0;34m)\u001b[0m \u001b[0;34m-\u001b[0m \u001b[0;36m1\u001b[0m\u001b[0;34m,\u001b[0m \u001b[0;34m(\u001b[0m\u001b[0mbatch_size\u001b[0m\u001b[0;34m,\u001b[0m \u001b[0mNB_CLASSES\u001b[0m \u001b[0;34m-\u001b[0m \u001b[0;36m1\u001b[0m\u001b[0;34m)\u001b[0m\u001b[0;34m,\u001b[0m \u001b[0mdtype\u001b[0m\u001b[0;34m=\u001b[0m\u001b[0mint\u001b[0m\u001b[0;34m)\u001b[0m\u001b[0;34m\u001b[0m\u001b[0m\n\u001b[1;32m      4\u001b[0m     \u001b[0mdelta\u001b[0m \u001b[0;34m=\u001b[0m \u001b[0mtf\u001b[0m\u001b[0;34m.\u001b[0m\u001b[0mmatmul\u001b[0m\u001b[0;34m(\u001b[0m\u001b[0mtf\u001b[0m\u001b[0;34m.\u001b[0m\u001b[0mreshape\u001b[0m\u001b[0;34m(\u001b[0m\u001b[0mlogits\u001b[0m\u001b[0;34m,\u001b[0m \u001b[0;34m(\u001b[0m\u001b[0mbatch_size\u001b[0m\u001b[0;34m,\u001b[0m \u001b[0;36m1\u001b[0m\u001b[0;34m)\u001b[0m\u001b[0;34m)\u001b[0m\u001b[0;34m,\u001b[0m \u001b[0mtf\u001b[0m\u001b[0;34m.\u001b[0m\u001b[0mones\u001b[0m\u001b[0;34m(\u001b[0m\u001b[0;34m[\u001b[0m\u001b[0;36m1\u001b[0m\u001b[0;34m,\u001b[0m \u001b[0mNB_CLASSES\u001b[0m \u001b[0;34m-\u001b[0m \u001b[0;36m1\u001b[0m\u001b[0;34m]\u001b[0m\u001b[0;34m,\u001b[0m \u001b[0mtf\u001b[0m\u001b[0;34m.\u001b[0m\u001b[0mfloat64\u001b[0m\u001b[0;34m)\u001b[0m\u001b[0;34m)\u001b[0m \u001b[0;34m-\u001b[0m \u001b[0mthresholds\u001b[0m\u001b[0;34m\u001b[0m\u001b[0m\n\u001b[1;32m      5\u001b[0m     \u001b[0;32mreturn\u001b[0m \u001b[0mtf\u001b[0m\u001b[0;34m.\u001b[0m\u001b[0mreduce_sum\u001b[0m\u001b[0;34m(\u001b[0m\u001b[0mtf_logloss\u001b[0m\u001b[0;34m(\u001b[0m\u001b[0msgn\u001b[0m \u001b[0;34m*\u001b[0m \u001b[0mdelta\u001b[0m\u001b[0;34m)\u001b[0m\u001b[0;34m,\u001b[0m \u001b[0maxis\u001b[0m\u001b[0;34m=\u001b[0m\u001b[0;36m1\u001b[0m\u001b[0;34m)\u001b[0m\u001b[0;34m\u001b[0m\u001b[0m\n",
      "\u001b[0;32m~/code/TF-recomm/venv/lib/python3.6/site-packages/tensorflow/python/framework/ops.py\u001b[0m in \u001b[0;36meval\u001b[0;34m(self, feed_dict, session)\u001b[0m\n\u001b[1;32m    568\u001b[0m \u001b[0;34m\u001b[0m\u001b[0m\n\u001b[1;32m    569\u001b[0m     \"\"\"\n\u001b[0;32m--> 570\u001b[0;31m     \u001b[0;32mreturn\u001b[0m \u001b[0m_eval_using_default_session\u001b[0m\u001b[0;34m(\u001b[0m\u001b[0mself\u001b[0m\u001b[0;34m,\u001b[0m \u001b[0mfeed_dict\u001b[0m\u001b[0;34m,\u001b[0m \u001b[0mself\u001b[0m\u001b[0;34m.\u001b[0m\u001b[0mgraph\u001b[0m\u001b[0;34m,\u001b[0m \u001b[0msession\u001b[0m\u001b[0;34m)\u001b[0m\u001b[0;34m\u001b[0m\u001b[0m\n\u001b[0m\u001b[1;32m    571\u001b[0m \u001b[0;34m\u001b[0m\u001b[0m\n\u001b[1;32m    572\u001b[0m   \u001b[0;32mdef\u001b[0m \u001b[0m_dup\u001b[0m\u001b[0;34m(\u001b[0m\u001b[0mself\u001b[0m\u001b[0;34m)\u001b[0m\u001b[0;34m:\u001b[0m\u001b[0;34m\u001b[0m\u001b[0m\n",
      "\u001b[0;32m~/code/TF-recomm/venv/lib/python3.6/site-packages/tensorflow/python/framework/ops.py\u001b[0m in \u001b[0;36m_eval_using_default_session\u001b[0;34m(tensors, feed_dict, graph, session)\u001b[0m\n\u001b[1;32m   4439\u001b[0m     \u001b[0msession\u001b[0m \u001b[0;34m=\u001b[0m \u001b[0mget_default_session\u001b[0m\u001b[0;34m(\u001b[0m\u001b[0;34m)\u001b[0m\u001b[0;34m\u001b[0m\u001b[0m\n\u001b[1;32m   4440\u001b[0m     \u001b[0;32mif\u001b[0m \u001b[0msession\u001b[0m \u001b[0;32mis\u001b[0m \u001b[0;32mNone\u001b[0m\u001b[0;34m:\u001b[0m\u001b[0;34m\u001b[0m\u001b[0m\n\u001b[0;32m-> 4441\u001b[0;31m       raise ValueError(\"Cannot evaluate tensor using `eval()`: No default \"\n\u001b[0m\u001b[1;32m   4442\u001b[0m                        \u001b[0;34m\"session is registered. Use `with \"\u001b[0m\u001b[0;34m\u001b[0m\u001b[0m\n\u001b[1;32m   4443\u001b[0m                        \u001b[0;34m\"sess.as_default()` or pass an explicit session to \"\u001b[0m\u001b[0;34m\u001b[0m\u001b[0m\n",
      "\u001b[0;31mValueError\u001b[0m: Cannot evaluate tensor using `eval()`: No default session is registered. Use `with sess.as_default()` or pass an explicit session to `eval(session=sess)`"
     ]
    }
   ],
   "source": [
    "result = all_thresholds(logits, thr, lab)"
   ]
  },
  {
   "cell_type": "code",
   "execution_count": 46,
   "metadata": {},
   "outputs": [
    {
     "name": "stdout",
     "output_type": "stream",
     "text": [
      "[ 1.6303095   1.20975196  1.60408551  1.75802107  1.24029919  1.88728056\n",
      "  0.76261534  2.5268018   1.38458055  2.42626421  3.34016564  1.92546685\n",
      "  0.98619173  4.00346476  2.00474428  1.57902     2.66738516  1.99304748\n",
      "  3.28847223  1.96645723]\n"
     ]
    }
   ],
   "source": [
    "with tf.Session() as sess:\n",
    "    print(sess.run(all_thresholds(lab, logits, thr), feed_dict={lab: labels, logits: Th.dot(x), thr: thresholds}))"
   ]
  },
  {
   "cell_type": "code",
   "execution_count": null,
   "metadata": {},
   "outputs": [],
   "source": []
  }
 ],
 "metadata": {
  "kernelspec": {
   "display_name": "Python 3",
   "language": "python",
   "name": "python3"
  },
  "language_info": {
   "codemirror_mode": {
    "name": "ipython",
    "version": 3
   },
   "file_extension": ".py",
   "mimetype": "text/x-python",
   "name": "python",
   "nbconvert_exporter": "python",
   "pygments_lexer": "ipython3",
   "version": "3.6.4"
  }
 },
 "nbformat": 4,
 "nbformat_minor": 2
}
