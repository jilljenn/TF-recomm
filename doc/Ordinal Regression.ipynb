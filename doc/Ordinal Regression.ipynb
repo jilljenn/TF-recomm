{
 "cells": [
  {
   "cell_type": "code",
   "execution_count": 115,
   "metadata": {},
   "outputs": [],
   "source": [
    "import numpy as np"
   ]
  },
  {
   "cell_type": "code",
   "execution_count": 116,
   "metadata": {},
   "outputs": [],
   "source": [
    "N = 20\n",
    "D = 5\n",
    "Th = np.random.random((N, D))*2\n",
    "x = np.random.random(D)"
   ]
  },
  {
   "cell_type": "code",
   "execution_count": 117,
   "metadata": {},
   "outputs": [
    {
     "data": {
      "text/plain": [
       "array([ 2.9193502 ,  2.52983764,  2.16737747,  1.91744328,  1.11984621,\n",
       "        1.74748488,  2.16101509,  3.28268068,  3.77020308,  1.50353467,\n",
       "        2.7011824 ,  2.77747774,  2.03635698,  2.04673904,  2.62004906,\n",
       "        2.10651332,  3.63638922,  0.67149849,  2.53211213,  2.2288366 ])"
      ]
     },
     "execution_count": 117,
     "metadata": {},
     "output_type": "execute_result"
    }
   ],
   "source": [
    "Th.dot(x)"
   ]
  },
  {
   "cell_type": "code",
   "execution_count": 118,
   "metadata": {},
   "outputs": [],
   "source": [
    "NB_CLASSES = 4\n",
    "thresholds = [1, 3, 5]"
   ]
  },
  {
   "cell_type": "code",
   "execution_count": 119,
   "metadata": {},
   "outputs": [
    {
     "data": {
      "text/plain": [
       "array([ 0.31822977,  0.19621616,  0.18573829])"
      ]
     },
     "execution_count": 119,
     "metadata": {},
     "output_type": "execute_result"
    }
   ],
   "source": [
    "thresholds = np.random.random(3)\n",
    "thresholds"
   ]
  },
  {
   "cell_type": "code",
   "execution_count": 120,
   "metadata": {},
   "outputs": [
    {
     "data": {
      "text/plain": [
       "array([ 1.37469209,  1.2167899 ,  1.20410709])"
      ]
     },
     "execution_count": 120,
     "metadata": {},
     "output_type": "execute_result"
    }
   ],
   "source": [
    "np.exp(thresholds)"
   ]
  },
  {
   "cell_type": "code",
   "execution_count": 121,
   "metadata": {},
   "outputs": [
    {
     "data": {
      "text/plain": [
       "array([ 1.37469209,  2.59148199,  3.79558908])"
      ]
     },
     "execution_count": 121,
     "metadata": {},
     "output_type": "execute_result"
    }
   ],
   "source": [
    "np.exp(thresholds).dot(np.tri(3).T)"
   ]
  },
  {
   "cell_type": "code",
   "execution_count": 122,
   "metadata": {},
   "outputs": [],
   "source": [
    "def sigmoid(x):\n",
    "    return 1 / (1 + np.exp(-x))"
   ]
  },
  {
   "cell_type": "code",
   "execution_count": 123,
   "metadata": {},
   "outputs": [
    {
     "data": {
      "text/plain": [
       "array([[ 0.93093365,  0.93837801,  0.93898111],\n",
       "       [ 0.90128707,  0.91162354,  0.91246407],\n",
       "       [ 0.864027  ,  0.87773579,  0.87885579],\n",
       "       [ 0.83190843,  0.84828683,  0.84963038],\n",
       "       [ 0.69032015,  0.71578118,  0.71790795],\n",
       "       [ 0.80678523,  0.8250969 ,  0.82660383],\n",
       "       [ 0.86327779,  0.87705137,  0.87817676],\n",
       "       [ 0.95094205,  0.95633095,  0.95676645],\n",
       "       [ 0.96928993,  0.97272118,  0.97299783],\n",
       "       [ 0.7659003 ,  0.7870641 ,  0.78881485],\n",
       "       [ 0.91551809,  0.92448924,  0.92521744],\n",
       "       [ 0.92123511,  0.92964583,  0.93032805],\n",
       "       [ 0.84788745,  0.86296536,  0.86419973],\n",
       "       [ 0.84922164,  0.86418848,  0.86541355],\n",
       "       [ 0.9090276 ,  0.91862672,  0.91940653],\n",
       "       [ 0.85671671,  0.87105253,  0.87222483],\n",
       "       [ 0.96504656,  0.96893672,  0.96925055],\n",
       "       [ 0.58741001,  0.61663325,  0.61910714],\n",
       "       [ 0.90148924,  0.91180662,  0.91264557],\n",
       "       [ 0.87108731,  0.8841797 ,  0.88524838]])"
      ]
     },
     "execution_count": 123,
     "metadata": {},
     "output_type": "execute_result"
    }
   ],
   "source": [
    "cdf = sigmoid(Th.dot(x)[:, None] - thresholds)\n",
    "cdf"
   ]
  },
  {
   "cell_type": "code",
   "execution_count": 124,
   "metadata": {},
   "outputs": [],
   "source": [
    "operator = np.fromfunction(lambda i, j: (j == i + 1) - 1 * (j == i), (3, 4), dtype=float)"
   ]
  },
  {
   "cell_type": "code",
   "execution_count": 125,
   "metadata": {},
   "outputs": [
    {
     "data": {
      "text/plain": [
       "array([[ 1.,  0.,  0.,  0.]])"
      ]
     },
     "execution_count": 125,
     "metadata": {},
     "output_type": "execute_result"
    }
   ],
   "source": [
    "np.fromfunction(lambda i, j: 1. * (j == 0), (1, NB_CLASSES), dtype=float)"
   ]
  },
  {
   "cell_type": "code",
   "execution_count": 126,
   "metadata": {},
   "outputs": [
    {
     "data": {
      "text/plain": [
       "array([[-1,  1,  0,  0],\n",
       "       [ 0, -1,  1,  0],\n",
       "       [ 0,  0, -1,  1]])"
      ]
     },
     "execution_count": 126,
     "metadata": {},
     "output_type": "execute_result"
    }
   ],
   "source": [
    "operator"
   ]
  },
  {
   "cell_type": "code",
   "execution_count": 127,
   "metadata": {},
   "outputs": [],
   "source": [
    "pdf = cdf.dot(operator) + [1, 0, 0, 0]"
   ]
  },
  {
   "cell_type": "code",
   "execution_count": 128,
   "metadata": {},
   "outputs": [],
   "source": [
    "import tensorflow as tf"
   ]
  },
  {
   "cell_type": "code",
   "execution_count": 129,
   "metadata": {},
   "outputs": [
    {
     "data": {
      "text/plain": [
       "array([3, 3, 3, 3, 3, 3, 3, 3, 3, 3, 3, 3, 3, 3, 3, 3, 3, 3, 3, 3])"
      ]
     },
     "execution_count": 129,
     "metadata": {},
     "output_type": "execute_result"
    }
   ],
   "source": [
    "sess = tf.InteractiveSession()\n",
    "sess.run(tf.argmax(pdf, axis=1))"
   ]
  },
  {
   "cell_type": "code",
   "execution_count": 130,
   "metadata": {},
   "outputs": [
    {
     "data": {
      "text/plain": [
       "array([3, 3, 3, 3, 3, 3, 3, 3, 3, 3, 3, 3, 3, 3, 3, 3, 3, 3, 3, 3])"
      ]
     },
     "execution_count": 130,
     "metadata": {},
     "output_type": "execute_result"
    }
   ],
   "source": [
    "np.argmax(pdf, axis=1)"
   ]
  },
  {
   "cell_type": "code",
   "execution_count": 131,
   "metadata": {},
   "outputs": [
    {
     "data": {
      "text/plain": [
       "array([3, 3, 3, 3, 3, 3, 3, 3, 3, 3, 3, 3, 3, 3, 3, 3, 3, 3, 3, 3])"
      ]
     },
     "execution_count": 131,
     "metadata": {},
     "output_type": "execute_result"
    }
   ],
   "source": [
    "np.argmax(pdf, axis=1)"
   ]
  },
  {
   "cell_type": "code",
   "execution_count": 132,
   "metadata": {},
   "outputs": [],
   "source": [
    "def logloss(x):\n",
    "    return np.log(1 + np.exp(-x))"
   ]
  },
  {
   "cell_type": "code",
   "execution_count": 133,
   "metadata": {},
   "outputs": [],
   "source": [
    "labels = np.round(np.random.random(N)*3)"
   ]
  },
  {
   "cell_type": "code",
   "execution_count": 134,
   "metadata": {},
   "outputs": [
    {
     "data": {
      "text/plain": [
       "array([ 2.,  1.,  1.,  1.,  1.,  2.,  3.,  2.,  2.,  2.,  2.,  1.,  0.,\n",
       "        3.,  1.,  2.,  2.,  1.,  2.,  1.])"
      ]
     },
     "execution_count": 134,
     "metadata": {},
     "output_type": "execute_result"
    }
   ],
   "source": [
    "labels"
   ]
  },
  {
   "cell_type": "code",
   "execution_count": 135,
   "metadata": {},
   "outputs": [],
   "source": [
    "sgn = np.fromfunction(lambda i, j: 2 * (1 + j < labels[i]) - 1, (N, L - 1), dtype=int)"
   ]
  },
  {
   "cell_type": "code",
   "execution_count": 136,
   "metadata": {},
   "outputs": [],
   "source": [
    "delta = np.outer(Th.dot(x), np.ones(3)) - thresholds"
   ]
  },
  {
   "cell_type": "code",
   "execution_count": 137,
   "metadata": {},
   "outputs": [
    {
     "data": {
      "text/plain": [
       "array([ 5.65487554,  7.17739489,  6.20764354,  5.56366886,  3.69574892,\n",
       "        3.71039728,  2.38339264,  6.32255626,  7.24467443,  3.3684874 ,\n",
       "        5.26491588,  7.8594586 ,  5.86722618,  2.31494799,  7.42424508,\n",
       "        4.26048122,  6.98919102,  2.80930126,  4.96971201,  6.36932063])"
      ]
     },
     "execution_count": 137,
     "metadata": {},
     "output_type": "execute_result"
    }
   ],
   "source": [
    "logloss(sgn * delta).sum(axis=1)"
   ]
  },
  {
   "cell_type": "code",
   "execution_count": 138,
   "metadata": {},
   "outputs": [],
   "source": [
    "import tensorflow as tf\n",
    "\n",
    "aa = tf.constant([1., 5., 3.])\n",
    "a = tf.reshape(aa, (3, 1))\n",
    "b = tf.ones([1, 3])"
   ]
  },
  {
   "cell_type": "code",
   "execution_count": 139,
   "metadata": {},
   "outputs": [
    {
     "name": "stdout",
     "output_type": "stream",
     "text": [
      "[[ 1.  1.  1.]\n",
      " [ 5.  5.  5.]\n",
      " [ 3.  3.  3.]]\n"
     ]
    }
   ],
   "source": [
    "#sess = tf.InteractiveSession()\n",
    "with tf.Session() as sess:\n",
    "    print(sess.run(tf.matmul(a, b)))"
   ]
  },
  {
   "cell_type": "code",
   "execution_count": 140,
   "metadata": {},
   "outputs": [],
   "source": [
    "some_logits = Th.dot(x)\n",
    "#thr = tf.cast(tf.constant(thresholds), tf.float64)\n",
    "#lab = tf.constant(labels)"
   ]
  },
  {
   "cell_type": "code",
   "execution_count": 141,
   "metadata": {},
   "outputs": [
    {
     "data": {
      "text/plain": [
       "array([[ 2.60112042,  2.72313403,  2.7336119 ],\n",
       "       [ 2.21160787,  2.33362148,  2.34409935],\n",
       "       [ 1.8491477 ,  1.97116131,  1.98163918],\n",
       "       [ 1.59921351,  1.72122712,  1.73170499],\n",
       "       [ 0.80161644,  0.92363005,  0.93410792],\n",
       "       [ 1.42925511,  1.55126872,  1.56174659],\n",
       "       [ 1.84278532,  1.96479893,  1.9752768 ],\n",
       "       [ 2.96445091,  3.08646452,  3.09694239],\n",
       "       [ 3.45197331,  3.57398692,  3.58446479],\n",
       "       [ 1.1853049 ,  1.30731851,  1.31779638],\n",
       "       [ 2.38295263,  2.50496624,  2.51544411],\n",
       "       [ 2.45924797,  2.58126158,  2.59173945],\n",
       "       [ 1.71812721,  1.84014082,  1.85061869],\n",
       "       [ 1.72850927,  1.85052288,  1.86100075],\n",
       "       [ 2.30181929,  2.4238329 ,  2.43431077],\n",
       "       [ 1.78828355,  1.91029716,  1.92077503],\n",
       "       [ 3.31815945,  3.44017305,  3.45065092],\n",
       "       [ 0.35326872,  0.47528233,  0.4857602 ],\n",
       "       [ 2.21388236,  2.33589597,  2.34637384],\n",
       "       [ 1.91060683,  2.03262044,  2.04309831]])"
      ]
     },
     "execution_count": 141,
     "metadata": {},
     "output_type": "execute_result"
    }
   ],
   "source": [
    "some_logits[:, None] - thresholds"
   ]
  },
  {
   "cell_type": "code",
   "execution_count": 147,
   "metadata": {},
   "outputs": [
    {
     "data": {
      "text/plain": [
       "array([[-3., -1.,  1.,  3.],\n",
       "       [-1.,  1.,  3.,  5.],\n",
       "       [-1.,  1.,  3.,  5.],\n",
       "       [-1.,  1.,  3.,  5.],\n",
       "       [-1.,  1.,  3.,  5.],\n",
       "       [-3., -1.,  1.,  3.],\n",
       "       [-5., -3., -1.,  1.],\n",
       "       [-3., -1.,  1.,  3.],\n",
       "       [-3., -1.,  1.,  3.],\n",
       "       [-3., -1.,  1.,  3.],\n",
       "       [-3., -1.,  1.,  3.],\n",
       "       [-1.,  1.,  3.,  5.],\n",
       "       [ 1.,  3.,  5.,  7.],\n",
       "       [-5., -3., -1.,  1.],\n",
       "       [-1.,  1.,  3.,  5.],\n",
       "       [-3., -1.,  1.,  3.],\n",
       "       [-3., -1.,  1.,  3.],\n",
       "       [-1.,  1.,  3.,  5.],\n",
       "       [-3., -1.,  1.,  3.],\n",
       "       [-1.,  1.,  3.,  5.]])"
      ]
     },
     "execution_count": 147,
     "metadata": {},
     "output_type": "execute_result"
    }
   ],
   "source": [
    "2 * (range(4) - labels[:, None]) + 1"
   ]
  },
  {
   "cell_type": "code",
   "execution_count": 157,
   "metadata": {},
   "outputs": [],
   "source": [
    "logits = tf.placeholder(tf.float32, shape=[None])\n",
    "thr = tf.placeholder(tf.float32, shape=[None])\n",
    "lab = tf.placeholder(tf.int32, shape=[None])"
   ]
  },
  {
   "cell_type": "code",
   "execution_count": 158,
   "metadata": {},
   "outputs": [],
   "source": [
    "NB_CLASSES = 4"
   ]
  },
  {
   "cell_type": "code",
   "execution_count": 159,
   "metadata": {},
   "outputs": [],
   "source": [
    "def tf_logloss(x):\n",
    "    return tf.log(1 + tf.exp(-x))"
   ]
  },
  {
   "cell_type": "code",
   "execution_count": 172,
   "metadata": {},
   "outputs": [],
   "source": [
    "def immediate_thresholds(labels, logits, thresholds):\n",
    "    signs = tf.one_hot(labels, NB_CLASSES - 1) - tf.one_hot(labels - 1, NB_CLASSES - 1)\n",
    "    delta = logits[:, None] - thresholds\n",
    "    return tf.reduce_sum(tf_logloss(signs * delta), axis=1)"
   ]
  },
  {
   "cell_type": "code",
   "execution_count": 177,
   "metadata": {},
   "outputs": [],
   "source": [
    "signs = tf.one_hot(labels, NB_CLASSES - 1) - tf.one_hot(labels - 1, NB_CLASSES - 1)"
   ]
  },
  {
   "cell_type": "code",
   "execution_count": 178,
   "metadata": {},
   "outputs": [],
   "source": [
    "signs = tf.sign(2 * (tf.range(NB_CLASSES, dtype=tf.float32) - labels[:, None]) + 1)"
   ]
  },
  {
   "cell_type": "code",
   "execution_count": 164,
   "metadata": {},
   "outputs": [],
   "source": [
    "def all_thresholds(labels, logits, thresholds):\n",
    "    #batch_size = tf.size(labels).eval()\n",
    "    #sgn = np.fromfunction(lambda i, j: 2 * (1 + j < labels.eval()[i]) - 1, (batch_size, NB_CLASSES - 1), dtype=int)\n",
    "    signs = tf.sign(2 * (tf.range(NB_CLASSES, dtype=tf.float32) - labels[:, None]) + 1)\n",
    "    delta = logits[:, None] - thresholds\n",
    "    return tf.reduce_sum(tf_logloss(signs * delta), axis=1)"
   ]
  },
  {
   "cell_type": "code",
   "execution_count": 166,
   "metadata": {},
   "outputs": [],
   "source": [
    "metrics = immediate_thresholds(lab, logits, thr)"
   ]
  },
  {
   "cell_type": "code",
   "execution_count": 127,
   "metadata": {},
   "outputs": [
    {
     "data": {
      "text/plain": [
       "(1, 5)"
      ]
     },
     "execution_count": 127,
     "metadata": {},
     "output_type": "execute_result"
    }
   ],
   "source": [
    "np.random.random((5))[None, :].shape"
   ]
  },
  {
   "cell_type": "code",
   "execution_count": 132,
   "metadata": {},
   "outputs": [],
   "source": [
    "delta = logits[:, None] - thr"
   ]
  },
  {
   "cell_type": "code",
   "execution_count": 179,
   "metadata": {},
   "outputs": [
    {
     "name": "stdout",
     "output_type": "stream",
     "text": [
      "[[-1. -1.  1.  1.]\n",
      " [-1.  1.  1.  1.]\n",
      " [-1.  1.  1.  1.]\n",
      " [-1.  1.  1.  1.]\n",
      " [-1.  1.  1.  1.]\n",
      " [-1. -1.  1.  1.]\n",
      " [-1. -1. -1.  1.]\n",
      " [-1. -1.  1.  1.]\n",
      " [-1. -1.  1.  1.]\n",
      " [-1. -1.  1.  1.]\n",
      " [-1. -1.  1.  1.]\n",
      " [-1.  1.  1.  1.]\n",
      " [ 1.  1.  1.  1.]\n",
      " [-1. -1. -1.  1.]\n",
      " [-1.  1.  1.  1.]\n",
      " [-1. -1.  1.  1.]\n",
      " [-1. -1.  1.  1.]\n",
      " [-1.  1.  1.  1.]\n",
      " [-1. -1.  1.  1.]\n",
      " [-1.  1.  1.  1.]]\n"
     ]
    }
   ],
   "source": [
    "with tf.Session() as sess:\n",
    "    print(sess.run(signs, feed_dict={lab: labels, logits: some_logits, thr: thresholds}))"
   ]
  },
  {
   "cell_type": "code",
   "execution_count": 176,
   "metadata": {},
   "outputs": [
    {
     "data": {
      "text/plain": [
       "array([ 2.,  1.,  1.,  1.,  1.,  2.,  3.,  2.,  2.,  2.,  2.,  1.,  0.,\n",
       "        3.,  1.,  2.,  2.,  1.,  2.,  1.])"
      ]
     },
     "execution_count": 176,
     "metadata": {},
     "output_type": "execute_result"
    }
   ],
   "source": [
    "labels"
   ]
  },
  {
   "cell_type": "code",
   "execution_count": 39,
   "metadata": {},
   "outputs": [
    {
     "ename": "ValueError",
     "evalue": "Cannot evaluate tensor using `eval()`: No default session is registered. Use `with sess.as_default()` or pass an explicit session to `eval(session=sess)`",
     "output_type": "error",
     "traceback": [
      "\u001b[0;31m---------------------------------------------------------------------------\u001b[0m",
      "\u001b[0;31mValueError\u001b[0m                                Traceback (most recent call last)",
      "\u001b[0;32m<ipython-input-39-e33374e1b5f8>\u001b[0m in \u001b[0;36m<module>\u001b[0;34m()\u001b[0m\n\u001b[0;32m----> 1\u001b[0;31m \u001b[0mresult\u001b[0m \u001b[0;34m=\u001b[0m \u001b[0mall_thresholds\u001b[0m\u001b[0;34m(\u001b[0m\u001b[0mlogits\u001b[0m\u001b[0;34m,\u001b[0m \u001b[0mthr\u001b[0m\u001b[0;34m,\u001b[0m \u001b[0mlab\u001b[0m\u001b[0;34m)\u001b[0m\u001b[0;34m\u001b[0m\u001b[0m\n\u001b[0m",
      "\u001b[0;32m<ipython-input-37-0f4be4c45e60>\u001b[0m in \u001b[0;36mall_thresholds\u001b[0;34m(labels, logits, thresholds)\u001b[0m\n\u001b[1;32m      1\u001b[0m \u001b[0;32mdef\u001b[0m \u001b[0mall_thresholds\u001b[0m\u001b[0;34m(\u001b[0m\u001b[0mlabels\u001b[0m\u001b[0;34m,\u001b[0m \u001b[0mlogits\u001b[0m\u001b[0;34m,\u001b[0m \u001b[0mthresholds\u001b[0m\u001b[0;34m)\u001b[0m\u001b[0;34m:\u001b[0m\u001b[0;34m\u001b[0m\u001b[0m\n\u001b[0;32m----> 2\u001b[0;31m     \u001b[0mbatch_size\u001b[0m \u001b[0;34m=\u001b[0m \u001b[0mtf\u001b[0m\u001b[0;34m.\u001b[0m\u001b[0msize\u001b[0m\u001b[0;34m(\u001b[0m\u001b[0mlabels\u001b[0m\u001b[0;34m)\u001b[0m\u001b[0;34m.\u001b[0m\u001b[0meval\u001b[0m\u001b[0;34m(\u001b[0m\u001b[0;34m)\u001b[0m\u001b[0;34m\u001b[0m\u001b[0m\n\u001b[0m\u001b[1;32m      3\u001b[0m     \u001b[0msgn\u001b[0m \u001b[0;34m=\u001b[0m \u001b[0mnp\u001b[0m\u001b[0;34m.\u001b[0m\u001b[0mfromfunction\u001b[0m\u001b[0;34m(\u001b[0m\u001b[0;32mlambda\u001b[0m \u001b[0mi\u001b[0m\u001b[0;34m,\u001b[0m \u001b[0mj\u001b[0m\u001b[0;34m:\u001b[0m \u001b[0;36m2\u001b[0m \u001b[0;34m*\u001b[0m \u001b[0;34m(\u001b[0m\u001b[0;36m1\u001b[0m \u001b[0;34m+\u001b[0m \u001b[0mj\u001b[0m \u001b[0;34m<\u001b[0m \u001b[0mlabels\u001b[0m\u001b[0;34m.\u001b[0m\u001b[0meval\u001b[0m\u001b[0;34m(\u001b[0m\u001b[0;34m)\u001b[0m\u001b[0;34m[\u001b[0m\u001b[0mi\u001b[0m\u001b[0;34m]\u001b[0m\u001b[0;34m)\u001b[0m \u001b[0;34m-\u001b[0m \u001b[0;36m1\u001b[0m\u001b[0;34m,\u001b[0m \u001b[0;34m(\u001b[0m\u001b[0mbatch_size\u001b[0m\u001b[0;34m,\u001b[0m \u001b[0mNB_CLASSES\u001b[0m \u001b[0;34m-\u001b[0m \u001b[0;36m1\u001b[0m\u001b[0;34m)\u001b[0m\u001b[0;34m,\u001b[0m \u001b[0mdtype\u001b[0m\u001b[0;34m=\u001b[0m\u001b[0mint\u001b[0m\u001b[0;34m)\u001b[0m\u001b[0;34m\u001b[0m\u001b[0m\n\u001b[1;32m      4\u001b[0m     \u001b[0mdelta\u001b[0m \u001b[0;34m=\u001b[0m \u001b[0mtf\u001b[0m\u001b[0;34m.\u001b[0m\u001b[0mmatmul\u001b[0m\u001b[0;34m(\u001b[0m\u001b[0mtf\u001b[0m\u001b[0;34m.\u001b[0m\u001b[0mreshape\u001b[0m\u001b[0;34m(\u001b[0m\u001b[0mlogits\u001b[0m\u001b[0;34m,\u001b[0m \u001b[0;34m(\u001b[0m\u001b[0mbatch_size\u001b[0m\u001b[0;34m,\u001b[0m \u001b[0;36m1\u001b[0m\u001b[0;34m)\u001b[0m\u001b[0;34m)\u001b[0m\u001b[0;34m,\u001b[0m \u001b[0mtf\u001b[0m\u001b[0;34m.\u001b[0m\u001b[0mones\u001b[0m\u001b[0;34m(\u001b[0m\u001b[0;34m[\u001b[0m\u001b[0;36m1\u001b[0m\u001b[0;34m,\u001b[0m \u001b[0mNB_CLASSES\u001b[0m \u001b[0;34m-\u001b[0m \u001b[0;36m1\u001b[0m\u001b[0;34m]\u001b[0m\u001b[0;34m,\u001b[0m \u001b[0mtf\u001b[0m\u001b[0;34m.\u001b[0m\u001b[0mfloat64\u001b[0m\u001b[0;34m)\u001b[0m\u001b[0;34m)\u001b[0m \u001b[0;34m-\u001b[0m \u001b[0mthresholds\u001b[0m\u001b[0;34m\u001b[0m\u001b[0m\n\u001b[1;32m      5\u001b[0m     \u001b[0;32mreturn\u001b[0m \u001b[0mtf\u001b[0m\u001b[0;34m.\u001b[0m\u001b[0mreduce_sum\u001b[0m\u001b[0;34m(\u001b[0m\u001b[0mtf_logloss\u001b[0m\u001b[0;34m(\u001b[0m\u001b[0msgn\u001b[0m \u001b[0;34m*\u001b[0m \u001b[0mdelta\u001b[0m\u001b[0;34m)\u001b[0m\u001b[0;34m,\u001b[0m \u001b[0maxis\u001b[0m\u001b[0;34m=\u001b[0m\u001b[0;36m1\u001b[0m\u001b[0;34m)\u001b[0m\u001b[0;34m\u001b[0m\u001b[0m\n",
      "\u001b[0;32m~/code/TF-recomm/venv/lib/python3.6/site-packages/tensorflow/python/framework/ops.py\u001b[0m in \u001b[0;36meval\u001b[0;34m(self, feed_dict, session)\u001b[0m\n\u001b[1;32m    568\u001b[0m \u001b[0;34m\u001b[0m\u001b[0m\n\u001b[1;32m    569\u001b[0m     \"\"\"\n\u001b[0;32m--> 570\u001b[0;31m     \u001b[0;32mreturn\u001b[0m \u001b[0m_eval_using_default_session\u001b[0m\u001b[0;34m(\u001b[0m\u001b[0mself\u001b[0m\u001b[0;34m,\u001b[0m \u001b[0mfeed_dict\u001b[0m\u001b[0;34m,\u001b[0m \u001b[0mself\u001b[0m\u001b[0;34m.\u001b[0m\u001b[0mgraph\u001b[0m\u001b[0;34m,\u001b[0m \u001b[0msession\u001b[0m\u001b[0;34m)\u001b[0m\u001b[0;34m\u001b[0m\u001b[0m\n\u001b[0m\u001b[1;32m    571\u001b[0m \u001b[0;34m\u001b[0m\u001b[0m\n\u001b[1;32m    572\u001b[0m   \u001b[0;32mdef\u001b[0m \u001b[0m_dup\u001b[0m\u001b[0;34m(\u001b[0m\u001b[0mself\u001b[0m\u001b[0;34m)\u001b[0m\u001b[0;34m:\u001b[0m\u001b[0;34m\u001b[0m\u001b[0m\n",
      "\u001b[0;32m~/code/TF-recomm/venv/lib/python3.6/site-packages/tensorflow/python/framework/ops.py\u001b[0m in \u001b[0;36m_eval_using_default_session\u001b[0;34m(tensors, feed_dict, graph, session)\u001b[0m\n\u001b[1;32m   4439\u001b[0m     \u001b[0msession\u001b[0m \u001b[0;34m=\u001b[0m \u001b[0mget_default_session\u001b[0m\u001b[0;34m(\u001b[0m\u001b[0;34m)\u001b[0m\u001b[0;34m\u001b[0m\u001b[0m\n\u001b[1;32m   4440\u001b[0m     \u001b[0;32mif\u001b[0m \u001b[0msession\u001b[0m \u001b[0;32mis\u001b[0m \u001b[0;32mNone\u001b[0m\u001b[0;34m:\u001b[0m\u001b[0;34m\u001b[0m\u001b[0m\n\u001b[0;32m-> 4441\u001b[0;31m       raise ValueError(\"Cannot evaluate tensor using `eval()`: No default \"\n\u001b[0m\u001b[1;32m   4442\u001b[0m                        \u001b[0;34m\"session is registered. Use `with \"\u001b[0m\u001b[0;34m\u001b[0m\u001b[0m\n\u001b[1;32m   4443\u001b[0m                        \u001b[0;34m\"sess.as_default()` or pass an explicit session to \"\u001b[0m\u001b[0;34m\u001b[0m\u001b[0m\n",
      "\u001b[0;31mValueError\u001b[0m: Cannot evaluate tensor using `eval()`: No default session is registered. Use `with sess.as_default()` or pass an explicit session to `eval(session=sess)`"
     ]
    }
   ],
   "source": [
    "result = all_thresholds(logits, thr, lab)"
   ]
  },
  {
   "cell_type": "code",
   "execution_count": 46,
   "metadata": {},
   "outputs": [
    {
     "name": "stdout",
     "output_type": "stream",
     "text": [
      "[ 1.6303095   1.20975196  1.60408551  1.75802107  1.24029919  1.88728056\n",
      "  0.76261534  2.5268018   1.38458055  2.42626421  3.34016564  1.92546685\n",
      "  0.98619173  4.00346476  2.00474428  1.57902     2.66738516  1.99304748\n",
      "  3.28847223  1.96645723]\n"
     ]
    }
   ],
   "source": [
    "with tf.Session() as sess:\n",
    "    print(sess.run(all_thresholds(lab, logits, thr), feed_dict={lab: labels, logits: Th.dot(x), thr: thresholds}))"
   ]
  },
  {
   "cell_type": "code",
   "execution_count": null,
   "metadata": {},
   "outputs": [],
   "source": []
  }
 ],
 "metadata": {
  "kernelspec": {
   "display_name": "Python 3",
   "language": "python",
   "name": "python3"
  },
  "language_info": {
   "codemirror_mode": {
    "name": "ipython",
    "version": 3
   },
   "file_extension": ".py",
   "mimetype": "text/x-python",
   "name": "python",
   "nbconvert_exporter": "python",
   "pygments_lexer": "ipython3",
   "version": "3.6.4"
  }
 },
 "nbformat": 4,
 "nbformat_minor": 2
}
