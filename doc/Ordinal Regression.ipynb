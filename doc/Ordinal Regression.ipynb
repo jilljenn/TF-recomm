{
 "cells": [
  {
   "cell_type": "code",
   "execution_count": 3,
   "metadata": {},
   "outputs": [],
   "source": [
    "import numpy as np"
   ]
  },
  {
   "cell_type": "code",
   "execution_count": 217,
   "metadata": {},
   "outputs": [],
   "source": [
    "N = 20\n",
    "D = 5\n",
    "Th = np.random.random((N, D))*2\n",
    "x = np.random.random(D)"
   ]
  },
  {
   "cell_type": "code",
   "execution_count": 218,
   "metadata": {},
   "outputs": [
    {
     "data": {
      "text/plain": [
       "array([ 3.45029072,  3.47077549,  1.85263096,  4.14024149,  2.31690248,\n",
       "        2.88920979,  2.78723281,  3.58210333,  2.40598981,  3.71423114,\n",
       "        4.27318994,  2.15629054,  4.59354189,  3.59212141,  3.53853952,\n",
       "        4.04261468,  3.2722202 ,  2.91832432,  1.67406885,  2.76704534])"
      ]
     },
     "execution_count": 218,
     "metadata": {},
     "output_type": "execute_result"
    }
   ],
   "source": [
    "Th.dot(x)"
   ]
  },
  {
   "cell_type": "code",
   "execution_count": 219,
   "metadata": {},
   "outputs": [],
   "source": [
    "L = 4\n",
    "thresholds = [1, 3, 5]"
   ]
  },
  {
   "cell_type": "code",
   "execution_count": 220,
   "metadata": {},
   "outputs": [],
   "source": [
    "from math import exp\n",
    "\n",
    "def sigmoid(x):\n",
    "    return 1 / (1 + exp(-x))\n",
    "\n",
    "sigma = np.vectorize(sigmoid)"
   ]
  },
  {
   "cell_type": "code",
   "execution_count": 221,
   "metadata": {},
   "outputs": [],
   "source": [
    "cdf = sigma(np.outer(Th.dot(x), np.ones(3)) - thresholds)\n",
    "#cdf"
   ]
  },
  {
   "cell_type": "code",
   "execution_count": 222,
   "metadata": {},
   "outputs": [
    {
     "data": {
      "text/plain": [
       "array([[ 0.07941729,  0.30987436,  0.43558009,  0.17512826],\n",
       "       [ 0.07793249,  0.30650022,  0.43746011,  0.17810718],\n",
       "       [ 0.29888124,  0.46014879,  0.1997749 ,  0.04119507],\n",
       "       [ 0.04147752,  0.20079851,  0.46033417,  0.2973898 ],\n",
       "       [ 0.2113341 ,  0.45309558,  0.27159219,  0.06397813],\n",
       "       [ 0.13133459,  0.39633466,  0.36427826,  0.10805249],\n",
       "       [ 0.14341232,  0.40957971,  0.34839813,  0.09860984],\n",
       "       [ 0.07029914,  0.28814962,  0.44655971,  0.19499153],\n",
       "       [ 0.19686734,  0.4474174 ,  0.28619035,  0.06952491],\n",
       "       [ 0.06213881,  0.26652577,  0.45476558,  0.21656984],\n",
       "       [ 0.03650247,  0.1822092 ,  0.4553932 ,  0.32589513],\n",
       "       [ 0.23934197,  0.45990393,  0.24574671,  0.0550074 ],\n",
       "       [ 0.0267647 ,  0.14212146,  0.43135214,  0.3997617 ],\n",
       "       [ 0.0696472 ,  0.28650105,  0.44728287,  0.19656887],\n",
       "       [ 0.07320019,  0.2953272 ,  0.44322856,  0.18824405],\n",
       "       [ 0.04553739,  0.21510841,  0.46195219,  0.277402  ],\n",
       "       [ 0.09344995,  0.33891217,  0.41676609,  0.15087179],\n",
       "       [ 0.12804854,  0.39235903,  0.36870178,  0.11089065],\n",
       "       [ 0.33758636,  0.45258045,  0.17514096,  0.03469223],\n",
       "       [ 0.14591015,  0.41206656,  0.34519335,  0.09682994]])"
      ]
     },
     "execution_count": 222,
     "metadata": {},
     "output_type": "execute_result"
    }
   ],
   "source": [
    "pdf = np.column_stack((np.ones(N), cdf))\n",
    "for i in range(3):\n",
    "    pdf[:, i] -= pdf[:, i + 1]\n",
    "pdf"
   ]
  },
  {
   "cell_type": "code",
   "execution_count": 223,
   "metadata": {},
   "outputs": [
    {
     "data": {
      "text/plain": [
       "array([2, 2, 1, 2, 1, 1, 1, 2, 1, 2, 2, 1, 2, 2, 2, 2, 2, 1, 1, 1])"
      ]
     },
     "execution_count": 223,
     "metadata": {},
     "output_type": "execute_result"
    }
   ],
   "source": [
    "np.argmax(pdf, axis=1)"
   ]
  },
  {
   "cell_type": "code",
   "execution_count": 61,
   "metadata": {},
   "outputs": [],
   "source": [
    "def logloss(x):\n",
    "    return np.log(1 + np.exp(-x))"
   ]
  },
  {
   "cell_type": "code",
   "execution_count": 64,
   "metadata": {},
   "outputs": [],
   "source": [
    "labels = np.round(np.random.random(N)*3)"
   ]
  },
  {
   "cell_type": "code",
   "execution_count": 74,
   "metadata": {},
   "outputs": [
    {
     "data": {
      "text/plain": [
       "array([ 1.,  3.,  2.,  2.,  0.,  3.,  3.,  3.,  1.,  1.,  1.,  0.,  0.,\n",
       "        2.,  1.,  1.,  0.,  1.,  2.,  2.])"
      ]
     },
     "execution_count": 74,
     "metadata": {},
     "output_type": "execute_result"
    }
   ],
   "source": [
    "labels"
   ]
  },
  {
   "cell_type": "code",
   "execution_count": 90,
   "metadata": {},
   "outputs": [],
   "source": [
    "sgn = np.fromfunction(lambda i, j: 2 * (1 + j < labels[i]) - 1, (N, L - 1), dtype=int)"
   ]
  },
  {
   "cell_type": "code",
   "execution_count": 92,
   "metadata": {},
   "outputs": [],
   "source": [
    "delta = np.outer(Th.dot(x), np.ones(3)) - thresholds"
   ]
  },
  {
   "cell_type": "code",
   "execution_count": 181,
   "metadata": {},
   "outputs": [
    {
     "data": {
      "text/plain": [
       "array([ 2.27768573,  1.02478021,  1.0282167 ,  1.20785977,  2.21483259,\n",
       "        1.23659014,  1.56966178,  1.7360527 ,  2.05443371,  1.44295324,\n",
       "        2.00376447,  1.4911709 ,  1.7712483 ,  1.55937083,  1.29511481,\n",
       "        0.81654143,  1.81876996,  2.08580664,  1.04565353,  1.2909893 ])"
      ]
     },
     "execution_count": 181,
     "metadata": {},
     "output_type": "execute_result"
    }
   ],
   "source": [
    "logloss(sgn * delta).sum(axis=1)"
   ]
  },
  {
   "cell_type": "code",
   "execution_count": 138,
   "metadata": {},
   "outputs": [
    {
     "data": {
      "text/plain": [
       "array([[ 1.,  1.,  1.]], dtype=float32)"
      ]
     },
     "execution_count": 138,
     "metadata": {},
     "output_type": "execute_result"
    }
   ],
   "source": [
    "import tensorflow as tf\n",
    "\n",
    "aa = tf.constant([1., 5., 3.])\n",
    "a = tf.reshape(aa, (3, 1))\n",
    "b = tf.ones([1, 3])\n",
    "b.eval()"
   ]
  },
  {
   "cell_type": "code",
   "execution_count": 135,
   "metadata": {},
   "outputs": [
    {
     "data": {
      "text/plain": [
       "array([[ 1.,  1.,  1.],\n",
       "       [ 5.,  5.,  5.],\n",
       "       [ 3.,  3.,  3.]], dtype=float32)"
      ]
     },
     "execution_count": 135,
     "metadata": {},
     "output_type": "execute_result"
    }
   ],
   "source": [
    "sess = tf.InteractiveSession()\n",
    "sess.run(tf.matmul(a, b))"
   ]
  },
  {
   "cell_type": "code",
   "execution_count": 141,
   "metadata": {},
   "outputs": [
    {
     "data": {
      "text/plain": [
       "(3,)"
      ]
     },
     "execution_count": 141,
     "metadata": {},
     "output_type": "execute_result"
    }
   ],
   "source": [
    "tf.transpose(aa).eval().shape"
   ]
  },
  {
   "cell_type": "code",
   "execution_count": 189,
   "metadata": {},
   "outputs": [],
   "source": [
    "logits = tf.constant(Th.dot(x))\n",
    "thr = tf.cast(tf.constant(thresholds), tf.float64)\n",
    "lab = tf.constant(labels)"
   ]
  },
  {
   "cell_type": "code",
   "execution_count": 190,
   "metadata": {},
   "outputs": [
    {
     "data": {
      "text/plain": [
       "<tf.Tensor 'Const_37:0' shape=(20,) dtype=float64>"
      ]
     },
     "execution_count": 190,
     "metadata": {},
     "output_type": "execute_result"
    }
   ],
   "source": [
    "lab"
   ]
  },
  {
   "cell_type": "code",
   "execution_count": 191,
   "metadata": {},
   "outputs": [
    {
     "data": {
      "text/plain": [
       "array([ 1.,  2.,  4.])"
      ]
     },
     "execution_count": 191,
     "metadata": {},
     "output_type": "execute_result"
    }
   ],
   "source": [
    "thr.eval()"
   ]
  },
  {
   "cell_type": "code",
   "execution_count": 192,
   "metadata": {},
   "outputs": [
    {
     "data": {
      "text/plain": [
       "<tf.Tensor 'Const_35:0' shape=(20,) dtype=float64>"
      ]
     },
     "execution_count": 192,
     "metadata": {},
     "output_type": "execute_result"
    }
   ],
   "source": [
    "logits"
   ]
  },
  {
   "cell_type": "code",
   "execution_count": 193,
   "metadata": {},
   "outputs": [],
   "source": [
    "NB_CLASSES = 4"
   ]
  },
  {
   "cell_type": "code",
   "execution_count": 194,
   "metadata": {},
   "outputs": [],
   "source": [
    "def tf_logloss(x):\n",
    "    return tf.log(1 + tf.exp(-x))"
   ]
  },
  {
   "cell_type": "code",
   "execution_count": 195,
   "metadata": {},
   "outputs": [],
   "source": [
    "def all_thresholds(labels, logits, thresholds):\n",
    "    batch_size = tf.size(labels).eval()\n",
    "    sgn = np.fromfunction(lambda i, j: 2 * (1 + j < labels.eval()[i]) - 1, (batch_size, NB_CLASSES - 1), dtype=int)\n",
    "    delta = tf.matmul(tf.reshape(logits, (batch_size, 1)), tf.ones([1, NB_CLASSES - 1], tf.float64)) - thresholds\n",
    "    return tf.reduce_sum(tf_logloss(sgn * delta), axis=1)"
   ]
  },
  {
   "cell_type": "code",
   "execution_count": 196,
   "metadata": {},
   "outputs": [
    {
     "data": {
      "text/plain": [
       "array([ 2.27768573,  1.02478021,  1.0282167 ,  1.20785977,  2.21483259,\n",
       "        1.23659014,  1.56966178,  1.7360527 ,  2.05443371,  1.44295324,\n",
       "        2.00376447,  1.4911709 ,  1.7712483 ,  1.55937083,  1.29511481,\n",
       "        0.81654143,  1.81876996,  2.08580664,  1.04565353,  1.2909893 ])"
      ]
     },
     "execution_count": 196,
     "metadata": {},
     "output_type": "execute_result"
    }
   ],
   "source": [
    "all_thresholds(lab, logits, thr).eval()"
   ]
  },
  {
   "cell_type": "code",
   "execution_count": 197,
   "metadata": {},
   "outputs": [
    {
     "data": {
      "text/plain": [
       "array([[ 1.10466859,  0.10466859, -1.89533141],\n",
       "       [ 1.18095192,  0.18095192, -1.81904808],\n",
       "       [ 0.20067352, -0.79932648, -2.79932648],\n",
       "       [ 1.18566875,  0.18566875, -1.81433125],\n",
       "       [ 1.05962956,  0.05962956, -1.94037044],\n",
       "       [ 0.8505688 , -0.1494312 , -2.1494312 ],\n",
       "       [ 0.45448788, -0.54551212, -2.54551212],\n",
       "       [ 0.28697738, -0.71302262, -2.71302262],\n",
       "       [ 0.94084964, -0.05915036, -2.05915036],\n",
       "       [ 0.42024704, -0.57975296, -2.57975296],\n",
       "       [ 0.9020796 , -0.0979204 , -2.0979204 ],\n",
       "       [ 0.46637309, -0.53362691, -2.53362691],\n",
       "       [ 0.71527384, -0.28472616, -2.28472616],\n",
       "       [ 1.76366136,  0.76366136, -1.23633864],\n",
       "       [ 0.27143715, -0.72856285, -2.72856285],\n",
       "       [-0.32244028, -1.32244028, -3.32244028],\n",
       "       [ 0.7547402 , -0.2452598 , -2.2452598 ],\n",
       "       [ 0.96454238, -0.03545762, -2.03545762],\n",
       "       [ 0.65705564, -0.34294436, -2.34294436],\n",
       "       [ 1.35262482,  0.35262482, -1.64737518]])"
      ]
     },
     "execution_count": 197,
     "metadata": {},
     "output_type": "execute_result"
    }
   ],
   "source": [
    "delta"
   ]
  },
  {
   "cell_type": "code",
   "execution_count": null,
   "metadata": {},
   "outputs": [],
   "source": []
  }
 ],
 "metadata": {
  "kernelspec": {
   "display_name": "Python 3",
   "language": "python",
   "name": "python3"
  },
  "language_info": {
   "codemirror_mode": {
    "name": "ipython",
    "version": 3
   },
   "file_extension": ".py",
   "mimetype": "text/x-python",
   "name": "python",
   "nbconvert_exporter": "python",
   "pygments_lexer": "ipython3",
   "version": "3.6.4"
  }
 },
 "nbformat": 4,
 "nbformat_minor": 2
}
