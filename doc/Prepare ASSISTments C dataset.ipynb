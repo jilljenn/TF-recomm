{
 "cells": [
  {
   "cell_type": "code",
   "execution_count": 1,
   "metadata": {},
   "outputs": [],
   "source": [
    "import numpy as np\n",
    "import pandas as pd"
   ]
  },
  {
   "cell_type": "code",
   "execution_count": 2,
   "metadata": {},
   "outputs": [],
   "source": [
    "from collections import Counter\n",
    "\n",
    "acc_wins = Counter()\n",
    "acc_fails = Counter()"
   ]
  },
  {
   "cell_type": "code",
   "execution_count": 3,
   "metadata": {},
   "outputs": [],
   "source": [
    "with open('/Users/jilljenn/code/TF-recomm/data/0910_c_train.csv') as f:\n",
    "    train_lines = f.read().splitlines()\n",
    "with open('/Users/jilljenn/code/TF-recomm/data/0910_c_test.csv') as f:\n",
    "    test_lines = f.read().splitlines()"
   ]
  },
  {
   "cell_type": "code",
   "execution_count": 4,
   "metadata": {},
   "outputs": [],
   "source": [
    "def lines_to_df(lines, start_id=0):\n",
    "    nb_users = len(lines) // 3\n",
    "    user_ids = []\n",
    "    item_ids = []\n",
    "    outcomes = []\n",
    "    nb_wins = []\n",
    "    nb_fails = []\n",
    "    for user_id in range(nb_users):\n",
    "        acc_wins.clear()\n",
    "        acc_fails.clear()\n",
    "        nb = int(lines[3 * user_id])\n",
    "        user_item_ids = list(map(int, lines[3 * user_id + 1].split(',')))\n",
    "        user_outcomes = list(map(int, lines[3 * user_id + 2].split(',')))\n",
    "        user_ids.extend([start_id + user_id] * nb)\n",
    "        item_ids.extend(user_item_ids)\n",
    "        outcomes.extend(user_outcomes)\n",
    "        for item_id, outcome in zip(user_item_ids, user_outcomes):\n",
    "            nb_wins.append(acc_wins[item_id])\n",
    "            nb_fails.append(acc_fails[item_id])\n",
    "            if outcome == 1:\n",
    "                acc_wins[item_id] += 1\n",
    "            else:\n",
    "                acc_fails[item_id] += 1\n",
    "    return nb_users, pd.DataFrame(np.column_stack((user_ids, item_ids, outcomes, nb_wins, nb_fails)), columns=('user_id', 'item_id', 'outcome', 'wins', 'fails'))"
   ]
  },
  {
   "cell_type": "code",
   "execution_count": 5,
   "metadata": {},
   "outputs": [],
   "source": [
    "nb_users, train = lines_to_df(train_lines)"
   ]
  },
  {
   "cell_type": "code",
   "execution_count": 6,
   "metadata": {},
   "outputs": [
    {
     "data": {
      "text/plain": [
       "3372"
      ]
     },
     "execution_count": 6,
     "metadata": {},
     "output_type": "execute_result"
    }
   ],
   "source": [
    "nb_users\n",
    "#test = lines_to_df(test_lines)"
   ]
  },
  {
   "cell_type": "code",
   "execution_count": 7,
   "metadata": {},
   "outputs": [],
   "source": [
    "nb_test_users, test = lines_to_df(test_lines, start_id=nb_users)"
   ]
  },
  {
   "cell_type": "code",
   "execution_count": 8,
   "metadata": {},
   "outputs": [
    {
     "data": {
      "text/html": [
       "<div>\n",
       "<style>\n",
       "    .dataframe thead tr:only-child th {\n",
       "        text-align: right;\n",
       "    }\n",
       "\n",
       "    .dataframe thead th {\n",
       "        text-align: left;\n",
       "    }\n",
       "\n",
       "    .dataframe tbody tr th {\n",
       "        vertical-align: top;\n",
       "    }\n",
       "</style>\n",
       "<table border=\"1\" class=\"dataframe\">\n",
       "  <thead>\n",
       "    <tr style=\"text-align: right;\">\n",
       "      <th></th>\n",
       "      <th>user_id</th>\n",
       "      <th>item_id</th>\n",
       "      <th>outcome</th>\n",
       "      <th>wins</th>\n",
       "      <th>fails</th>\n",
       "    </tr>\n",
       "  </thead>\n",
       "  <tbody>\n",
       "    <tr>\n",
       "      <th>52418</th>\n",
       "      <td>4215</td>\n",
       "      <td>26</td>\n",
       "      <td>1</td>\n",
       "      <td>3</td>\n",
       "      <td>5</td>\n",
       "    </tr>\n",
       "    <tr>\n",
       "      <th>52419</th>\n",
       "      <td>4215</td>\n",
       "      <td>27</td>\n",
       "      <td>0</td>\n",
       "      <td>0</td>\n",
       "      <td>5</td>\n",
       "    </tr>\n",
       "    <tr>\n",
       "      <th>52420</th>\n",
       "      <td>4215</td>\n",
       "      <td>93</td>\n",
       "      <td>0</td>\n",
       "      <td>0</td>\n",
       "      <td>0</td>\n",
       "    </tr>\n",
       "    <tr>\n",
       "      <th>52421</th>\n",
       "      <td>4215</td>\n",
       "      <td>93</td>\n",
       "      <td>0</td>\n",
       "      <td>0</td>\n",
       "      <td>1</td>\n",
       "    </tr>\n",
       "    <tr>\n",
       "      <th>52422</th>\n",
       "      <td>4215</td>\n",
       "      <td>27</td>\n",
       "      <td>1</td>\n",
       "      <td>0</td>\n",
       "      <td>6</td>\n",
       "    </tr>\n",
       "  </tbody>\n",
       "</table>\n",
       "</div>"
      ],
      "text/plain": [
       "       user_id  item_id  outcome  wins  fails\n",
       "52418     4215       26        1     3      5\n",
       "52419     4215       27        0     0      5\n",
       "52420     4215       93        0     0      0\n",
       "52421     4215       93        0     0      1\n",
       "52422     4215       27        1     0      6"
      ]
     },
     "execution_count": 8,
     "metadata": {},
     "output_type": "execute_result"
    }
   ],
   "source": [
    "test.tail()"
   ]
  },
  {
   "cell_type": "code",
   "execution_count": 9,
   "metadata": {},
   "outputs": [],
   "source": [
    "from sklearn.model_selection import train_test_split\n",
    "\n",
    "subtrain, val = train_test_split(train, test_size=0.1)"
   ]
  },
  {
   "cell_type": "code",
   "execution_count": 10,
   "metadata": {},
   "outputs": [],
   "source": [
    "subtrain.to_csv('/tmp/train.csv', header=False, index=False)\n",
    "val.to_csv('/tmp/val.csv', header=False, index=False)"
   ]
  },
  {
   "cell_type": "code",
   "execution_count": 11,
   "metadata": {},
   "outputs": [],
   "source": [
    "test.to_csv('/tmp/test.csv', header=False, index=False)"
   ]
  },
  {
   "cell_type": "code",
   "execution_count": 12,
   "metadata": {},
   "outputs": [],
   "source": [
    "import yaml\n",
    "\n",
    "with open('/tmp/config.yml', 'w') as f:\n",
    "    config = {\n",
    "        'USER_NUM': 1 + test['user_id'].max(),\n",
    "        'ITEM_NUM': 1 + test['item_id'].max(),\n",
    "        'NB_CLASSES': 2,\n",
    "        'BATCH_SIZE': len(subtrain)\n",
    "    }\n",
    "    f.write(yaml.dump(config, default_flow_style=False))"
   ]
  },
  {
   "cell_type": "code",
   "execution_count": 13,
   "metadata": {},
   "outputs": [
    {
     "data": {
      "text/plain": [
       "(0, 145, 0, 145)"
      ]
     },
     "execution_count": 13,
     "metadata": {},
     "output_type": "execute_result"
    }
   ],
   "source": [
    "test['item_id'].min(), test['item_id'].max(), train['item_id'].min(), train['item_id'].max()"
   ]
  },
  {
   "cell_type": "code",
   "execution_count": 15,
   "metadata": {},
   "outputs": [
    {
     "data": {
      "text/plain": [
       "(200477, 22276, 52423)"
      ]
     },
     "execution_count": 15,
     "metadata": {},
     "output_type": "execute_result"
    }
   ],
   "source": [
    "len(subtrain), len(val), len(test)"
   ]
  }
 ],
 "metadata": {
  "kernelspec": {
   "display_name": "Python 3",
   "language": "python",
   "name": "python3"
  },
  "language_info": {
   "codemirror_mode": {
    "name": "ipython",
    "version": 3
   },
   "file_extension": ".py",
   "mimetype": "text/x-python",
   "name": "python",
   "nbconvert_exporter": "python",
   "pygments_lexer": "ipython3",
   "version": "3.6.4"
  }
 },
 "nbformat": 4,
 "nbformat_minor": 2
}
